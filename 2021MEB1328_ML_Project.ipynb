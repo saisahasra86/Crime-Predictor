{
  "metadata": {
    "kernelspec": {
      "language": "python",
      "display_name": "Python 3",
      "name": "python3"
    },
    "language_info": {
      "name": "python",
      "version": "3.10.13",
      "mimetype": "text/x-python",
      "codemirror_mode": {
        "name": "ipython",
        "version": 3
      },
      "pygments_lexer": "ipython3",
      "nbconvert_exporter": "python",
      "file_extension": ".py"
    },
    "kaggle": {
      "accelerator": "none",
      "dataSources": [
        {
          "sourceId": 77420,
          "databundleVersionId": 8446444,
          "sourceType": "competition"
        }
      ],
      "dockerImageVersionId": 30732,
      "isInternetEnabled": true,
      "language": "python",
      "sourceType": "notebook",
      "isGpuEnabled": false
    },
    "colab": {
      "name": "21f2000255-notebook-t22024",
      "provenance": []
    }
  },
  "nbformat_minor": 0,
  "nbformat": 4,
  "cells": [
    {
      "cell_type": "code",
      "source": [
        "# Importing Numpy and Pandas\n",
        "import numpy as np\n",
        "import pandas as pd\n",
        "\n",
        "# Setting column display limit to 100\n",
        "pd.set_option(\"display.max_columns\",100)\n",
        "\n",
        "# Importing matplotlib and seaborn for doing EDA\n",
        "import matplotlib.pyplot as plt\n",
        "import seaborn as sns\n",
        "\n",
        "# Preprocessiong\n",
        "from sklearn.preprocessing import MinMaxScaler, LabelEncoder, OneHotEncoder, MultiLabelBinarizer, FunctionTransformer\n",
        "from sklearn.decomposition import PCA\n",
        "\n",
        "from sklearn.model_selection import train_test_split, GridSearchCV, RandomizedSearchCV\n",
        "\n",
        "# Model Training\n",
        "from sklearn.linear_model import RidgeClassifier, LogisticRegression, SGDClassifier\n",
        "from sklearn.tree import DecisionTreeClassifier\n",
        "from sklearn.ensemble import GradientBoostingClassifier, RandomForestClassifier, AdaBoostClassifier, BaggingClassifier, ExtraTreesClassifier\n",
        "from sklearn.neighbors import KNeighborsClassifier\n",
        "from sklearn.svm import SVC\n",
        "from sklearn.neural_network import MLPClassifier\n",
        "import xgboost as xgb\n",
        "import lightgbm as lgb\n",
        "\n",
        "# Scoring\n",
        "from sklearn.metrics import accuracy_score, classification_report, ConfusionMatrixDisplay\n",
        "\n",
        "# Extra Useful Libraries\n",
        "from sklearn.pipeline import Pipeline\n",
        "from sklearn.compose import ColumnTransformer"
      ],
      "metadata": {
        "execution": {
          "iopub.status.busy": "2024-08-13T04:32:35.6696Z",
          "iopub.execute_input": "2024-08-13T04:32:35.669971Z",
          "iopub.status.idle": "2024-08-13T04:32:41.129958Z",
          "shell.execute_reply.started": "2024-08-13T04:32:35.669942Z",
          "shell.execute_reply": "2024-08-13T04:32:41.128542Z"
        },
        "trusted": true,
        "id": "8ZcqaR1ZjKgM"
      },
      "execution_count": 641,
      "outputs": []
    },
    {
      "cell_type": "code",
      "source": [
        "# impport train data from CSV\n",
        "def import_data(file_path):\n",
        "    dataset=pd.read_csv(file_path)\n",
        "    return dataset"
      ],
      "metadata": {
        "id": "BvRrLp4OlBjz"
      },
      "execution_count": 642,
      "outputs": []
    },
    {
      "cell_type": "code",
      "source": [
        "# check the train data\n",
        "train=import_data('train.csv')\n",
        "print(train.head())"
      ],
      "metadata": {
        "colab": {
          "base_uri": "https://localhost:8080/"
        },
        "id": "tXUhC1wKlIYl",
        "outputId": "b1bba021-a106-429f-f8d1-bbd1d0783aa5"
      },
      "execution_count": 643,
      "outputs": [
        {
          "output_type": "stream",
          "name": "stdout",
          "text": [
            "                                   Location                     Cross_Street  \\\n",
            "0   4500    CARPENTER                    AV                              NaN   \n",
            "1           45TH                         ST  ALAMEDA                      ST   \n",
            "2    600 E  MARTIN LUTHER KING JR        BL                              NaN   \n",
            "3  14900    ORO GRANDE                   ST                              NaN   \n",
            "4   7100 S  VERMONT                      AV                              NaN   \n",
            "\n",
            "   Latitude  Longitude           Date_Reported           Date_Occurred  \\\n",
            "0   34.1522  -118.3910  03/09/2020 12:00:00 AM  03/06/2020 12:00:00 AM   \n",
            "1   34.0028  -118.2391  02/27/2020 12:00:00 AM  02/27/2020 12:00:00 AM   \n",
            "2   34.0111  -118.2653  08/21/2020 12:00:00 AM  08/21/2020 12:00:00 AM   \n",
            "3   34.2953  -118.4590  11/08/2020 12:00:00 AM  11/06/2020 12:00:00 AM   \n",
            "4   33.9787  -118.2918  02/25/2020 12:00:00 AM  02/25/2020 12:00:00 AM   \n",
            "\n",
            "   Time_Occurred  Area_ID    Area_Name  Reporting_District_no  Part 1-2  \\\n",
            "0         1800.0     15.0  N Hollywood                 1563.0       1.0   \n",
            "1         1345.0     13.0       Newton                 1367.0       1.0   \n",
            "2          605.0     13.0       Newton                 1343.0       2.0   \n",
            "3         1800.0     19.0      Mission                 1924.0       1.0   \n",
            "4         1130.0     12.0  77th Street                 1245.0       1.0   \n",
            "\n",
            "                            Modus_Operandi  Victim_Age Victim_Sex  \\\n",
            "0                                     0385        75.0          M   \n",
            "1  0906 0352 0371 0446 1822 0344 0416 0417        41.0          M   \n",
            "2                                0329 1202        67.0          M   \n",
            "3                                0329 1300        61.0          M   \n",
            "4            0416 0945 1822 0400 0417 0344         0.0          X   \n",
            "\n",
            "  Victim_Descent  Premise_Code     Premise_Description  Weapon_Used_Code  \\\n",
            "0              W         101.0                  STREET               NaN   \n",
            "1              H         216.0               SWAP MEET             400.0   \n",
            "2              B         501.0  SINGLE FAMILY DWELLING               NaN   \n",
            "3              H         101.0                  STREET               NaN   \n",
            "4              X         401.0               MINI-MART             400.0   \n",
            "\n",
            "                               Weapon_Description Status Status_Description  \\\n",
            "0                                             NaN     IC        Invest Cont   \n",
            "1  STRONG-ARM (HANDS, FIST, FEET OR BODILY FORCE)     IC        Invest Cont   \n",
            "2                                             NaN     IC        Invest Cont   \n",
            "3                                             NaN     IC        Invest Cont   \n",
            "4  STRONG-ARM (HANDS, FIST, FEET OR BODILY FORCE)     IC        Invest Cont   \n",
            "\n",
            "    Crime_Category  \n",
            "0  Property Crimes  \n",
            "1  Property Crimes  \n",
            "2  Property Crimes  \n",
            "3  Property Crimes  \n",
            "4  Property Crimes  \n"
          ]
        }
      ]
    },
    {
      "cell_type": "code",
      "source": [
        "# check the test data\n",
        "test=import_data('test.csv')\n",
        "print(test.head())"
      ],
      "metadata": {
        "colab": {
          "base_uri": "https://localhost:8080/"
        },
        "id": "uFwM7xwDlQBz",
        "outputId": "8a03fa03-c9f8-4a55-8d06-69ee8a373929"
      },
      "execution_count": 644,
      "outputs": [
        {
          "output_type": "stream",
          "name": "stdout",
          "text": [
            "                                   Location Cross_Street  Latitude  Longitude  \\\n",
            "0   1500    LEIGHTON                     AV          NaN   34.0128  -118.3045   \n",
            "1    100 S  NORMANDIE                    AV          NaN   34.0726  -118.3029   \n",
            "2    300 E  111TH                        ST          NaN   33.9348  -118.2695   \n",
            "3   1300 S  LA BREA                      AV          NaN   34.0497  -118.3442   \n",
            "4  11000    MORRISON                     ST          NaN   34.1611  -118.3704   \n",
            "\n",
            "            Date_Reported           Date_Occurred  Time_Occurred  Area_ID  \\\n",
            "0  03/03/2020 12:00:00 AM  03/03/2020 12:00:00 AM         2000.0      3.0   \n",
            "1  06/01/2020 12:00:00 AM  04/25/2020 12:00:00 AM         1700.0     20.0   \n",
            "2  08/28/2020 12:00:00 AM  08/27/2020 12:00:00 AM          900.0     18.0   \n",
            "3  12/23/2020 12:00:00 AM  12/03/2020 12:00:00 AM         2200.0      7.0   \n",
            "4  08/30/2020 12:00:00 AM  08/29/2020 12:00:00 AM          130.0     15.0   \n",
            "\n",
            "     Area_Name  Reporting_District_no  Part 1-2  \\\n",
            "0    Southwest                  376.0       2.0   \n",
            "1      Olympic                 2014.0       1.0   \n",
            "2    Southeast                 1844.0       2.0   \n",
            "3     Wilshire                  765.0       1.0   \n",
            "4  N Hollywood                 1555.0       2.0   \n",
            "\n",
            "                  Modus_Operandi  Victim_Age Victim_Sex Victim_Descent  \\\n",
            "0  0416 1241 1243 1813 1821 2000        28.0          F              H   \n",
            "1                      0344 0394        26.0          M              B   \n",
            "2  1822 0701 1914 0355 1202 0100        62.0          F              B   \n",
            "3                            NaN         0.0        NaN            NaN   \n",
            "4                           1501        37.0          F              W   \n",
            "\n",
            "   Premise_Code                           Premise_Description  \\\n",
            "0         501.0                        SINGLE FAMILY DWELLING   \n",
            "1         502.0  MULTI-UNIT DWELLING (APARTMENT, DUPLEX, ETC)   \n",
            "2         721.0                                   HIGH SCHOOL   \n",
            "3         108.0                                   PARKING LOT   \n",
            "4         501.0                        SINGLE FAMILY DWELLING   \n",
            "\n",
            "   Weapon_Used_Code                              Weapon_Description Status  \\\n",
            "0             400.0  STRONG-ARM (HANDS, FIST, FEET OR BODILY FORCE)     IC   \n",
            "1               NaN                                             NaN     IC   \n",
            "2               NaN                                             NaN     IC   \n",
            "3               NaN                                             NaN     IC   \n",
            "4               NaN                                             NaN     AO   \n",
            "\n",
            "  Status_Description  \n",
            "0        Invest Cont  \n",
            "1        Invest Cont  \n",
            "2        Invest Cont  \n",
            "3        Invest Cont  \n",
            "4        Adult Other  \n"
          ]
        }
      ]
    },
    {
      "cell_type": "markdown",
      "source": [
        "# 2. Loading The Data Sets"
      ],
      "metadata": {
        "id": "CJhBzWmOjKgN"
      }
    },
    {
      "cell_type": "markdown",
      "source": [
        "# 3. Exploratory Data Analysis"
      ],
      "metadata": {
        "id": "3rJGPH8_jKgQ"
      }
    },
    {
      "cell_type": "markdown",
      "source": [
        "## 3.1 - Data Description"
      ],
      "metadata": {
        "id": "y9CaX1i-jKgS"
      }
    },
    {
      "cell_type": "markdown",
      "source": [
        "- Location: Street address of the crime incident.\n",
        "- Cross_Street: Cross street of the rounded address.\n",
        "- Latitude: Latitude coordinates of the crime incident.\n",
        "- Longitude: Longitude coordinates of the crime incident.\n",
        "- Date_Reported: Date the incident was reported.\n",
        "- Date_Occurred: Date the incident occurred.\n",
        "- Time_Occurred: Time the incident occurred in 24-hour military time.\n",
        "- Area_ID: LAPD's Geographic Area number.\n",
        "- Area_Name: Name designation of the LAPD Geographic Area.\n",
        "- Reporting_District_no: Reporting district number.\n",
        "- Part 1-2: Crime classification.\n",
        "- Modus_Operandi: Activities associated with the suspect.\n",
        "- Victim_Age: Age of the victim.\n",
        "- Victim_Sex: Gender of the victim.\n",
        "- Victim_Descent: Descent code of the victim.\n",
        "- Premise_Code: Premise code indicating the location of the crime.\n",
        "- Premise_Description: Description of the premise code.\n",
        "- Weapon_Used_Code: Weapon code indicating the type of weapon used.\n",
        "- Weapon_Description: Description of the weapon code.\n",
        "- Status: Status of the case.\n",
        "- Status_Description: Description of the status code.\n",
        "- Crime_Category: The category of the crime (Target Variable).\n"
      ],
      "metadata": {
        "id": "adRLXsCkjKgU"
      }
    },
    {
      "cell_type": "code",
      "source": [
        "# Checking The shapes of train data\n",
        "print(f\"Train Data Shape : {train.shape}\")\n",
        "\n",
        "# Checking The shapes of test data\n",
        "print(f\"Test Data Shape : {test.shape}\")"
      ],
      "metadata": {
        "execution": {
          "iopub.status.busy": "2024-08-09T19:22:43.411509Z",
          "iopub.execute_input": "2024-08-09T19:22:43.411952Z",
          "iopub.status.idle": "2024-08-09T19:22:43.418276Z",
          "shell.execute_reply.started": "2024-08-09T19:22:43.411917Z",
          "shell.execute_reply": "2024-08-09T19:22:43.416958Z"
        },
        "trusted": true,
        "colab": {
          "base_uri": "https://localhost:8080/"
        },
        "id": "tpgg7C51jKgV",
        "outputId": "ccbd6da3-b583-48f6-ad45-9e45c833affa"
      },
      "execution_count": 645,
      "outputs": [
        {
          "output_type": "stream",
          "name": "stdout",
          "text": [
            "Train Data Shape : (20000, 22)\n",
            "Test Data Shape : (5000, 21)\n"
          ]
        }
      ]
    },
    {
      "cell_type": "markdown",
      "source": [
        "## 3.2 - Train Data"
      ],
      "metadata": {
        "id": "4w3RWP5FjKgV"
      }
    },
    {
      "cell_type": "code",
      "source": [
        "train.head()"
      ],
      "metadata": {
        "execution": {
          "iopub.status.busy": "2024-08-09T19:22:46.326177Z",
          "iopub.execute_input": "2024-08-09T19:22:46.327315Z",
          "iopub.status.idle": "2024-08-09T19:22:46.366837Z",
          "shell.execute_reply.started": "2024-08-09T19:22:46.327276Z",
          "shell.execute_reply": "2024-08-09T19:22:46.365368Z"
        },
        "trusted": true,
        "colab": {
          "base_uri": "https://localhost:8080/",
          "height": 417
        },
        "id": "P4glI9S3jKgW",
        "outputId": "76a3b1b0-bb2d-420d-cb09-aeaf21f895ab"
      },
      "execution_count": 646,
      "outputs": [
        {
          "output_type": "execute_result",
          "data": {
            "text/plain": [
              "                                   Location                     Cross_Street  \\\n",
              "0   4500    CARPENTER                    AV                              NaN   \n",
              "1           45TH                         ST  ALAMEDA                      ST   \n",
              "2    600 E  MARTIN LUTHER KING JR        BL                              NaN   \n",
              "3  14900    ORO GRANDE                   ST                              NaN   \n",
              "4   7100 S  VERMONT                      AV                              NaN   \n",
              "\n",
              "   Latitude  Longitude           Date_Reported           Date_Occurred  \\\n",
              "0   34.1522  -118.3910  03/09/2020 12:00:00 AM  03/06/2020 12:00:00 AM   \n",
              "1   34.0028  -118.2391  02/27/2020 12:00:00 AM  02/27/2020 12:00:00 AM   \n",
              "2   34.0111  -118.2653  08/21/2020 12:00:00 AM  08/21/2020 12:00:00 AM   \n",
              "3   34.2953  -118.4590  11/08/2020 12:00:00 AM  11/06/2020 12:00:00 AM   \n",
              "4   33.9787  -118.2918  02/25/2020 12:00:00 AM  02/25/2020 12:00:00 AM   \n",
              "\n",
              "   Time_Occurred  Area_ID    Area_Name  Reporting_District_no  Part 1-2  \\\n",
              "0         1800.0     15.0  N Hollywood                 1563.0       1.0   \n",
              "1         1345.0     13.0       Newton                 1367.0       1.0   \n",
              "2          605.0     13.0       Newton                 1343.0       2.0   \n",
              "3         1800.0     19.0      Mission                 1924.0       1.0   \n",
              "4         1130.0     12.0  77th Street                 1245.0       1.0   \n",
              "\n",
              "                            Modus_Operandi  Victim_Age Victim_Sex  \\\n",
              "0                                     0385        75.0          M   \n",
              "1  0906 0352 0371 0446 1822 0344 0416 0417        41.0          M   \n",
              "2                                0329 1202        67.0          M   \n",
              "3                                0329 1300        61.0          M   \n",
              "4            0416 0945 1822 0400 0417 0344         0.0          X   \n",
              "\n",
              "  Victim_Descent  Premise_Code     Premise_Description  Weapon_Used_Code  \\\n",
              "0              W         101.0                  STREET               NaN   \n",
              "1              H         216.0               SWAP MEET             400.0   \n",
              "2              B         501.0  SINGLE FAMILY DWELLING               NaN   \n",
              "3              H         101.0                  STREET               NaN   \n",
              "4              X         401.0               MINI-MART             400.0   \n",
              "\n",
              "                               Weapon_Description Status Status_Description  \\\n",
              "0                                             NaN     IC        Invest Cont   \n",
              "1  STRONG-ARM (HANDS, FIST, FEET OR BODILY FORCE)     IC        Invest Cont   \n",
              "2                                             NaN     IC        Invest Cont   \n",
              "3                                             NaN     IC        Invest Cont   \n",
              "4  STRONG-ARM (HANDS, FIST, FEET OR BODILY FORCE)     IC        Invest Cont   \n",
              "\n",
              "    Crime_Category  \n",
              "0  Property Crimes  \n",
              "1  Property Crimes  \n",
              "2  Property Crimes  \n",
              "3  Property Crimes  \n",
              "4  Property Crimes  "
            ],
            "text/html": [
              "\n",
              "  <div id=\"df-f68d765e-a844-4355-9c2c-88aff44be17d\" class=\"colab-df-container\">\n",
              "    <div>\n",
              "<style scoped>\n",
              "    .dataframe tbody tr th:only-of-type {\n",
              "        vertical-align: middle;\n",
              "    }\n",
              "\n",
              "    .dataframe tbody tr th {\n",
              "        vertical-align: top;\n",
              "    }\n",
              "\n",
              "    .dataframe thead th {\n",
              "        text-align: right;\n",
              "    }\n",
              "</style>\n",
              "<table border=\"1\" class=\"dataframe\">\n",
              "  <thead>\n",
              "    <tr style=\"text-align: right;\">\n",
              "      <th></th>\n",
              "      <th>Location</th>\n",
              "      <th>Cross_Street</th>\n",
              "      <th>Latitude</th>\n",
              "      <th>Longitude</th>\n",
              "      <th>Date_Reported</th>\n",
              "      <th>Date_Occurred</th>\n",
              "      <th>Time_Occurred</th>\n",
              "      <th>Area_ID</th>\n",
              "      <th>Area_Name</th>\n",
              "      <th>Reporting_District_no</th>\n",
              "      <th>Part 1-2</th>\n",
              "      <th>Modus_Operandi</th>\n",
              "      <th>Victim_Age</th>\n",
              "      <th>Victim_Sex</th>\n",
              "      <th>Victim_Descent</th>\n",
              "      <th>Premise_Code</th>\n",
              "      <th>Premise_Description</th>\n",
              "      <th>Weapon_Used_Code</th>\n",
              "      <th>Weapon_Description</th>\n",
              "      <th>Status</th>\n",
              "      <th>Status_Description</th>\n",
              "      <th>Crime_Category</th>\n",
              "    </tr>\n",
              "  </thead>\n",
              "  <tbody>\n",
              "    <tr>\n",
              "      <th>0</th>\n",
              "      <td>4500    CARPENTER                    AV</td>\n",
              "      <td>NaN</td>\n",
              "      <td>34.1522</td>\n",
              "      <td>-118.3910</td>\n",
              "      <td>03/09/2020 12:00:00 AM</td>\n",
              "      <td>03/06/2020 12:00:00 AM</td>\n",
              "      <td>1800.0</td>\n",
              "      <td>15.0</td>\n",
              "      <td>N Hollywood</td>\n",
              "      <td>1563.0</td>\n",
              "      <td>1.0</td>\n",
              "      <td>0385</td>\n",
              "      <td>75.0</td>\n",
              "      <td>M</td>\n",
              "      <td>W</td>\n",
              "      <td>101.0</td>\n",
              "      <td>STREET</td>\n",
              "      <td>NaN</td>\n",
              "      <td>NaN</td>\n",
              "      <td>IC</td>\n",
              "      <td>Invest Cont</td>\n",
              "      <td>Property Crimes</td>\n",
              "    </tr>\n",
              "    <tr>\n",
              "      <th>1</th>\n",
              "      <td>45TH                         ST</td>\n",
              "      <td>ALAMEDA                      ST</td>\n",
              "      <td>34.0028</td>\n",
              "      <td>-118.2391</td>\n",
              "      <td>02/27/2020 12:00:00 AM</td>\n",
              "      <td>02/27/2020 12:00:00 AM</td>\n",
              "      <td>1345.0</td>\n",
              "      <td>13.0</td>\n",
              "      <td>Newton</td>\n",
              "      <td>1367.0</td>\n",
              "      <td>1.0</td>\n",
              "      <td>0906 0352 0371 0446 1822 0344 0416 0417</td>\n",
              "      <td>41.0</td>\n",
              "      <td>M</td>\n",
              "      <td>H</td>\n",
              "      <td>216.0</td>\n",
              "      <td>SWAP MEET</td>\n",
              "      <td>400.0</td>\n",
              "      <td>STRONG-ARM (HANDS, FIST, FEET OR BODILY FORCE)</td>\n",
              "      <td>IC</td>\n",
              "      <td>Invest Cont</td>\n",
              "      <td>Property Crimes</td>\n",
              "    </tr>\n",
              "    <tr>\n",
              "      <th>2</th>\n",
              "      <td>600 E  MARTIN LUTHER KING JR        BL</td>\n",
              "      <td>NaN</td>\n",
              "      <td>34.0111</td>\n",
              "      <td>-118.2653</td>\n",
              "      <td>08/21/2020 12:00:00 AM</td>\n",
              "      <td>08/21/2020 12:00:00 AM</td>\n",
              "      <td>605.0</td>\n",
              "      <td>13.0</td>\n",
              "      <td>Newton</td>\n",
              "      <td>1343.0</td>\n",
              "      <td>2.0</td>\n",
              "      <td>0329 1202</td>\n",
              "      <td>67.0</td>\n",
              "      <td>M</td>\n",
              "      <td>B</td>\n",
              "      <td>501.0</td>\n",
              "      <td>SINGLE FAMILY DWELLING</td>\n",
              "      <td>NaN</td>\n",
              "      <td>NaN</td>\n",
              "      <td>IC</td>\n",
              "      <td>Invest Cont</td>\n",
              "      <td>Property Crimes</td>\n",
              "    </tr>\n",
              "    <tr>\n",
              "      <th>3</th>\n",
              "      <td>14900    ORO GRANDE                   ST</td>\n",
              "      <td>NaN</td>\n",
              "      <td>34.2953</td>\n",
              "      <td>-118.4590</td>\n",
              "      <td>11/08/2020 12:00:00 AM</td>\n",
              "      <td>11/06/2020 12:00:00 AM</td>\n",
              "      <td>1800.0</td>\n",
              "      <td>19.0</td>\n",
              "      <td>Mission</td>\n",
              "      <td>1924.0</td>\n",
              "      <td>1.0</td>\n",
              "      <td>0329 1300</td>\n",
              "      <td>61.0</td>\n",
              "      <td>M</td>\n",
              "      <td>H</td>\n",
              "      <td>101.0</td>\n",
              "      <td>STREET</td>\n",
              "      <td>NaN</td>\n",
              "      <td>NaN</td>\n",
              "      <td>IC</td>\n",
              "      <td>Invest Cont</td>\n",
              "      <td>Property Crimes</td>\n",
              "    </tr>\n",
              "    <tr>\n",
              "      <th>4</th>\n",
              "      <td>7100 S  VERMONT                      AV</td>\n",
              "      <td>NaN</td>\n",
              "      <td>33.9787</td>\n",
              "      <td>-118.2918</td>\n",
              "      <td>02/25/2020 12:00:00 AM</td>\n",
              "      <td>02/25/2020 12:00:00 AM</td>\n",
              "      <td>1130.0</td>\n",
              "      <td>12.0</td>\n",
              "      <td>77th Street</td>\n",
              "      <td>1245.0</td>\n",
              "      <td>1.0</td>\n",
              "      <td>0416 0945 1822 0400 0417 0344</td>\n",
              "      <td>0.0</td>\n",
              "      <td>X</td>\n",
              "      <td>X</td>\n",
              "      <td>401.0</td>\n",
              "      <td>MINI-MART</td>\n",
              "      <td>400.0</td>\n",
              "      <td>STRONG-ARM (HANDS, FIST, FEET OR BODILY FORCE)</td>\n",
              "      <td>IC</td>\n",
              "      <td>Invest Cont</td>\n",
              "      <td>Property Crimes</td>\n",
              "    </tr>\n",
              "  </tbody>\n",
              "</table>\n",
              "</div>\n",
              "    <div class=\"colab-df-buttons\">\n",
              "\n",
              "  <div class=\"colab-df-container\">\n",
              "    <button class=\"colab-df-convert\" onclick=\"convertToInteractive('df-f68d765e-a844-4355-9c2c-88aff44be17d')\"\n",
              "            title=\"Convert this dataframe to an interactive table.\"\n",
              "            style=\"display:none;\">\n",
              "\n",
              "  <svg xmlns=\"http://www.w3.org/2000/svg\" height=\"24px\" viewBox=\"0 -960 960 960\">\n",
              "    <path d=\"M120-120v-720h720v720H120Zm60-500h600v-160H180v160Zm220 220h160v-160H400v160Zm0 220h160v-160H400v160ZM180-400h160v-160H180v160Zm440 0h160v-160H620v160ZM180-180h160v-160H180v160Zm440 0h160v-160H620v160Z\"/>\n",
              "  </svg>\n",
              "    </button>\n",
              "\n",
              "  <style>\n",
              "    .colab-df-container {\n",
              "      display:flex;\n",
              "      gap: 12px;\n",
              "    }\n",
              "\n",
              "    .colab-df-convert {\n",
              "      background-color: #E8F0FE;\n",
              "      border: none;\n",
              "      border-radius: 50%;\n",
              "      cursor: pointer;\n",
              "      display: none;\n",
              "      fill: #1967D2;\n",
              "      height: 32px;\n",
              "      padding: 0 0 0 0;\n",
              "      width: 32px;\n",
              "    }\n",
              "\n",
              "    .colab-df-convert:hover {\n",
              "      background-color: #E2EBFA;\n",
              "      box-shadow: 0px 1px 2px rgba(60, 64, 67, 0.3), 0px 1px 3px 1px rgba(60, 64, 67, 0.15);\n",
              "      fill: #174EA6;\n",
              "    }\n",
              "\n",
              "    .colab-df-buttons div {\n",
              "      margin-bottom: 4px;\n",
              "    }\n",
              "\n",
              "    [theme=dark] .colab-df-convert {\n",
              "      background-color: #3B4455;\n",
              "      fill: #D2E3FC;\n",
              "    }\n",
              "\n",
              "    [theme=dark] .colab-df-convert:hover {\n",
              "      background-color: #434B5C;\n",
              "      box-shadow: 0px 1px 3px 1px rgba(0, 0, 0, 0.15);\n",
              "      filter: drop-shadow(0px 1px 2px rgba(0, 0, 0, 0.3));\n",
              "      fill: #FFFFFF;\n",
              "    }\n",
              "  </style>\n",
              "\n",
              "    <script>\n",
              "      const buttonEl =\n",
              "        document.querySelector('#df-f68d765e-a844-4355-9c2c-88aff44be17d button.colab-df-convert');\n",
              "      buttonEl.style.display =\n",
              "        google.colab.kernel.accessAllowed ? 'block' : 'none';\n",
              "\n",
              "      async function convertToInteractive(key) {\n",
              "        const element = document.querySelector('#df-f68d765e-a844-4355-9c2c-88aff44be17d');\n",
              "        const dataTable =\n",
              "          await google.colab.kernel.invokeFunction('convertToInteractive',\n",
              "                                                    [key], {});\n",
              "        if (!dataTable) return;\n",
              "\n",
              "        const docLinkHtml = 'Like what you see? Visit the ' +\n",
              "          '<a target=\"_blank\" href=https://colab.research.google.com/notebooks/data_table.ipynb>data table notebook</a>'\n",
              "          + ' to learn more about interactive tables.';\n",
              "        element.innerHTML = '';\n",
              "        dataTable['output_type'] = 'display_data';\n",
              "        await google.colab.output.renderOutput(dataTable, element);\n",
              "        const docLink = document.createElement('div');\n",
              "        docLink.innerHTML = docLinkHtml;\n",
              "        element.appendChild(docLink);\n",
              "      }\n",
              "    </script>\n",
              "  </div>\n",
              "\n",
              "\n",
              "<div id=\"df-a7823687-9d57-452c-a0c2-2789ec184a04\">\n",
              "  <button class=\"colab-df-quickchart\" onclick=\"quickchart('df-a7823687-9d57-452c-a0c2-2789ec184a04')\"\n",
              "            title=\"Suggest charts\"\n",
              "            style=\"display:none;\">\n",
              "\n",
              "<svg xmlns=\"http://www.w3.org/2000/svg\" height=\"24px\"viewBox=\"0 0 24 24\"\n",
              "     width=\"24px\">\n",
              "    <g>\n",
              "        <path d=\"M19 3H5c-1.1 0-2 .9-2 2v14c0 1.1.9 2 2 2h14c1.1 0 2-.9 2-2V5c0-1.1-.9-2-2-2zM9 17H7v-7h2v7zm4 0h-2V7h2v10zm4 0h-2v-4h2v4z\"/>\n",
              "    </g>\n",
              "</svg>\n",
              "  </button>\n",
              "\n",
              "<style>\n",
              "  .colab-df-quickchart {\n",
              "      --bg-color: #E8F0FE;\n",
              "      --fill-color: #1967D2;\n",
              "      --hover-bg-color: #E2EBFA;\n",
              "      --hover-fill-color: #174EA6;\n",
              "      --disabled-fill-color: #AAA;\n",
              "      --disabled-bg-color: #DDD;\n",
              "  }\n",
              "\n",
              "  [theme=dark] .colab-df-quickchart {\n",
              "      --bg-color: #3B4455;\n",
              "      --fill-color: #D2E3FC;\n",
              "      --hover-bg-color: #434B5C;\n",
              "      --hover-fill-color: #FFFFFF;\n",
              "      --disabled-bg-color: #3B4455;\n",
              "      --disabled-fill-color: #666;\n",
              "  }\n",
              "\n",
              "  .colab-df-quickchart {\n",
              "    background-color: var(--bg-color);\n",
              "    border: none;\n",
              "    border-radius: 50%;\n",
              "    cursor: pointer;\n",
              "    display: none;\n",
              "    fill: var(--fill-color);\n",
              "    height: 32px;\n",
              "    padding: 0;\n",
              "    width: 32px;\n",
              "  }\n",
              "\n",
              "  .colab-df-quickchart:hover {\n",
              "    background-color: var(--hover-bg-color);\n",
              "    box-shadow: 0 1px 2px rgba(60, 64, 67, 0.3), 0 1px 3px 1px rgba(60, 64, 67, 0.15);\n",
              "    fill: var(--button-hover-fill-color);\n",
              "  }\n",
              "\n",
              "  .colab-df-quickchart-complete:disabled,\n",
              "  .colab-df-quickchart-complete:disabled:hover {\n",
              "    background-color: var(--disabled-bg-color);\n",
              "    fill: var(--disabled-fill-color);\n",
              "    box-shadow: none;\n",
              "  }\n",
              "\n",
              "  .colab-df-spinner {\n",
              "    border: 2px solid var(--fill-color);\n",
              "    border-color: transparent;\n",
              "    border-bottom-color: var(--fill-color);\n",
              "    animation:\n",
              "      spin 1s steps(1) infinite;\n",
              "  }\n",
              "\n",
              "  @keyframes spin {\n",
              "    0% {\n",
              "      border-color: transparent;\n",
              "      border-bottom-color: var(--fill-color);\n",
              "      border-left-color: var(--fill-color);\n",
              "    }\n",
              "    20% {\n",
              "      border-color: transparent;\n",
              "      border-left-color: var(--fill-color);\n",
              "      border-top-color: var(--fill-color);\n",
              "    }\n",
              "    30% {\n",
              "      border-color: transparent;\n",
              "      border-left-color: var(--fill-color);\n",
              "      border-top-color: var(--fill-color);\n",
              "      border-right-color: var(--fill-color);\n",
              "    }\n",
              "    40% {\n",
              "      border-color: transparent;\n",
              "      border-right-color: var(--fill-color);\n",
              "      border-top-color: var(--fill-color);\n",
              "    }\n",
              "    60% {\n",
              "      border-color: transparent;\n",
              "      border-right-color: var(--fill-color);\n",
              "    }\n",
              "    80% {\n",
              "      border-color: transparent;\n",
              "      border-right-color: var(--fill-color);\n",
              "      border-bottom-color: var(--fill-color);\n",
              "    }\n",
              "    90% {\n",
              "      border-color: transparent;\n",
              "      border-bottom-color: var(--fill-color);\n",
              "    }\n",
              "  }\n",
              "</style>\n",
              "\n",
              "  <script>\n",
              "    async function quickchart(key) {\n",
              "      const quickchartButtonEl =\n",
              "        document.querySelector('#' + key + ' button');\n",
              "      quickchartButtonEl.disabled = true;  // To prevent multiple clicks.\n",
              "      quickchartButtonEl.classList.add('colab-df-spinner');\n",
              "      try {\n",
              "        const charts = await google.colab.kernel.invokeFunction(\n",
              "            'suggestCharts', [key], {});\n",
              "      } catch (error) {\n",
              "        console.error('Error during call to suggestCharts:', error);\n",
              "      }\n",
              "      quickchartButtonEl.classList.remove('colab-df-spinner');\n",
              "      quickchartButtonEl.classList.add('colab-df-quickchart-complete');\n",
              "    }\n",
              "    (() => {\n",
              "      let quickchartButtonEl =\n",
              "        document.querySelector('#df-a7823687-9d57-452c-a0c2-2789ec184a04 button');\n",
              "      quickchartButtonEl.style.display =\n",
              "        google.colab.kernel.accessAllowed ? 'block' : 'none';\n",
              "    })();\n",
              "  </script>\n",
              "</div>\n",
              "\n",
              "    </div>\n",
              "  </div>\n"
            ],
            "application/vnd.google.colaboratory.intrinsic+json": {
              "type": "dataframe",
              "variable_name": "train"
            }
          },
          "metadata": {},
          "execution_count": 646
        }
      ]
    },
    {
      "cell_type": "code",
      "source": [
        "train.info()"
      ],
      "metadata": {
        "execution": {
          "iopub.status.busy": "2024-08-09T19:22:48.750465Z",
          "iopub.execute_input": "2024-08-09T19:22:48.750884Z",
          "iopub.status.idle": "2024-08-09T19:22:48.794349Z",
          "shell.execute_reply.started": "2024-08-09T19:22:48.750832Z",
          "shell.execute_reply": "2024-08-09T19:22:48.79308Z"
        },
        "trusted": true,
        "colab": {
          "base_uri": "https://localhost:8080/"
        },
        "id": "a_utV2cnjKgW",
        "outputId": "68cf69ba-5684-43ff-ab32-fa02071cc2b4"
      },
      "execution_count": 647,
      "outputs": [
        {
          "output_type": "stream",
          "name": "stdout",
          "text": [
            "<class 'pandas.core.frame.DataFrame'>\n",
            "RangeIndex: 20000 entries, 0 to 19999\n",
            "Data columns (total 22 columns):\n",
            " #   Column                 Non-Null Count  Dtype  \n",
            "---  ------                 --------------  -----  \n",
            " 0   Location               20000 non-null  object \n",
            " 1   Cross_Street           3448 non-null   object \n",
            " 2   Latitude               20000 non-null  float64\n",
            " 3   Longitude              20000 non-null  float64\n",
            " 4   Date_Reported          20000 non-null  object \n",
            " 5   Date_Occurred          20000 non-null  object \n",
            " 6   Time_Occurred          20000 non-null  float64\n",
            " 7   Area_ID                20000 non-null  float64\n",
            " 8   Area_Name              20000 non-null  object \n",
            " 9   Reporting_District_no  20000 non-null  float64\n",
            " 10  Part 1-2               20000 non-null  float64\n",
            " 11  Modus_Operandi         17259 non-null  object \n",
            " 12  Victim_Age             20000 non-null  float64\n",
            " 13  Victim_Sex             17376 non-null  object \n",
            " 14  Victim_Descent         17376 non-null  object \n",
            " 15  Premise_Code           20000 non-null  float64\n",
            " 16  Premise_Description    19995 non-null  object \n",
            " 17  Weapon_Used_Code       7335 non-null   float64\n",
            " 18  Weapon_Description     7335 non-null   object \n",
            " 19  Status                 20000 non-null  object \n",
            " 20  Status_Description     20000 non-null  object \n",
            " 21  Crime_Category         20000 non-null  object \n",
            "dtypes: float64(9), object(13)\n",
            "memory usage: 3.4+ MB\n"
          ]
        }
      ]
    },
    {
      "cell_type": "code",
      "source": [
        "train.describe()"
      ],
      "metadata": {
        "execution": {
          "iopub.status.busy": "2024-08-09T19:22:51.354072Z",
          "iopub.execute_input": "2024-08-09T19:22:51.354489Z",
          "iopub.status.idle": "2024-08-09T19:22:51.400076Z",
          "shell.execute_reply.started": "2024-08-09T19:22:51.354441Z",
          "shell.execute_reply": "2024-08-09T19:22:51.398743Z"
        },
        "trusted": true,
        "colab": {
          "base_uri": "https://localhost:8080/",
          "height": 320
        },
        "id": "2NfKfHY9jKgX",
        "outputId": "9b877c2d-94b9-4ee6-8849-b61b412440b6"
      },
      "execution_count": 648,
      "outputs": [
        {
          "output_type": "execute_result",
          "data": {
            "text/plain": [
              "           Latitude     Longitude  Time_Occurred       Area_ID  \\\n",
              "count  20000.000000  20000.000000   20000.000000  20000.000000   \n",
              "mean      33.940704   -117.893072    1352.380350     10.834250   \n",
              "std        2.126810      7.377726     646.100291      6.033166   \n",
              "min        0.000000   -118.663400       1.000000      1.000000   \n",
              "25%       34.009200   -118.429700     930.000000      6.000000   \n",
              "50%       34.058700   -118.323000    1430.000000     11.000000   \n",
              "75%       34.165025   -118.274400    1900.000000     16.000000   \n",
              "max       34.328100      0.000000    2359.000000     21.000000   \n",
              "\n",
              "       Reporting_District_no      Part 1-2    Victim_Age  Premise_Code  \\\n",
              "count           20000.000000  20000.000000  20000.000000  20000.000000   \n",
              "mean             1129.599200      1.418150     30.135000    297.176950   \n",
              "std               603.330519      0.493267     21.863645    212.007298   \n",
              "min               101.000000      1.000000     -2.000000    101.000000   \n",
              "25%               632.000000      1.000000     12.000000    101.000000   \n",
              "50%              1162.000000      1.000000     31.000000    203.000000   \n",
              "75%              1622.000000      2.000000     46.000000    501.000000   \n",
              "max              2197.000000      2.000000     99.000000    969.000000   \n",
              "\n",
              "       Weapon_Used_Code  \n",
              "count       7335.000000  \n",
              "mean         366.405044  \n",
              "std          120.485687  \n",
              "min          101.000000  \n",
              "25%          312.000000  \n",
              "50%          400.000000  \n",
              "75%          400.000000  \n",
              "max          515.000000  "
            ],
            "text/html": [
              "\n",
              "  <div id=\"df-a74ccf77-3bb0-468c-a954-b357d02b9929\" class=\"colab-df-container\">\n",
              "    <div>\n",
              "<style scoped>\n",
              "    .dataframe tbody tr th:only-of-type {\n",
              "        vertical-align: middle;\n",
              "    }\n",
              "\n",
              "    .dataframe tbody tr th {\n",
              "        vertical-align: top;\n",
              "    }\n",
              "\n",
              "    .dataframe thead th {\n",
              "        text-align: right;\n",
              "    }\n",
              "</style>\n",
              "<table border=\"1\" class=\"dataframe\">\n",
              "  <thead>\n",
              "    <tr style=\"text-align: right;\">\n",
              "      <th></th>\n",
              "      <th>Latitude</th>\n",
              "      <th>Longitude</th>\n",
              "      <th>Time_Occurred</th>\n",
              "      <th>Area_ID</th>\n",
              "      <th>Reporting_District_no</th>\n",
              "      <th>Part 1-2</th>\n",
              "      <th>Victim_Age</th>\n",
              "      <th>Premise_Code</th>\n",
              "      <th>Weapon_Used_Code</th>\n",
              "    </tr>\n",
              "  </thead>\n",
              "  <tbody>\n",
              "    <tr>\n",
              "      <th>count</th>\n",
              "      <td>20000.000000</td>\n",
              "      <td>20000.000000</td>\n",
              "      <td>20000.000000</td>\n",
              "      <td>20000.000000</td>\n",
              "      <td>20000.000000</td>\n",
              "      <td>20000.000000</td>\n",
              "      <td>20000.000000</td>\n",
              "      <td>20000.000000</td>\n",
              "      <td>7335.000000</td>\n",
              "    </tr>\n",
              "    <tr>\n",
              "      <th>mean</th>\n",
              "      <td>33.940704</td>\n",
              "      <td>-117.893072</td>\n",
              "      <td>1352.380350</td>\n",
              "      <td>10.834250</td>\n",
              "      <td>1129.599200</td>\n",
              "      <td>1.418150</td>\n",
              "      <td>30.135000</td>\n",
              "      <td>297.176950</td>\n",
              "      <td>366.405044</td>\n",
              "    </tr>\n",
              "    <tr>\n",
              "      <th>std</th>\n",
              "      <td>2.126810</td>\n",
              "      <td>7.377726</td>\n",
              "      <td>646.100291</td>\n",
              "      <td>6.033166</td>\n",
              "      <td>603.330519</td>\n",
              "      <td>0.493267</td>\n",
              "      <td>21.863645</td>\n",
              "      <td>212.007298</td>\n",
              "      <td>120.485687</td>\n",
              "    </tr>\n",
              "    <tr>\n",
              "      <th>min</th>\n",
              "      <td>0.000000</td>\n",
              "      <td>-118.663400</td>\n",
              "      <td>1.000000</td>\n",
              "      <td>1.000000</td>\n",
              "      <td>101.000000</td>\n",
              "      <td>1.000000</td>\n",
              "      <td>-2.000000</td>\n",
              "      <td>101.000000</td>\n",
              "      <td>101.000000</td>\n",
              "    </tr>\n",
              "    <tr>\n",
              "      <th>25%</th>\n",
              "      <td>34.009200</td>\n",
              "      <td>-118.429700</td>\n",
              "      <td>930.000000</td>\n",
              "      <td>6.000000</td>\n",
              "      <td>632.000000</td>\n",
              "      <td>1.000000</td>\n",
              "      <td>12.000000</td>\n",
              "      <td>101.000000</td>\n",
              "      <td>312.000000</td>\n",
              "    </tr>\n",
              "    <tr>\n",
              "      <th>50%</th>\n",
              "      <td>34.058700</td>\n",
              "      <td>-118.323000</td>\n",
              "      <td>1430.000000</td>\n",
              "      <td>11.000000</td>\n",
              "      <td>1162.000000</td>\n",
              "      <td>1.000000</td>\n",
              "      <td>31.000000</td>\n",
              "      <td>203.000000</td>\n",
              "      <td>400.000000</td>\n",
              "    </tr>\n",
              "    <tr>\n",
              "      <th>75%</th>\n",
              "      <td>34.165025</td>\n",
              "      <td>-118.274400</td>\n",
              "      <td>1900.000000</td>\n",
              "      <td>16.000000</td>\n",
              "      <td>1622.000000</td>\n",
              "      <td>2.000000</td>\n",
              "      <td>46.000000</td>\n",
              "      <td>501.000000</td>\n",
              "      <td>400.000000</td>\n",
              "    </tr>\n",
              "    <tr>\n",
              "      <th>max</th>\n",
              "      <td>34.328100</td>\n",
              "      <td>0.000000</td>\n",
              "      <td>2359.000000</td>\n",
              "      <td>21.000000</td>\n",
              "      <td>2197.000000</td>\n",
              "      <td>2.000000</td>\n",
              "      <td>99.000000</td>\n",
              "      <td>969.000000</td>\n",
              "      <td>515.000000</td>\n",
              "    </tr>\n",
              "  </tbody>\n",
              "</table>\n",
              "</div>\n",
              "    <div class=\"colab-df-buttons\">\n",
              "\n",
              "  <div class=\"colab-df-container\">\n",
              "    <button class=\"colab-df-convert\" onclick=\"convertToInteractive('df-a74ccf77-3bb0-468c-a954-b357d02b9929')\"\n",
              "            title=\"Convert this dataframe to an interactive table.\"\n",
              "            style=\"display:none;\">\n",
              "\n",
              "  <svg xmlns=\"http://www.w3.org/2000/svg\" height=\"24px\" viewBox=\"0 -960 960 960\">\n",
              "    <path d=\"M120-120v-720h720v720H120Zm60-500h600v-160H180v160Zm220 220h160v-160H400v160Zm0 220h160v-160H400v160ZM180-400h160v-160H180v160Zm440 0h160v-160H620v160ZM180-180h160v-160H180v160Zm440 0h160v-160H620v160Z\"/>\n",
              "  </svg>\n",
              "    </button>\n",
              "\n",
              "  <style>\n",
              "    .colab-df-container {\n",
              "      display:flex;\n",
              "      gap: 12px;\n",
              "    }\n",
              "\n",
              "    .colab-df-convert {\n",
              "      background-color: #E8F0FE;\n",
              "      border: none;\n",
              "      border-radius: 50%;\n",
              "      cursor: pointer;\n",
              "      display: none;\n",
              "      fill: #1967D2;\n",
              "      height: 32px;\n",
              "      padding: 0 0 0 0;\n",
              "      width: 32px;\n",
              "    }\n",
              "\n",
              "    .colab-df-convert:hover {\n",
              "      background-color: #E2EBFA;\n",
              "      box-shadow: 0px 1px 2px rgba(60, 64, 67, 0.3), 0px 1px 3px 1px rgba(60, 64, 67, 0.15);\n",
              "      fill: #174EA6;\n",
              "    }\n",
              "\n",
              "    .colab-df-buttons div {\n",
              "      margin-bottom: 4px;\n",
              "    }\n",
              "\n",
              "    [theme=dark] .colab-df-convert {\n",
              "      background-color: #3B4455;\n",
              "      fill: #D2E3FC;\n",
              "    }\n",
              "\n",
              "    [theme=dark] .colab-df-convert:hover {\n",
              "      background-color: #434B5C;\n",
              "      box-shadow: 0px 1px 3px 1px rgba(0, 0, 0, 0.15);\n",
              "      filter: drop-shadow(0px 1px 2px rgba(0, 0, 0, 0.3));\n",
              "      fill: #FFFFFF;\n",
              "    }\n",
              "  </style>\n",
              "\n",
              "    <script>\n",
              "      const buttonEl =\n",
              "        document.querySelector('#df-a74ccf77-3bb0-468c-a954-b357d02b9929 button.colab-df-convert');\n",
              "      buttonEl.style.display =\n",
              "        google.colab.kernel.accessAllowed ? 'block' : 'none';\n",
              "\n",
              "      async function convertToInteractive(key) {\n",
              "        const element = document.querySelector('#df-a74ccf77-3bb0-468c-a954-b357d02b9929');\n",
              "        const dataTable =\n",
              "          await google.colab.kernel.invokeFunction('convertToInteractive',\n",
              "                                                    [key], {});\n",
              "        if (!dataTable) return;\n",
              "\n",
              "        const docLinkHtml = 'Like what you see? Visit the ' +\n",
              "          '<a target=\"_blank\" href=https://colab.research.google.com/notebooks/data_table.ipynb>data table notebook</a>'\n",
              "          + ' to learn more about interactive tables.';\n",
              "        element.innerHTML = '';\n",
              "        dataTable['output_type'] = 'display_data';\n",
              "        await google.colab.output.renderOutput(dataTable, element);\n",
              "        const docLink = document.createElement('div');\n",
              "        docLink.innerHTML = docLinkHtml;\n",
              "        element.appendChild(docLink);\n",
              "      }\n",
              "    </script>\n",
              "  </div>\n",
              "\n",
              "\n",
              "<div id=\"df-0981532f-7a34-4ba9-8ebd-038e56cae232\">\n",
              "  <button class=\"colab-df-quickchart\" onclick=\"quickchart('df-0981532f-7a34-4ba9-8ebd-038e56cae232')\"\n",
              "            title=\"Suggest charts\"\n",
              "            style=\"display:none;\">\n",
              "\n",
              "<svg xmlns=\"http://www.w3.org/2000/svg\" height=\"24px\"viewBox=\"0 0 24 24\"\n",
              "     width=\"24px\">\n",
              "    <g>\n",
              "        <path d=\"M19 3H5c-1.1 0-2 .9-2 2v14c0 1.1.9 2 2 2h14c1.1 0 2-.9 2-2V5c0-1.1-.9-2-2-2zM9 17H7v-7h2v7zm4 0h-2V7h2v10zm4 0h-2v-4h2v4z\"/>\n",
              "    </g>\n",
              "</svg>\n",
              "  </button>\n",
              "\n",
              "<style>\n",
              "  .colab-df-quickchart {\n",
              "      --bg-color: #E8F0FE;\n",
              "      --fill-color: #1967D2;\n",
              "      --hover-bg-color: #E2EBFA;\n",
              "      --hover-fill-color: #174EA6;\n",
              "      --disabled-fill-color: #AAA;\n",
              "      --disabled-bg-color: #DDD;\n",
              "  }\n",
              "\n",
              "  [theme=dark] .colab-df-quickchart {\n",
              "      --bg-color: #3B4455;\n",
              "      --fill-color: #D2E3FC;\n",
              "      --hover-bg-color: #434B5C;\n",
              "      --hover-fill-color: #FFFFFF;\n",
              "      --disabled-bg-color: #3B4455;\n",
              "      --disabled-fill-color: #666;\n",
              "  }\n",
              "\n",
              "  .colab-df-quickchart {\n",
              "    background-color: var(--bg-color);\n",
              "    border: none;\n",
              "    border-radius: 50%;\n",
              "    cursor: pointer;\n",
              "    display: none;\n",
              "    fill: var(--fill-color);\n",
              "    height: 32px;\n",
              "    padding: 0;\n",
              "    width: 32px;\n",
              "  }\n",
              "\n",
              "  .colab-df-quickchart:hover {\n",
              "    background-color: var(--hover-bg-color);\n",
              "    box-shadow: 0 1px 2px rgba(60, 64, 67, 0.3), 0 1px 3px 1px rgba(60, 64, 67, 0.15);\n",
              "    fill: var(--button-hover-fill-color);\n",
              "  }\n",
              "\n",
              "  .colab-df-quickchart-complete:disabled,\n",
              "  .colab-df-quickchart-complete:disabled:hover {\n",
              "    background-color: var(--disabled-bg-color);\n",
              "    fill: var(--disabled-fill-color);\n",
              "    box-shadow: none;\n",
              "  }\n",
              "\n",
              "  .colab-df-spinner {\n",
              "    border: 2px solid var(--fill-color);\n",
              "    border-color: transparent;\n",
              "    border-bottom-color: var(--fill-color);\n",
              "    animation:\n",
              "      spin 1s steps(1) infinite;\n",
              "  }\n",
              "\n",
              "  @keyframes spin {\n",
              "    0% {\n",
              "      border-color: transparent;\n",
              "      border-bottom-color: var(--fill-color);\n",
              "      border-left-color: var(--fill-color);\n",
              "    }\n",
              "    20% {\n",
              "      border-color: transparent;\n",
              "      border-left-color: var(--fill-color);\n",
              "      border-top-color: var(--fill-color);\n",
              "    }\n",
              "    30% {\n",
              "      border-color: transparent;\n",
              "      border-left-color: var(--fill-color);\n",
              "      border-top-color: var(--fill-color);\n",
              "      border-right-color: var(--fill-color);\n",
              "    }\n",
              "    40% {\n",
              "      border-color: transparent;\n",
              "      border-right-color: var(--fill-color);\n",
              "      border-top-color: var(--fill-color);\n",
              "    }\n",
              "    60% {\n",
              "      border-color: transparent;\n",
              "      border-right-color: var(--fill-color);\n",
              "    }\n",
              "    80% {\n",
              "      border-color: transparent;\n",
              "      border-right-color: var(--fill-color);\n",
              "      border-bottom-color: var(--fill-color);\n",
              "    }\n",
              "    90% {\n",
              "      border-color: transparent;\n",
              "      border-bottom-color: var(--fill-color);\n",
              "    }\n",
              "  }\n",
              "</style>\n",
              "\n",
              "  <script>\n",
              "    async function quickchart(key) {\n",
              "      const quickchartButtonEl =\n",
              "        document.querySelector('#' + key + ' button');\n",
              "      quickchartButtonEl.disabled = true;  // To prevent multiple clicks.\n",
              "      quickchartButtonEl.classList.add('colab-df-spinner');\n",
              "      try {\n",
              "        const charts = await google.colab.kernel.invokeFunction(\n",
              "            'suggestCharts', [key], {});\n",
              "      } catch (error) {\n",
              "        console.error('Error during call to suggestCharts:', error);\n",
              "      }\n",
              "      quickchartButtonEl.classList.remove('colab-df-spinner');\n",
              "      quickchartButtonEl.classList.add('colab-df-quickchart-complete');\n",
              "    }\n",
              "    (() => {\n",
              "      let quickchartButtonEl =\n",
              "        document.querySelector('#df-0981532f-7a34-4ba9-8ebd-038e56cae232 button');\n",
              "      quickchartButtonEl.style.display =\n",
              "        google.colab.kernel.accessAllowed ? 'block' : 'none';\n",
              "    })();\n",
              "  </script>\n",
              "</div>\n",
              "\n",
              "    </div>\n",
              "  </div>\n"
            ],
            "application/vnd.google.colaboratory.intrinsic+json": {
              "type": "dataframe",
              "summary": "{\n  \"name\": \"train\",\n  \"rows\": 8,\n  \"fields\": [\n    {\n      \"column\": \"Latitude\",\n      \"properties\": {\n        \"dtype\": \"number\",\n        \"std\": 7062.364547448691,\n        \"min\": 0.0,\n        \"max\": 20000.0,\n        \"num_unique_values\": 8,\n        \"samples\": [\n          33.94070438,\n          34.0587,\n          20000.0\n        ],\n        \"semantic_type\": \"\",\n        \"description\": \"\"\n      }\n    },\n    {\n      \"column\": \"Longitude\",\n      \"properties\": {\n        \"dtype\": \"number\",\n        \"std\": 7100.788850955867,\n        \"min\": -118.6634,\n        \"max\": 20000.0,\n        \"num_unique_values\": 8,\n        \"samples\": [\n          -117.893072345,\n          -118.323,\n          20000.0\n        ],\n        \"semantic_type\": \"\",\n        \"description\": \"\"\n      }\n    },\n    {\n      \"column\": \"Time_Occurred\",\n      \"properties\": {\n        \"dtype\": \"number\",\n        \"std\": 6675.690236356401,\n        \"min\": 1.0,\n        \"max\": 20000.0,\n        \"num_unique_values\": 8,\n        \"samples\": [\n          1352.38035,\n          1430.0,\n          20000.0\n        ],\n        \"semantic_type\": \"\",\n        \"description\": \"\"\n      }\n    },\n    {\n      \"column\": \"Area_ID\",\n      \"properties\": {\n        \"dtype\": \"number\",\n        \"std\": 7067.440697435199,\n        \"min\": 1.0,\n        \"max\": 20000.0,\n        \"num_unique_values\": 8,\n        \"samples\": [\n          10.83425,\n          11.0,\n          20000.0\n        ],\n        \"semantic_type\": \"\",\n        \"description\": \"\"\n      }\n    },\n    {\n      \"column\": \"Reporting_District_no\",\n      \"properties\": {\n        \"dtype\": \"number\",\n        \"std\": 6726.18359410744,\n        \"min\": 101.0,\n        \"max\": 20000.0,\n        \"num_unique_values\": 8,\n        \"samples\": [\n          1129.5992,\n          1162.0,\n          20000.0\n        ],\n        \"semantic_type\": \"\",\n        \"description\": \"\"\n      }\n    },\n    {\n      \"column\": \"Part 1-2\",\n      \"properties\": {\n        \"dtype\": \"number\",\n        \"std\": 7070.61773660866,\n        \"min\": 0.49326741544233016,\n        \"max\": 20000.0,\n        \"num_unique_values\": 5,\n        \"samples\": [\n          1.41815,\n          2.0,\n          0.49326741544233016\n        ],\n        \"semantic_type\": \"\",\n        \"description\": \"\"\n      }\n    },\n    {\n      \"column\": \"Victim_Age\",\n      \"properties\": {\n        \"dtype\": \"number\",\n        \"std\": 7059.111017406064,\n        \"min\": -2.0,\n        \"max\": 20000.0,\n        \"num_unique_values\": 8,\n        \"samples\": [\n          30.135,\n          31.0,\n          20000.0\n        ],\n        \"semantic_type\": \"\",\n        \"description\": \"\"\n      }\n    },\n    {\n      \"column\": \"Premise_Code\",\n      \"properties\": {\n        \"dtype\": \"number\",\n        \"std\": 6956.532091463079,\n        \"min\": 101.0,\n        \"max\": 20000.0,\n        \"num_unique_values\": 7,\n        \"samples\": [\n          20000.0,\n          297.17695,\n          501.0\n        ],\n        \"semantic_type\": \"\",\n        \"description\": \"\"\n      }\n    },\n    {\n      \"column\": \"Weapon_Used_Code\",\n      \"properties\": {\n        \"dtype\": \"number\",\n        \"std\": 2485.4925592285012,\n        \"min\": 101.0,\n        \"max\": 7335.0,\n        \"num_unique_values\": 7,\n        \"samples\": [\n          7335.0,\n          366.40504430811177,\n          400.0\n        ],\n        \"semantic_type\": \"\",\n        \"description\": \"\"\n      }\n    }\n  ]\n}"
            }
          },
          "metadata": {},
          "execution_count": 648
        }
      ]
    },
    {
      "cell_type": "markdown",
      "source": [
        "## 3.3 - Test Data"
      ],
      "metadata": {
        "id": "yEuLRlW5jKgY"
      }
    },
    {
      "cell_type": "code",
      "source": [
        "test.head()"
      ],
      "metadata": {
        "execution": {
          "iopub.status.busy": "2024-08-09T19:22:53.921158Z",
          "iopub.execute_input": "2024-08-09T19:22:53.921556Z",
          "iopub.status.idle": "2024-08-09T19:22:53.947227Z",
          "shell.execute_reply.started": "2024-08-09T19:22:53.921525Z",
          "shell.execute_reply": "2024-08-09T19:22:53.945844Z"
        },
        "trusted": true,
        "colab": {
          "base_uri": "https://localhost:8080/",
          "height": 400
        },
        "id": "UHqk_RR0jKgY",
        "outputId": "4594e2c1-b2be-4eb3-971d-5e5eaa29042f"
      },
      "execution_count": 649,
      "outputs": [
        {
          "output_type": "execute_result",
          "data": {
            "text/plain": [
              "                                   Location Cross_Street  Latitude  Longitude  \\\n",
              "0   1500    LEIGHTON                     AV          NaN   34.0128  -118.3045   \n",
              "1    100 S  NORMANDIE                    AV          NaN   34.0726  -118.3029   \n",
              "2    300 E  111TH                        ST          NaN   33.9348  -118.2695   \n",
              "3   1300 S  LA BREA                      AV          NaN   34.0497  -118.3442   \n",
              "4  11000    MORRISON                     ST          NaN   34.1611  -118.3704   \n",
              "\n",
              "            Date_Reported           Date_Occurred  Time_Occurred  Area_ID  \\\n",
              "0  03/03/2020 12:00:00 AM  03/03/2020 12:00:00 AM         2000.0      3.0   \n",
              "1  06/01/2020 12:00:00 AM  04/25/2020 12:00:00 AM         1700.0     20.0   \n",
              "2  08/28/2020 12:00:00 AM  08/27/2020 12:00:00 AM          900.0     18.0   \n",
              "3  12/23/2020 12:00:00 AM  12/03/2020 12:00:00 AM         2200.0      7.0   \n",
              "4  08/30/2020 12:00:00 AM  08/29/2020 12:00:00 AM          130.0     15.0   \n",
              "\n",
              "     Area_Name  Reporting_District_no  Part 1-2  \\\n",
              "0    Southwest                  376.0       2.0   \n",
              "1      Olympic                 2014.0       1.0   \n",
              "2    Southeast                 1844.0       2.0   \n",
              "3     Wilshire                  765.0       1.0   \n",
              "4  N Hollywood                 1555.0       2.0   \n",
              "\n",
              "                  Modus_Operandi  Victim_Age Victim_Sex Victim_Descent  \\\n",
              "0  0416 1241 1243 1813 1821 2000        28.0          F              H   \n",
              "1                      0344 0394        26.0          M              B   \n",
              "2  1822 0701 1914 0355 1202 0100        62.0          F              B   \n",
              "3                            NaN         0.0        NaN            NaN   \n",
              "4                           1501        37.0          F              W   \n",
              "\n",
              "   Premise_Code                           Premise_Description  \\\n",
              "0         501.0                        SINGLE FAMILY DWELLING   \n",
              "1         502.0  MULTI-UNIT DWELLING (APARTMENT, DUPLEX, ETC)   \n",
              "2         721.0                                   HIGH SCHOOL   \n",
              "3         108.0                                   PARKING LOT   \n",
              "4         501.0                        SINGLE FAMILY DWELLING   \n",
              "\n",
              "   Weapon_Used_Code                              Weapon_Description Status  \\\n",
              "0             400.0  STRONG-ARM (HANDS, FIST, FEET OR BODILY FORCE)     IC   \n",
              "1               NaN                                             NaN     IC   \n",
              "2               NaN                                             NaN     IC   \n",
              "3               NaN                                             NaN     IC   \n",
              "4               NaN                                             NaN     AO   \n",
              "\n",
              "  Status_Description  \n",
              "0        Invest Cont  \n",
              "1        Invest Cont  \n",
              "2        Invest Cont  \n",
              "3        Invest Cont  \n",
              "4        Adult Other  "
            ],
            "text/html": [
              "\n",
              "  <div id=\"df-a97efb44-8d40-442c-8ae9-1a76b5d9e367\" class=\"colab-df-container\">\n",
              "    <div>\n",
              "<style scoped>\n",
              "    .dataframe tbody tr th:only-of-type {\n",
              "        vertical-align: middle;\n",
              "    }\n",
              "\n",
              "    .dataframe tbody tr th {\n",
              "        vertical-align: top;\n",
              "    }\n",
              "\n",
              "    .dataframe thead th {\n",
              "        text-align: right;\n",
              "    }\n",
              "</style>\n",
              "<table border=\"1\" class=\"dataframe\">\n",
              "  <thead>\n",
              "    <tr style=\"text-align: right;\">\n",
              "      <th></th>\n",
              "      <th>Location</th>\n",
              "      <th>Cross_Street</th>\n",
              "      <th>Latitude</th>\n",
              "      <th>Longitude</th>\n",
              "      <th>Date_Reported</th>\n",
              "      <th>Date_Occurred</th>\n",
              "      <th>Time_Occurred</th>\n",
              "      <th>Area_ID</th>\n",
              "      <th>Area_Name</th>\n",
              "      <th>Reporting_District_no</th>\n",
              "      <th>Part 1-2</th>\n",
              "      <th>Modus_Operandi</th>\n",
              "      <th>Victim_Age</th>\n",
              "      <th>Victim_Sex</th>\n",
              "      <th>Victim_Descent</th>\n",
              "      <th>Premise_Code</th>\n",
              "      <th>Premise_Description</th>\n",
              "      <th>Weapon_Used_Code</th>\n",
              "      <th>Weapon_Description</th>\n",
              "      <th>Status</th>\n",
              "      <th>Status_Description</th>\n",
              "    </tr>\n",
              "  </thead>\n",
              "  <tbody>\n",
              "    <tr>\n",
              "      <th>0</th>\n",
              "      <td>1500    LEIGHTON                     AV</td>\n",
              "      <td>NaN</td>\n",
              "      <td>34.0128</td>\n",
              "      <td>-118.3045</td>\n",
              "      <td>03/03/2020 12:00:00 AM</td>\n",
              "      <td>03/03/2020 12:00:00 AM</td>\n",
              "      <td>2000.0</td>\n",
              "      <td>3.0</td>\n",
              "      <td>Southwest</td>\n",
              "      <td>376.0</td>\n",
              "      <td>2.0</td>\n",
              "      <td>0416 1241 1243 1813 1821 2000</td>\n",
              "      <td>28.0</td>\n",
              "      <td>F</td>\n",
              "      <td>H</td>\n",
              "      <td>501.0</td>\n",
              "      <td>SINGLE FAMILY DWELLING</td>\n",
              "      <td>400.0</td>\n",
              "      <td>STRONG-ARM (HANDS, FIST, FEET OR BODILY FORCE)</td>\n",
              "      <td>IC</td>\n",
              "      <td>Invest Cont</td>\n",
              "    </tr>\n",
              "    <tr>\n",
              "      <th>1</th>\n",
              "      <td>100 S  NORMANDIE                    AV</td>\n",
              "      <td>NaN</td>\n",
              "      <td>34.0726</td>\n",
              "      <td>-118.3029</td>\n",
              "      <td>06/01/2020 12:00:00 AM</td>\n",
              "      <td>04/25/2020 12:00:00 AM</td>\n",
              "      <td>1700.0</td>\n",
              "      <td>20.0</td>\n",
              "      <td>Olympic</td>\n",
              "      <td>2014.0</td>\n",
              "      <td>1.0</td>\n",
              "      <td>0344 0394</td>\n",
              "      <td>26.0</td>\n",
              "      <td>M</td>\n",
              "      <td>B</td>\n",
              "      <td>502.0</td>\n",
              "      <td>MULTI-UNIT DWELLING (APARTMENT, DUPLEX, ETC)</td>\n",
              "      <td>NaN</td>\n",
              "      <td>NaN</td>\n",
              "      <td>IC</td>\n",
              "      <td>Invest Cont</td>\n",
              "    </tr>\n",
              "    <tr>\n",
              "      <th>2</th>\n",
              "      <td>300 E  111TH                        ST</td>\n",
              "      <td>NaN</td>\n",
              "      <td>33.9348</td>\n",
              "      <td>-118.2695</td>\n",
              "      <td>08/28/2020 12:00:00 AM</td>\n",
              "      <td>08/27/2020 12:00:00 AM</td>\n",
              "      <td>900.0</td>\n",
              "      <td>18.0</td>\n",
              "      <td>Southeast</td>\n",
              "      <td>1844.0</td>\n",
              "      <td>2.0</td>\n",
              "      <td>1822 0701 1914 0355 1202 0100</td>\n",
              "      <td>62.0</td>\n",
              "      <td>F</td>\n",
              "      <td>B</td>\n",
              "      <td>721.0</td>\n",
              "      <td>HIGH SCHOOL</td>\n",
              "      <td>NaN</td>\n",
              "      <td>NaN</td>\n",
              "      <td>IC</td>\n",
              "      <td>Invest Cont</td>\n",
              "    </tr>\n",
              "    <tr>\n",
              "      <th>3</th>\n",
              "      <td>1300 S  LA BREA                      AV</td>\n",
              "      <td>NaN</td>\n",
              "      <td>34.0497</td>\n",
              "      <td>-118.3442</td>\n",
              "      <td>12/23/2020 12:00:00 AM</td>\n",
              "      <td>12/03/2020 12:00:00 AM</td>\n",
              "      <td>2200.0</td>\n",
              "      <td>7.0</td>\n",
              "      <td>Wilshire</td>\n",
              "      <td>765.0</td>\n",
              "      <td>1.0</td>\n",
              "      <td>NaN</td>\n",
              "      <td>0.0</td>\n",
              "      <td>NaN</td>\n",
              "      <td>NaN</td>\n",
              "      <td>108.0</td>\n",
              "      <td>PARKING LOT</td>\n",
              "      <td>NaN</td>\n",
              "      <td>NaN</td>\n",
              "      <td>IC</td>\n",
              "      <td>Invest Cont</td>\n",
              "    </tr>\n",
              "    <tr>\n",
              "      <th>4</th>\n",
              "      <td>11000    MORRISON                     ST</td>\n",
              "      <td>NaN</td>\n",
              "      <td>34.1611</td>\n",
              "      <td>-118.3704</td>\n",
              "      <td>08/30/2020 12:00:00 AM</td>\n",
              "      <td>08/29/2020 12:00:00 AM</td>\n",
              "      <td>130.0</td>\n",
              "      <td>15.0</td>\n",
              "      <td>N Hollywood</td>\n",
              "      <td>1555.0</td>\n",
              "      <td>2.0</td>\n",
              "      <td>1501</td>\n",
              "      <td>37.0</td>\n",
              "      <td>F</td>\n",
              "      <td>W</td>\n",
              "      <td>501.0</td>\n",
              "      <td>SINGLE FAMILY DWELLING</td>\n",
              "      <td>NaN</td>\n",
              "      <td>NaN</td>\n",
              "      <td>AO</td>\n",
              "      <td>Adult Other</td>\n",
              "    </tr>\n",
              "  </tbody>\n",
              "</table>\n",
              "</div>\n",
              "    <div class=\"colab-df-buttons\">\n",
              "\n",
              "  <div class=\"colab-df-container\">\n",
              "    <button class=\"colab-df-convert\" onclick=\"convertToInteractive('df-a97efb44-8d40-442c-8ae9-1a76b5d9e367')\"\n",
              "            title=\"Convert this dataframe to an interactive table.\"\n",
              "            style=\"display:none;\">\n",
              "\n",
              "  <svg xmlns=\"http://www.w3.org/2000/svg\" height=\"24px\" viewBox=\"0 -960 960 960\">\n",
              "    <path d=\"M120-120v-720h720v720H120Zm60-500h600v-160H180v160Zm220 220h160v-160H400v160Zm0 220h160v-160H400v160ZM180-400h160v-160H180v160Zm440 0h160v-160H620v160ZM180-180h160v-160H180v160Zm440 0h160v-160H620v160Z\"/>\n",
              "  </svg>\n",
              "    </button>\n",
              "\n",
              "  <style>\n",
              "    .colab-df-container {\n",
              "      display:flex;\n",
              "      gap: 12px;\n",
              "    }\n",
              "\n",
              "    .colab-df-convert {\n",
              "      background-color: #E8F0FE;\n",
              "      border: none;\n",
              "      border-radius: 50%;\n",
              "      cursor: pointer;\n",
              "      display: none;\n",
              "      fill: #1967D2;\n",
              "      height: 32px;\n",
              "      padding: 0 0 0 0;\n",
              "      width: 32px;\n",
              "    }\n",
              "\n",
              "    .colab-df-convert:hover {\n",
              "      background-color: #E2EBFA;\n",
              "      box-shadow: 0px 1px 2px rgba(60, 64, 67, 0.3), 0px 1px 3px 1px rgba(60, 64, 67, 0.15);\n",
              "      fill: #174EA6;\n",
              "    }\n",
              "\n",
              "    .colab-df-buttons div {\n",
              "      margin-bottom: 4px;\n",
              "    }\n",
              "\n",
              "    [theme=dark] .colab-df-convert {\n",
              "      background-color: #3B4455;\n",
              "      fill: #D2E3FC;\n",
              "    }\n",
              "\n",
              "    [theme=dark] .colab-df-convert:hover {\n",
              "      background-color: #434B5C;\n",
              "      box-shadow: 0px 1px 3px 1px rgba(0, 0, 0, 0.15);\n",
              "      filter: drop-shadow(0px 1px 2px rgba(0, 0, 0, 0.3));\n",
              "      fill: #FFFFFF;\n",
              "    }\n",
              "  </style>\n",
              "\n",
              "    <script>\n",
              "      const buttonEl =\n",
              "        document.querySelector('#df-a97efb44-8d40-442c-8ae9-1a76b5d9e367 button.colab-df-convert');\n",
              "      buttonEl.style.display =\n",
              "        google.colab.kernel.accessAllowed ? 'block' : 'none';\n",
              "\n",
              "      async function convertToInteractive(key) {\n",
              "        const element = document.querySelector('#df-a97efb44-8d40-442c-8ae9-1a76b5d9e367');\n",
              "        const dataTable =\n",
              "          await google.colab.kernel.invokeFunction('convertToInteractive',\n",
              "                                                    [key], {});\n",
              "        if (!dataTable) return;\n",
              "\n",
              "        const docLinkHtml = 'Like what you see? Visit the ' +\n",
              "          '<a target=\"_blank\" href=https://colab.research.google.com/notebooks/data_table.ipynb>data table notebook</a>'\n",
              "          + ' to learn more about interactive tables.';\n",
              "        element.innerHTML = '';\n",
              "        dataTable['output_type'] = 'display_data';\n",
              "        await google.colab.output.renderOutput(dataTable, element);\n",
              "        const docLink = document.createElement('div');\n",
              "        docLink.innerHTML = docLinkHtml;\n",
              "        element.appendChild(docLink);\n",
              "      }\n",
              "    </script>\n",
              "  </div>\n",
              "\n",
              "\n",
              "<div id=\"df-9c1507a3-3d71-413a-b6bd-11db5cc5510f\">\n",
              "  <button class=\"colab-df-quickchart\" onclick=\"quickchart('df-9c1507a3-3d71-413a-b6bd-11db5cc5510f')\"\n",
              "            title=\"Suggest charts\"\n",
              "            style=\"display:none;\">\n",
              "\n",
              "<svg xmlns=\"http://www.w3.org/2000/svg\" height=\"24px\"viewBox=\"0 0 24 24\"\n",
              "     width=\"24px\">\n",
              "    <g>\n",
              "        <path d=\"M19 3H5c-1.1 0-2 .9-2 2v14c0 1.1.9 2 2 2h14c1.1 0 2-.9 2-2V5c0-1.1-.9-2-2-2zM9 17H7v-7h2v7zm4 0h-2V7h2v10zm4 0h-2v-4h2v4z\"/>\n",
              "    </g>\n",
              "</svg>\n",
              "  </button>\n",
              "\n",
              "<style>\n",
              "  .colab-df-quickchart {\n",
              "      --bg-color: #E8F0FE;\n",
              "      --fill-color: #1967D2;\n",
              "      --hover-bg-color: #E2EBFA;\n",
              "      --hover-fill-color: #174EA6;\n",
              "      --disabled-fill-color: #AAA;\n",
              "      --disabled-bg-color: #DDD;\n",
              "  }\n",
              "\n",
              "  [theme=dark] .colab-df-quickchart {\n",
              "      --bg-color: #3B4455;\n",
              "      --fill-color: #D2E3FC;\n",
              "      --hover-bg-color: #434B5C;\n",
              "      --hover-fill-color: #FFFFFF;\n",
              "      --disabled-bg-color: #3B4455;\n",
              "      --disabled-fill-color: #666;\n",
              "  }\n",
              "\n",
              "  .colab-df-quickchart {\n",
              "    background-color: var(--bg-color);\n",
              "    border: none;\n",
              "    border-radius: 50%;\n",
              "    cursor: pointer;\n",
              "    display: none;\n",
              "    fill: var(--fill-color);\n",
              "    height: 32px;\n",
              "    padding: 0;\n",
              "    width: 32px;\n",
              "  }\n",
              "\n",
              "  .colab-df-quickchart:hover {\n",
              "    background-color: var(--hover-bg-color);\n",
              "    box-shadow: 0 1px 2px rgba(60, 64, 67, 0.3), 0 1px 3px 1px rgba(60, 64, 67, 0.15);\n",
              "    fill: var(--button-hover-fill-color);\n",
              "  }\n",
              "\n",
              "  .colab-df-quickchart-complete:disabled,\n",
              "  .colab-df-quickchart-complete:disabled:hover {\n",
              "    background-color: var(--disabled-bg-color);\n",
              "    fill: var(--disabled-fill-color);\n",
              "    box-shadow: none;\n",
              "  }\n",
              "\n",
              "  .colab-df-spinner {\n",
              "    border: 2px solid var(--fill-color);\n",
              "    border-color: transparent;\n",
              "    border-bottom-color: var(--fill-color);\n",
              "    animation:\n",
              "      spin 1s steps(1) infinite;\n",
              "  }\n",
              "\n",
              "  @keyframes spin {\n",
              "    0% {\n",
              "      border-color: transparent;\n",
              "      border-bottom-color: var(--fill-color);\n",
              "      border-left-color: var(--fill-color);\n",
              "    }\n",
              "    20% {\n",
              "      border-color: transparent;\n",
              "      border-left-color: var(--fill-color);\n",
              "      border-top-color: var(--fill-color);\n",
              "    }\n",
              "    30% {\n",
              "      border-color: transparent;\n",
              "      border-left-color: var(--fill-color);\n",
              "      border-top-color: var(--fill-color);\n",
              "      border-right-color: var(--fill-color);\n",
              "    }\n",
              "    40% {\n",
              "      border-color: transparent;\n",
              "      border-right-color: var(--fill-color);\n",
              "      border-top-color: var(--fill-color);\n",
              "    }\n",
              "    60% {\n",
              "      border-color: transparent;\n",
              "      border-right-color: var(--fill-color);\n",
              "    }\n",
              "    80% {\n",
              "      border-color: transparent;\n",
              "      border-right-color: var(--fill-color);\n",
              "      border-bottom-color: var(--fill-color);\n",
              "    }\n",
              "    90% {\n",
              "      border-color: transparent;\n",
              "      border-bottom-color: var(--fill-color);\n",
              "    }\n",
              "  }\n",
              "</style>\n",
              "\n",
              "  <script>\n",
              "    async function quickchart(key) {\n",
              "      const quickchartButtonEl =\n",
              "        document.querySelector('#' + key + ' button');\n",
              "      quickchartButtonEl.disabled = true;  // To prevent multiple clicks.\n",
              "      quickchartButtonEl.classList.add('colab-df-spinner');\n",
              "      try {\n",
              "        const charts = await google.colab.kernel.invokeFunction(\n",
              "            'suggestCharts', [key], {});\n",
              "      } catch (error) {\n",
              "        console.error('Error during call to suggestCharts:', error);\n",
              "      }\n",
              "      quickchartButtonEl.classList.remove('colab-df-spinner');\n",
              "      quickchartButtonEl.classList.add('colab-df-quickchart-complete');\n",
              "    }\n",
              "    (() => {\n",
              "      let quickchartButtonEl =\n",
              "        document.querySelector('#df-9c1507a3-3d71-413a-b6bd-11db5cc5510f button');\n",
              "      quickchartButtonEl.style.display =\n",
              "        google.colab.kernel.accessAllowed ? 'block' : 'none';\n",
              "    })();\n",
              "  </script>\n",
              "</div>\n",
              "\n",
              "    </div>\n",
              "  </div>\n"
            ],
            "application/vnd.google.colaboratory.intrinsic+json": {
              "type": "dataframe",
              "variable_name": "test"
            }
          },
          "metadata": {},
          "execution_count": 649
        }
      ]
    },
    {
      "cell_type": "code",
      "source": [
        "train.info()"
      ],
      "metadata": {
        "execution": {
          "iopub.status.busy": "2024-08-09T19:22:56.104561Z",
          "iopub.execute_input": "2024-08-09T19:22:56.105006Z",
          "iopub.status.idle": "2024-08-09T19:22:56.130629Z",
          "shell.execute_reply.started": "2024-08-09T19:22:56.104972Z",
          "shell.execute_reply": "2024-08-09T19:22:56.12924Z"
        },
        "trusted": true,
        "colab": {
          "base_uri": "https://localhost:8080/"
        },
        "id": "q3r9qt-zjKgZ",
        "outputId": "c24186da-9b54-4fc8-a2bd-815647e1a6d3"
      },
      "execution_count": 650,
      "outputs": [
        {
          "output_type": "stream",
          "name": "stdout",
          "text": [
            "<class 'pandas.core.frame.DataFrame'>\n",
            "RangeIndex: 20000 entries, 0 to 19999\n",
            "Data columns (total 22 columns):\n",
            " #   Column                 Non-Null Count  Dtype  \n",
            "---  ------                 --------------  -----  \n",
            " 0   Location               20000 non-null  object \n",
            " 1   Cross_Street           3448 non-null   object \n",
            " 2   Latitude               20000 non-null  float64\n",
            " 3   Longitude              20000 non-null  float64\n",
            " 4   Date_Reported          20000 non-null  object \n",
            " 5   Date_Occurred          20000 non-null  object \n",
            " 6   Time_Occurred          20000 non-null  float64\n",
            " 7   Area_ID                20000 non-null  float64\n",
            " 8   Area_Name              20000 non-null  object \n",
            " 9   Reporting_District_no  20000 non-null  float64\n",
            " 10  Part 1-2               20000 non-null  float64\n",
            " 11  Modus_Operandi         17259 non-null  object \n",
            " 12  Victim_Age             20000 non-null  float64\n",
            " 13  Victim_Sex             17376 non-null  object \n",
            " 14  Victim_Descent         17376 non-null  object \n",
            " 15  Premise_Code           20000 non-null  float64\n",
            " 16  Premise_Description    19995 non-null  object \n",
            " 17  Weapon_Used_Code       7335 non-null   float64\n",
            " 18  Weapon_Description     7335 non-null   object \n",
            " 19  Status                 20000 non-null  object \n",
            " 20  Status_Description     20000 non-null  object \n",
            " 21  Crime_Category         20000 non-null  object \n",
            "dtypes: float64(9), object(13)\n",
            "memory usage: 3.4+ MB\n"
          ]
        }
      ]
    },
    {
      "cell_type": "code",
      "source": [
        "test.describe()"
      ],
      "metadata": {
        "execution": {
          "iopub.status.busy": "2024-08-09T19:22:58.405737Z",
          "iopub.execute_input": "2024-08-09T19:22:58.406151Z",
          "iopub.status.idle": "2024-08-09T19:22:58.445261Z",
          "shell.execute_reply.started": "2024-08-09T19:22:58.406119Z",
          "shell.execute_reply": "2024-08-09T19:22:58.44388Z"
        },
        "trusted": true,
        "colab": {
          "base_uri": "https://localhost:8080/",
          "height": 320
        },
        "id": "hSKkouc5jKgZ",
        "outputId": "4e5d1179-4849-4632-9070-fb0eacb8d985"
      },
      "execution_count": 651,
      "outputs": [
        {
          "output_type": "execute_result",
          "data": {
            "text/plain": [
              "          Latitude    Longitude  Time_Occurred      Area_ID  \\\n",
              "count  5000.000000  5000.000000    5000.000000  5000.000000   \n",
              "mean     33.957169  -117.952663    1337.737400    10.736600   \n",
              "std       1.986742     6.890957     663.922202     6.051524   \n",
              "min       0.000000  -118.650300       1.000000     1.000000   \n",
              "25%      34.010800  -118.431200     900.000000     6.000000   \n",
              "50%      34.058000  -118.323200    1430.000000    11.000000   \n",
              "75%      34.162250  -118.274600    1900.000000    16.000000   \n",
              "max      34.327500     0.000000    2359.000000    21.000000   \n",
              "\n",
              "       Reporting_District_no     Part 1-2   Victim_Age  Premise_Code  \\\n",
              "count            5000.000000  5000.000000  5000.000000   5000.000000   \n",
              "mean             1119.879800     1.414000    30.592000    300.858800   \n",
              "std               605.143645     0.492598    21.897905    212.253742   \n",
              "min               101.000000     1.000000    -2.000000    101.000000   \n",
              "25%               628.000000     1.000000    14.000000    101.000000   \n",
              "50%              1138.000000     1.000000    31.000000    203.000000   \n",
              "75%              1622.250000     2.000000    46.000000    501.000000   \n",
              "max              2197.000000     2.000000    99.000000    957.000000   \n",
              "\n",
              "       Weapon_Used_Code  \n",
              "count       1847.000000  \n",
              "mean         364.014077  \n",
              "std          119.489932  \n",
              "min          101.000000  \n",
              "25%          309.000000  \n",
              "50%          400.000000  \n",
              "75%          400.000000  \n",
              "max          516.000000  "
            ],
            "text/html": [
              "\n",
              "  <div id=\"df-dcaf168f-7a76-4873-9d53-a595ce345920\" class=\"colab-df-container\">\n",
              "    <div>\n",
              "<style scoped>\n",
              "    .dataframe tbody tr th:only-of-type {\n",
              "        vertical-align: middle;\n",
              "    }\n",
              "\n",
              "    .dataframe tbody tr th {\n",
              "        vertical-align: top;\n",
              "    }\n",
              "\n",
              "    .dataframe thead th {\n",
              "        text-align: right;\n",
              "    }\n",
              "</style>\n",
              "<table border=\"1\" class=\"dataframe\">\n",
              "  <thead>\n",
              "    <tr style=\"text-align: right;\">\n",
              "      <th></th>\n",
              "      <th>Latitude</th>\n",
              "      <th>Longitude</th>\n",
              "      <th>Time_Occurred</th>\n",
              "      <th>Area_ID</th>\n",
              "      <th>Reporting_District_no</th>\n",
              "      <th>Part 1-2</th>\n",
              "      <th>Victim_Age</th>\n",
              "      <th>Premise_Code</th>\n",
              "      <th>Weapon_Used_Code</th>\n",
              "    </tr>\n",
              "  </thead>\n",
              "  <tbody>\n",
              "    <tr>\n",
              "      <th>count</th>\n",
              "      <td>5000.000000</td>\n",
              "      <td>5000.000000</td>\n",
              "      <td>5000.000000</td>\n",
              "      <td>5000.000000</td>\n",
              "      <td>5000.000000</td>\n",
              "      <td>5000.000000</td>\n",
              "      <td>5000.000000</td>\n",
              "      <td>5000.000000</td>\n",
              "      <td>1847.000000</td>\n",
              "    </tr>\n",
              "    <tr>\n",
              "      <th>mean</th>\n",
              "      <td>33.957169</td>\n",
              "      <td>-117.952663</td>\n",
              "      <td>1337.737400</td>\n",
              "      <td>10.736600</td>\n",
              "      <td>1119.879800</td>\n",
              "      <td>1.414000</td>\n",
              "      <td>30.592000</td>\n",
              "      <td>300.858800</td>\n",
              "      <td>364.014077</td>\n",
              "    </tr>\n",
              "    <tr>\n",
              "      <th>std</th>\n",
              "      <td>1.986742</td>\n",
              "      <td>6.890957</td>\n",
              "      <td>663.922202</td>\n",
              "      <td>6.051524</td>\n",
              "      <td>605.143645</td>\n",
              "      <td>0.492598</td>\n",
              "      <td>21.897905</td>\n",
              "      <td>212.253742</td>\n",
              "      <td>119.489932</td>\n",
              "    </tr>\n",
              "    <tr>\n",
              "      <th>min</th>\n",
              "      <td>0.000000</td>\n",
              "      <td>-118.650300</td>\n",
              "      <td>1.000000</td>\n",
              "      <td>1.000000</td>\n",
              "      <td>101.000000</td>\n",
              "      <td>1.000000</td>\n",
              "      <td>-2.000000</td>\n",
              "      <td>101.000000</td>\n",
              "      <td>101.000000</td>\n",
              "    </tr>\n",
              "    <tr>\n",
              "      <th>25%</th>\n",
              "      <td>34.010800</td>\n",
              "      <td>-118.431200</td>\n",
              "      <td>900.000000</td>\n",
              "      <td>6.000000</td>\n",
              "      <td>628.000000</td>\n",
              "      <td>1.000000</td>\n",
              "      <td>14.000000</td>\n",
              "      <td>101.000000</td>\n",
              "      <td>309.000000</td>\n",
              "    </tr>\n",
              "    <tr>\n",
              "      <th>50%</th>\n",
              "      <td>34.058000</td>\n",
              "      <td>-118.323200</td>\n",
              "      <td>1430.000000</td>\n",
              "      <td>11.000000</td>\n",
              "      <td>1138.000000</td>\n",
              "      <td>1.000000</td>\n",
              "      <td>31.000000</td>\n",
              "      <td>203.000000</td>\n",
              "      <td>400.000000</td>\n",
              "    </tr>\n",
              "    <tr>\n",
              "      <th>75%</th>\n",
              "      <td>34.162250</td>\n",
              "      <td>-118.274600</td>\n",
              "      <td>1900.000000</td>\n",
              "      <td>16.000000</td>\n",
              "      <td>1622.250000</td>\n",
              "      <td>2.000000</td>\n",
              "      <td>46.000000</td>\n",
              "      <td>501.000000</td>\n",
              "      <td>400.000000</td>\n",
              "    </tr>\n",
              "    <tr>\n",
              "      <th>max</th>\n",
              "      <td>34.327500</td>\n",
              "      <td>0.000000</td>\n",
              "      <td>2359.000000</td>\n",
              "      <td>21.000000</td>\n",
              "      <td>2197.000000</td>\n",
              "      <td>2.000000</td>\n",
              "      <td>99.000000</td>\n",
              "      <td>957.000000</td>\n",
              "      <td>516.000000</td>\n",
              "    </tr>\n",
              "  </tbody>\n",
              "</table>\n",
              "</div>\n",
              "    <div class=\"colab-df-buttons\">\n",
              "\n",
              "  <div class=\"colab-df-container\">\n",
              "    <button class=\"colab-df-convert\" onclick=\"convertToInteractive('df-dcaf168f-7a76-4873-9d53-a595ce345920')\"\n",
              "            title=\"Convert this dataframe to an interactive table.\"\n",
              "            style=\"display:none;\">\n",
              "\n",
              "  <svg xmlns=\"http://www.w3.org/2000/svg\" height=\"24px\" viewBox=\"0 -960 960 960\">\n",
              "    <path d=\"M120-120v-720h720v720H120Zm60-500h600v-160H180v160Zm220 220h160v-160H400v160Zm0 220h160v-160H400v160ZM180-400h160v-160H180v160Zm440 0h160v-160H620v160ZM180-180h160v-160H180v160Zm440 0h160v-160H620v160Z\"/>\n",
              "  </svg>\n",
              "    </button>\n",
              "\n",
              "  <style>\n",
              "    .colab-df-container {\n",
              "      display:flex;\n",
              "      gap: 12px;\n",
              "    }\n",
              "\n",
              "    .colab-df-convert {\n",
              "      background-color: #E8F0FE;\n",
              "      border: none;\n",
              "      border-radius: 50%;\n",
              "      cursor: pointer;\n",
              "      display: none;\n",
              "      fill: #1967D2;\n",
              "      height: 32px;\n",
              "      padding: 0 0 0 0;\n",
              "      width: 32px;\n",
              "    }\n",
              "\n",
              "    .colab-df-convert:hover {\n",
              "      background-color: #E2EBFA;\n",
              "      box-shadow: 0px 1px 2px rgba(60, 64, 67, 0.3), 0px 1px 3px 1px rgba(60, 64, 67, 0.15);\n",
              "      fill: #174EA6;\n",
              "    }\n",
              "\n",
              "    .colab-df-buttons div {\n",
              "      margin-bottom: 4px;\n",
              "    }\n",
              "\n",
              "    [theme=dark] .colab-df-convert {\n",
              "      background-color: #3B4455;\n",
              "      fill: #D2E3FC;\n",
              "    }\n",
              "\n",
              "    [theme=dark] .colab-df-convert:hover {\n",
              "      background-color: #434B5C;\n",
              "      box-shadow: 0px 1px 3px 1px rgba(0, 0, 0, 0.15);\n",
              "      filter: drop-shadow(0px 1px 2px rgba(0, 0, 0, 0.3));\n",
              "      fill: #FFFFFF;\n",
              "    }\n",
              "  </style>\n",
              "\n",
              "    <script>\n",
              "      const buttonEl =\n",
              "        document.querySelector('#df-dcaf168f-7a76-4873-9d53-a595ce345920 button.colab-df-convert');\n",
              "      buttonEl.style.display =\n",
              "        google.colab.kernel.accessAllowed ? 'block' : 'none';\n",
              "\n",
              "      async function convertToInteractive(key) {\n",
              "        const element = document.querySelector('#df-dcaf168f-7a76-4873-9d53-a595ce345920');\n",
              "        const dataTable =\n",
              "          await google.colab.kernel.invokeFunction('convertToInteractive',\n",
              "                                                    [key], {});\n",
              "        if (!dataTable) return;\n",
              "\n",
              "        const docLinkHtml = 'Like what you see? Visit the ' +\n",
              "          '<a target=\"_blank\" href=https://colab.research.google.com/notebooks/data_table.ipynb>data table notebook</a>'\n",
              "          + ' to learn more about interactive tables.';\n",
              "        element.innerHTML = '';\n",
              "        dataTable['output_type'] = 'display_data';\n",
              "        await google.colab.output.renderOutput(dataTable, element);\n",
              "        const docLink = document.createElement('div');\n",
              "        docLink.innerHTML = docLinkHtml;\n",
              "        element.appendChild(docLink);\n",
              "      }\n",
              "    </script>\n",
              "  </div>\n",
              "\n",
              "\n",
              "<div id=\"df-3e415673-64be-402e-9e1f-18a62d806654\">\n",
              "  <button class=\"colab-df-quickchart\" onclick=\"quickchart('df-3e415673-64be-402e-9e1f-18a62d806654')\"\n",
              "            title=\"Suggest charts\"\n",
              "            style=\"display:none;\">\n",
              "\n",
              "<svg xmlns=\"http://www.w3.org/2000/svg\" height=\"24px\"viewBox=\"0 0 24 24\"\n",
              "     width=\"24px\">\n",
              "    <g>\n",
              "        <path d=\"M19 3H5c-1.1 0-2 .9-2 2v14c0 1.1.9 2 2 2h14c1.1 0 2-.9 2-2V5c0-1.1-.9-2-2-2zM9 17H7v-7h2v7zm4 0h-2V7h2v10zm4 0h-2v-4h2v4z\"/>\n",
              "    </g>\n",
              "</svg>\n",
              "  </button>\n",
              "\n",
              "<style>\n",
              "  .colab-df-quickchart {\n",
              "      --bg-color: #E8F0FE;\n",
              "      --fill-color: #1967D2;\n",
              "      --hover-bg-color: #E2EBFA;\n",
              "      --hover-fill-color: #174EA6;\n",
              "      --disabled-fill-color: #AAA;\n",
              "      --disabled-bg-color: #DDD;\n",
              "  }\n",
              "\n",
              "  [theme=dark] .colab-df-quickchart {\n",
              "      --bg-color: #3B4455;\n",
              "      --fill-color: #D2E3FC;\n",
              "      --hover-bg-color: #434B5C;\n",
              "      --hover-fill-color: #FFFFFF;\n",
              "      --disabled-bg-color: #3B4455;\n",
              "      --disabled-fill-color: #666;\n",
              "  }\n",
              "\n",
              "  .colab-df-quickchart {\n",
              "    background-color: var(--bg-color);\n",
              "    border: none;\n",
              "    border-radius: 50%;\n",
              "    cursor: pointer;\n",
              "    display: none;\n",
              "    fill: var(--fill-color);\n",
              "    height: 32px;\n",
              "    padding: 0;\n",
              "    width: 32px;\n",
              "  }\n",
              "\n",
              "  .colab-df-quickchart:hover {\n",
              "    background-color: var(--hover-bg-color);\n",
              "    box-shadow: 0 1px 2px rgba(60, 64, 67, 0.3), 0 1px 3px 1px rgba(60, 64, 67, 0.15);\n",
              "    fill: var(--button-hover-fill-color);\n",
              "  }\n",
              "\n",
              "  .colab-df-quickchart-complete:disabled,\n",
              "  .colab-df-quickchart-complete:disabled:hover {\n",
              "    background-color: var(--disabled-bg-color);\n",
              "    fill: var(--disabled-fill-color);\n",
              "    box-shadow: none;\n",
              "  }\n",
              "\n",
              "  .colab-df-spinner {\n",
              "    border: 2px solid var(--fill-color);\n",
              "    border-color: transparent;\n",
              "    border-bottom-color: var(--fill-color);\n",
              "    animation:\n",
              "      spin 1s steps(1) infinite;\n",
              "  }\n",
              "\n",
              "  @keyframes spin {\n",
              "    0% {\n",
              "      border-color: transparent;\n",
              "      border-bottom-color: var(--fill-color);\n",
              "      border-left-color: var(--fill-color);\n",
              "    }\n",
              "    20% {\n",
              "      border-color: transparent;\n",
              "      border-left-color: var(--fill-color);\n",
              "      border-top-color: var(--fill-color);\n",
              "    }\n",
              "    30% {\n",
              "      border-color: transparent;\n",
              "      border-left-color: var(--fill-color);\n",
              "      border-top-color: var(--fill-color);\n",
              "      border-right-color: var(--fill-color);\n",
              "    }\n",
              "    40% {\n",
              "      border-color: transparent;\n",
              "      border-right-color: var(--fill-color);\n",
              "      border-top-color: var(--fill-color);\n",
              "    }\n",
              "    60% {\n",
              "      border-color: transparent;\n",
              "      border-right-color: var(--fill-color);\n",
              "    }\n",
              "    80% {\n",
              "      border-color: transparent;\n",
              "      border-right-color: var(--fill-color);\n",
              "      border-bottom-color: var(--fill-color);\n",
              "    }\n",
              "    90% {\n",
              "      border-color: transparent;\n",
              "      border-bottom-color: var(--fill-color);\n",
              "    }\n",
              "  }\n",
              "</style>\n",
              "\n",
              "  <script>\n",
              "    async function quickchart(key) {\n",
              "      const quickchartButtonEl =\n",
              "        document.querySelector('#' + key + ' button');\n",
              "      quickchartButtonEl.disabled = true;  // To prevent multiple clicks.\n",
              "      quickchartButtonEl.classList.add('colab-df-spinner');\n",
              "      try {\n",
              "        const charts = await google.colab.kernel.invokeFunction(\n",
              "            'suggestCharts', [key], {});\n",
              "      } catch (error) {\n",
              "        console.error('Error during call to suggestCharts:', error);\n",
              "      }\n",
              "      quickchartButtonEl.classList.remove('colab-df-spinner');\n",
              "      quickchartButtonEl.classList.add('colab-df-quickchart-complete');\n",
              "    }\n",
              "    (() => {\n",
              "      let quickchartButtonEl =\n",
              "        document.querySelector('#df-3e415673-64be-402e-9e1f-18a62d806654 button');\n",
              "      quickchartButtonEl.style.display =\n",
              "        google.colab.kernel.accessAllowed ? 'block' : 'none';\n",
              "    })();\n",
              "  </script>\n",
              "</div>\n",
              "\n",
              "    </div>\n",
              "  </div>\n"
            ],
            "application/vnd.google.colaboratory.intrinsic+json": {
              "type": "dataframe",
              "summary": "{\n  \"name\": \"test\",\n  \"rows\": 8,\n  \"fields\": [\n    {\n      \"column\": \"Latitude\",\n      \"properties\": {\n        \"dtype\": \"number\",\n        \"std\": 1759.117938097704,\n        \"min\": 0.0,\n        \"max\": 5000.0,\n        \"num_unique_values\": 8,\n        \"samples\": [\n          33.957169199999996,\n          34.058,\n          5000.0\n        ],\n        \"semantic_type\": \"\",\n        \"description\": \"\"\n      }\n    },\n    {\n      \"column\": \"Longitude\",\n      \"properties\": {\n        \"dtype\": \"number\",\n        \"std\": 1798.1434640646687,\n        \"min\": -118.6503,\n        \"max\": 5000.0,\n        \"num_unique_values\": 8,\n        \"samples\": [\n          -117.9526628,\n          -118.3232,\n          5000.0\n        ],\n        \"semantic_type\": \"\",\n        \"description\": \"\"\n      }\n    },\n    {\n      \"column\": \"Time_Occurred\",\n      \"properties\": {\n        \"dtype\": \"number\",\n        \"std\": 1519.796259831699,\n        \"min\": 1.0,\n        \"max\": 5000.0,\n        \"num_unique_values\": 8,\n        \"samples\": [\n          1337.7374,\n          1430.0,\n          5000.0\n        ],\n        \"semantic_type\": \"\",\n        \"description\": \"\"\n      }\n    },\n    {\n      \"column\": \"Area_ID\",\n      \"properties\": {\n        \"dtype\": \"number\",\n        \"std\": 1764.1520645697935,\n        \"min\": 1.0,\n        \"max\": 5000.0,\n        \"num_unique_values\": 8,\n        \"samples\": [\n          10.7366,\n          11.0,\n          5000.0\n        ],\n        \"semantic_type\": \"\",\n        \"description\": \"\"\n      }\n    },\n    {\n      \"column\": \"Reporting_District_no\",\n      \"properties\": {\n        \"dtype\": \"number\",\n        \"std\": 1536.3918349802577,\n        \"min\": 101.0,\n        \"max\": 5000.0,\n        \"num_unique_values\": 8,\n        \"samples\": [\n          1119.8798,\n          1138.0,\n          5000.0\n        ],\n        \"semantic_type\": \"\",\n        \"description\": \"\"\n      }\n    },\n    {\n      \"column\": \"Part 1-2\",\n      \"properties\": {\n        \"dtype\": \"number\",\n        \"std\": 1767.3171790251488,\n        \"min\": 0.4925977370086913,\n        \"max\": 5000.0,\n        \"num_unique_values\": 5,\n        \"samples\": [\n          1.414,\n          2.0,\n          0.4925977370086913\n        ],\n        \"semantic_type\": \"\",\n        \"description\": \"\"\n      }\n    },\n    {\n      \"column\": \"Victim_Age\",\n      \"properties\": {\n        \"dtype\": \"number\",\n        \"std\": 1755.873880244116,\n        \"min\": -2.0,\n        \"max\": 5000.0,\n        \"num_unique_values\": 8,\n        \"samples\": [\n          30.592,\n          31.0,\n          5000.0\n        ],\n        \"semantic_type\": \"\",\n        \"description\": \"\"\n      }\n    },\n    {\n      \"column\": \"Premise_Code\",\n      \"properties\": {\n        \"dtype\": \"number\",\n        \"std\": 1671.7462700579626,\n        \"min\": 101.0,\n        \"max\": 5000.0,\n        \"num_unique_values\": 7,\n        \"samples\": [\n          5000.0,\n          300.8588,\n          501.0\n        ],\n        \"semantic_type\": \"\",\n        \"description\": \"\"\n      }\n    },\n    {\n      \"column\": \"Weapon_Used_Code\",\n      \"properties\": {\n        \"dtype\": \"number\",\n        \"std\": 559.748412293413,\n        \"min\": 101.0,\n        \"max\": 1847.0,\n        \"num_unique_values\": 7,\n        \"samples\": [\n          1847.0,\n          364.01407688142933,\n          400.0\n        ],\n        \"semantic_type\": \"\",\n        \"description\": \"\"\n      }\n    }\n  ]\n}"
            }
          },
          "metadata": {},
          "execution_count": 651
        }
      ]
    },
    {
      "cell_type": "markdown",
      "source": [
        "## 3.4 - Plots"
      ],
      "metadata": {
        "id": "06Tgc4LjjKga"
      }
    },
    {
      "cell_type": "code",
      "source": [
        "# Pie chart\n",
        "plt.figure(figsize=(8, 8))\n",
        "train['Crime_Category'].value_counts().plot.pie(autopct='%1.1f%%', colors=sns.color_palette('viridis', len(train['Crime_Category'].unique())))\n",
        "plt.title('Crime Distribution by Category')\n",
        "plt.ylabel('')\n",
        "plt.show()"
      ],
      "metadata": {
        "execution": {
          "iopub.status.busy": "2024-08-09T19:23:01.208566Z",
          "iopub.execute_input": "2024-08-09T19:23:01.209023Z",
          "iopub.status.idle": "2024-08-09T19:23:01.473767Z",
          "shell.execute_reply.started": "2024-08-09T19:23:01.208989Z",
          "shell.execute_reply": "2024-08-09T19:23:01.472428Z"
        },
        "trusted": true,
        "colab": {
          "base_uri": "https://localhost:8080/",
          "height": 675
        },
        "id": "WcupZ-03jKga",
        "outputId": "4ecd52a2-bf1c-4dca-fc38-2f056b0b8034"
      },
      "execution_count": 652,
      "outputs": [
        {
          "output_type": "display_data",
          "data": {
            "text/plain": [
              "<Figure size 800x800 with 1 Axes>"
            ],
            "image/png": "[encoded data removed]"
          },
          "metadata": {}
        }
      ]
    },
    {
      "cell_type": "markdown",
      "source": [
        "Interpretations from the plot above :\n",
        "\n",
        "- The frequency of \"Property Crimes\" is highest.\n",
        "- The frequency of \"Other Crimes\" and \" Crime Against Persons\" is very low comapred to rest of the Crimes."
      ],
      "metadata": {
        "id": "DeSIUy3mjKga"
      }
    },
    {
      "cell_type": "markdown",
      "source": [
        "## 3.5 - Histogram"
      ],
      "metadata": {
        "id": "7HyM6n57jKgb"
      }
    },
    {
      "cell_type": "code",
      "source": [
        "cols_to_plot = [\n",
        "    'Latitude',\n",
        "    'Longitude',\n",
        "    'Area_ID',\n",
        "    'Reporting_District_no',\n",
        "    'Victim_Age',\n",
        "    'Premise_Code',\n",
        "    'Weapon_Used_Code'\n",
        "]\n",
        "\n",
        "# Density plot for each selected column\n",
        "fig, axes = plt.subplots(nrows=len(cols_to_plot), figsize=(12, 15))\n",
        "for i, col in enumerate(cols_to_plot):\n",
        "    train[col].plot(kind='density', ax=axes[i])\n",
        "    axes[i].set_title(f'Density Plot of {col}')\n",
        "\n",
        "plt.tight_layout()\n",
        "plt.show()"
      ],
      "metadata": {
        "execution": {
          "iopub.status.busy": "2024-08-09T19:23:04.888469Z",
          "iopub.execute_input": "2024-08-09T19:23:04.888918Z",
          "iopub.status.idle": "2024-08-09T19:23:06.886612Z",
          "shell.execute_reply.started": "2024-08-09T19:23:04.888876Z",
          "shell.execute_reply": "2024-08-09T19:23:06.885384Z"
        },
        "trusted": true,
        "colab": {
          "base_uri": "https://localhost:8080/",
          "height": 1000
        },
        "id": "DubKFQ75jKgb",
        "outputId": "5f99626e-3b9f-4995-dd59-ce9cec82c53b"
      },
      "execution_count": 653,
      "outputs": [
        {
          "output_type": "display_data",
          "data": {
            "text/plain": [
              "<Figure size 1200x1500 with 7 Axes>"
            ],
            "image/png": "[encoded data removed]"
          },
          "metadata": {}
        }
      ]
    },
    {
      "cell_type": "code",
      "source": [
        "train[\"Time_Occurred\"].hist(figsize=(6, 4), bins=24, edgecolor='black')"
      ],
      "metadata": {
        "execution": {
          "iopub.status.busy": "2024-08-09T19:23:12.022664Z",
          "iopub.execute_input": "2024-08-09T19:23:12.023091Z",
          "iopub.status.idle": "2024-08-09T19:23:12.271968Z",
          "shell.execute_reply.started": "2024-08-09T19:23:12.023058Z",
          "shell.execute_reply": "2024-08-09T19:23:12.270829Z"
        },
        "trusted": true,
        "colab": {
          "base_uri": "https://localhost:8080/",
          "height": 385
        },
        "id": "0AJvg3SdjKgb",
        "outputId": "f917de0e-e7eb-432e-c6fa-1b628ff6882a"
      },
      "execution_count": 654,
      "outputs": [
        {
          "output_type": "execute_result",
          "data": {
            "text/plain": [
              "<Axes: >"
            ]
          },
          "metadata": {},
          "execution_count": 654
        },
        {
          "output_type": "display_data",
          "data": {
            "text/plain": [
              "<Figure size 600x400 with 1 Axes>"
            ],
            "image/png": "[encoded data removed]"
          },
          "metadata": {}
        }
      ]
    },
    {
      "cell_type": "markdown",
      "source": [
        "Interpretations from the histogram plot above :    \n",
        "- The Latitude values are concentrated in a range around 30 degrees.\n",
        "- The Longitude values are concentrated in a range around -100 degrees.\n",
        "- There is a sudden rise in crimes in early after noon.\n",
        "- The frequency of crime is also higher between the time interval 11:00 to 01:00.\n",
        "- Crimes are more or less evenly distributed across Area ID. Same with Reporting District Number.\n",
        "- There seems to be high count of Victim Age where Value is zero it could mean that the victim age is unkown.\n",
        "- Most of the Victims lie in the range 20 to 60.\n",
        "- The frequency of some Premise Codes are higher.\n",
        "- The weapon with weapon code 400 (i.e. \"STRONG-ARM (HANDS, FIST, FEET OR BODILY FORCE)\" according to it's Description) seems to be dominating."
      ],
      "metadata": {
        "id": "oNW4J9FdjKgc"
      }
    },
    {
      "cell_type": "code",
      "source": [
        "# Creating the count plot with labels and title in one line\n",
        "sns.countplot(data=train, x='Victim_Sex').set(\n",
        "    xlabel='Victim Sex', ylabel='Count', title='Distribution of Victim Sex'\n",
        ")\n",
        "\n",
        "# Displaying the plot\n",
        "plt.show()"
      ],
      "metadata": {
        "execution": {
          "iopub.status.busy": "2024-08-09T19:23:32.955489Z",
          "iopub.execute_input": "2024-08-09T19:23:32.95594Z",
          "iopub.status.idle": "2024-08-09T19:23:33.169794Z",
          "shell.execute_reply.started": "2024-08-09T19:23:32.955905Z",
          "shell.execute_reply": "2024-08-09T19:23:33.168541Z"
        },
        "trusted": true,
        "colab": {
          "base_uri": "https://localhost:8080/",
          "height": 472
        },
        "id": "CnIauhNgjKgc",
        "outputId": "3e5d656e-c4ef-4ba6-9fde-59b7a7820918"
      },
      "execution_count": 655,
      "outputs": [
        {
          "output_type": "display_data",
          "data": {
            "text/plain": [
              "<Figure size 640x480 with 1 Axes>"
            ],
            "image/png": "[encoded data removed]"
          },
          "metadata": {}
        }
      ]
    },
    {
      "cell_type": "markdown",
      "source": [
        "Interpretations from the plot above :\n",
        "- The Male Victims are slightly more frequent than female victims.\n",
        "- The other Victims are not that frequenlt."
      ],
      "metadata": {
        "id": "KCaMsuC4jKgd"
      }
    },
    {
      "cell_type": "code",
      "source": [
        "# Creating the count plot for Victim Descent\n",
        "plt.figure(figsize=(10, 6))\n",
        "sns.countplot(data=train, x='Victim_Descent', hue='Victim_Descent', palette='viridis', legend=False)\n",
        "\n",
        "# Adding labels and title\n",
        "plt.xlabel('Victim Descent')\n",
        "plt.ylabel('Count')\n",
        "plt.title('Distribution of Victim Descent')\n",
        "\n",
        "# Displaying the plot\n",
        "plt.xticks(rotation=45)  # Rotate x-axis labels for better visibility\n",
        "plt.show()"
      ],
      "metadata": {
        "execution": {
          "iopub.status.busy": "2024-08-09T19:23:37.649164Z",
          "iopub.execute_input": "2024-08-09T19:23:37.649573Z",
          "iopub.status.idle": "2024-08-09T19:23:37.988397Z",
          "shell.execute_reply.started": "2024-08-09T19:23:37.649541Z",
          "shell.execute_reply": "2024-08-09T19:23:37.987124Z"
        },
        "trusted": true,
        "colab": {
          "base_uri": "https://localhost:8080/",
          "height": 570
        },
        "id": "AW39DCPLjKge",
        "outputId": "96eb7bcc-a40c-4fd4-9758-dc475bc09297"
      },
      "execution_count": 656,
      "outputs": [
        {
          "output_type": "display_data",
          "data": {
            "text/plain": [
              "<Figure size 1000x600 with 1 Axes>"
            ],
            "image/png": "[encoded data removed]"
          },
          "metadata": {}
        }
      ]
    },
    {
      "cell_type": "markdown",
      "source": [
        "Interpretations from the plot above :\n",
        "- The Victims against whom the crmies are commited more frequently have H, W, B, X, O, A as their descent."
      ],
      "metadata": {
        "id": "iyC503BTjKge"
      }
    },
    {
      "cell_type": "code",
      "source": [
        "# Creating the count plot for Case Status\n",
        "plt.figure(figsize=(8, 5))\n",
        "sns.countplot(data=train, x='Status', hue='Status', palette='viridis', legend=False)\n",
        "\n",
        "# Adding labels and title\n",
        "plt.xlabel('Status')\n",
        "plt.ylabel('Count')\n",
        "plt.title('Distribution of Case Status')\n",
        "\n",
        "# Displaying the plot\n",
        "plt.xticks(rotation=45)  # Rotate x-axis labels for better visibility\n",
        "plt.show()\n"
      ],
      "metadata": {
        "execution": {
          "iopub.status.busy": "2024-08-09T19:23:42.804255Z",
          "iopub.execute_input": "2024-08-09T19:23:42.804644Z",
          "iopub.status.idle": "2024-08-09T19:23:43.067053Z",
          "shell.execute_reply.started": "2024-08-09T19:23:42.804615Z",
          "shell.execute_reply": "2024-08-09T19:23:43.065782Z"
        },
        "trusted": true,
        "colab": {
          "base_uri": "https://localhost:8080/",
          "height": 497
        },
        "id": "DWN5DQH6jKgf",
        "outputId": "89c89811-6869-42ca-eaff-0bf98cc505ad"
      },
      "execution_count": 657,
      "outputs": [
        {
          "output_type": "display_data",
          "data": {
            "text/plain": [
              "<Figure size 800x500 with 1 Axes>"
            ],
            "image/png": "[encoded data removed]"
          },
          "metadata": {}
        }
      ]
    },
    {
      "cell_type": "markdown",
      "source": [
        "Interpretations from the above plot :\n",
        "- The Status Code IC which means Investigation Continued is dominating implying majority of the crimes are not yet solved."
      ],
      "metadata": {
        "id": "exmOtdRQjKgf"
      }
    },
    {
      "cell_type": "markdown",
      "source": [
        "## Common Data For Correlation Matrix and Box Plot"
      ],
      "metadata": {
        "id": "5jMy-AFojKgg"
      }
    },
    {
      "cell_type": "markdown",
      "source": [
        "- Converting some categorical columns to Numerical by label encoding them so that their correlation can be checked with some other important columns"
      ],
      "metadata": {
        "id": "l6MJQ9fbjKgh"
      }
    },
    {
      "cell_type": "code",
      "source": [
        "le = LabelEncoder()\n",
        "cce = pd.Series(le.fit_transform(train.Crime_Category))\n",
        "vse = pd.Series(le.fit_transform(train.Victim_Sex))\n",
        "vde = pd.Series(le.fit_transform(train.Victim_Descent))\n",
        "se = pd.Series(le.fit_transform(train.Status))\n",
        "e_train = pd.concat([train.drop(columns=['Crime_Category','Victim_Sex','Victim_Descent','Status']), cce], axis=1)\n",
        "e_train.rename(columns={0: 'Crime_Category'}, inplace=True)\n",
        "e_train = pd.concat([e_train, vse], axis=1)\n",
        "e_train.rename(columns={0: 'Victim_Sex'}, inplace=True)\n",
        "e_train = pd.concat([e_train, vde], axis=1)\n",
        "e_train.rename(columns={0: 'Victim_Descent'}, inplace=True)\n",
        "e_train = pd.concat([e_train, se], axis=1)\n",
        "e_train.rename(columns={0: 'Status'}, inplace=True)\n",
        "\n",
        "cols_to_plot = [\n",
        "                'Latitude',\n",
        "                'Longitude',\n",
        "                'Time_Occurred',\n",
        "                'Area_ID',\n",
        "                'Reporting_District_no',\n",
        "                'Victim_Age',\n",
        "                'Victim_Sex',\n",
        "                'Victim_Descent',\n",
        "                'Premise_Code',\n",
        "                'Weapon_Used_Code',\n",
        "                'Part 1-2',\n",
        "                'Status',\n",
        "                'Crime_Category'\n",
        "]"
      ],
      "metadata": {
        "execution": {
          "iopub.status.busy": "2024-08-09T19:23:49.912015Z",
          "iopub.execute_input": "2024-08-09T19:23:49.912414Z",
          "iopub.status.idle": "2024-08-09T19:23:49.964348Z",
          "shell.execute_reply.started": "2024-08-09T19:23:49.912383Z",
          "shell.execute_reply": "2024-08-09T19:23:49.963027Z"
        },
        "trusted": true,
        "id": "-HhPKDqPjKgh"
      },
      "execution_count": 658,
      "outputs": []
    },
    {
      "cell_type": "markdown",
      "source": [
        "## 3.6 - Correlation Matrix"
      ],
      "metadata": {
        "id": "0H45q12FjKgi"
      }
    },
    {
      "cell_type": "code",
      "source": [
        "# correlation matrix\n",
        "# Calculate the correlation matrix for the selected columns\n",
        "corr_mat = e_train[cols_to_plot].corr()\n",
        "\n",
        "# Set up the matplotlib figure\n",
        "plt.figure(figsize=(10, 8))\n",
        "\n",
        "# Create a heatmap to visualize the correlation matrix\n",
        "sns.heatmap(corr_mat, annot=True, fmt='.2f', cmap='coolwarm', square=True, cbar_kws={\"shrink\": .8}, linewidths=0.5)\n",
        "\n",
        "# Adding titles and labels\n",
        "plt.title('Correlation Matrix Heatmap', fontsize=16)\n",
        "plt.xticks(rotation=45)  # Rotate x-axis labels for better visibility\n",
        "plt.yticks(rotation=0)   # Keep y-axis labels horizontal\n",
        "plt.tight_layout()  # Adjust layout to make room for labels\n",
        "\n",
        "# Display the plot\n",
        "plt.show()"
      ],
      "metadata": {
        "execution": {
          "iopub.status.busy": "2024-08-09T19:23:56.650273Z",
          "iopub.execute_input": "2024-08-09T19:23:56.651431Z",
          "iopub.status.idle": "2024-08-09T19:23:57.75613Z",
          "shell.execute_reply.started": "2024-08-09T19:23:56.651393Z",
          "shell.execute_reply": "2024-08-09T19:23:57.754906Z"
        },
        "trusted": true,
        "colab": {
          "base_uri": "https://localhost:8080/",
          "height": 802
        },
        "id": "C0VIxjJHjKgj",
        "outputId": "718b1318-4c20-4db3-95f6-2ae814a5f839"
      },
      "execution_count": 659,
      "outputs": [
        {
          "output_type": "display_data",
          "data": {
            "text/plain": [
              "<Figure size 1000x800 with 2 Axes>"
            ],
            "image/png": "[encoded data removed]"
          },
          "metadata": {}
        }
      ]
    },
    {
      "cell_type": "markdown",
      "source": [
        "Interpretations from the Correlation Matrix above :\n",
        "- There is a correlation of 1 between the columns \"Area_ID\" and \"Reporting_District_no\" implying they carry identical data and we can try dropping one of the columns.\n",
        "  - Tried Removing one of the columns from \"Area_ID\" or \"Reporting_District_no\", but doing so the accuracy for models didn't increase, it either remained same or decreased slightly. So After observing the changes I decided not to drop either of them.\n",
        "- There is a weak positive correlation between \"Premise_Code\" and \"Part 1-2\" implying there might be some influence of premise code on whether a crime is classified as part 1 or part 2.\n",
        "- Similarly there is also weak positive correlation between \"Premise_Code\" and \"Weapon_Used_Code\" imdicating the type of premise may have influence on weapon usage or type of weapon being used.\n",
        "- There is a moderate positive correlation between \"Weapon_Used_Code\" and \"Part 1-2\" indicating that type of weapon might influence whether a crime is classified as part 1 or part 2.\n",
        "- There seems to be no such columns which are correlated with \"Crime_Category\" implying it might not depend on a single factor and there could be multiple factors affecting the classification."
      ],
      "metadata": {
        "id": "torzrwR9jKgk"
      }
    },
    {
      "cell_type": "markdown",
      "source": [
        "## 3.7 - Box Plots"
      ],
      "metadata": {
        "id": "lufKDk7qjKgk"
      }
    },
    {
      "cell_type": "code",
      "source": [
        "plt.figure(figsize=(10,8))\n",
        "sns.boxplot(data=e_train[cols_to_plot])\n",
        "plt.xticks(rotation=90)\n",
        "plt.tight_layout()\n",
        "plt.show()"
      ],
      "metadata": {
        "execution": {
          "iopub.status.busy": "2024-08-09T19:24:19.424573Z",
          "iopub.execute_input": "2024-08-09T19:24:19.425005Z",
          "iopub.status.idle": "2024-08-09T19:24:19.845227Z",
          "shell.execute_reply.started": "2024-08-09T19:24:19.424973Z",
          "shell.execute_reply": "2024-08-09T19:24:19.844198Z"
        },
        "trusted": true,
        "colab": {
          "base_uri": "https://localhost:8080/",
          "height": 743
        },
        "id": "lBPiB1nIjKgv",
        "outputId": "71f65af3-a3d4-43bc-ff6f-718be7a19c42"
      },
      "execution_count": 660,
      "outputs": [
        {
          "output_type": "display_data",
          "data": {
            "text/plain": [
              "<Figure size 1000x800 with 1 Axes>"
            ],
            "image/png": "[encoded data removed]"
          },
          "metadata": {}
        }
      ]
    },
    {
      "cell_type": "markdown",
      "source": [
        "Interpretations from the Box Plots above :\n",
        "- There seems to be not outliers in the columns \"Time_occured\", \"Reporting_District_no\", \"Victim_Sex\", \"Victim_Descent\", \"Premise_Code\", \"Part 1-2\".\n",
        "- There are outliers in the columns \"Latitude\", \"Longitude\", \"Victim_Age\", \"Weapon_Used_Code\", \"Status\", \"Crime_Category\".\n",
        "- We can remove the outliers for better accuracy.\n",
        "- Tried Removing the outliers and trained the models on it but keeping the outliers was giving slightly better accuracy so decided to train the models with keeping the outliers.\n"
      ],
      "metadata": {
        "id": "rldYMLTPjKgv"
      }
    },
    {
      "cell_type": "markdown",
      "source": [
        "## 3.8 - Checking unique values for some columns in train and test data."
      ],
      "metadata": {
        "id": "92zLLWmXjKgw"
      }
    },
    {
      "cell_type": "code",
      "source": [
        "print(f\"Unique values in Victim_Sex Column of Train data = {train.Victim_Sex.unique()}\")\n",
        "print(f\"Unique values in Victim_Sex Column of Test data = {test.Victim_Sex.unique()}\")"
      ],
      "metadata": {
        "execution": {
          "iopub.status.busy": "2024-08-09T19:24:33.430168Z",
          "iopub.execute_input": "2024-08-09T19:24:33.430979Z",
          "iopub.status.idle": "2024-08-09T19:24:33.438377Z",
          "shell.execute_reply.started": "2024-08-09T19:24:33.430929Z",
          "shell.execute_reply": "2024-08-09T19:24:33.437125Z"
        },
        "trusted": true,
        "colab": {
          "base_uri": "https://localhost:8080/"
        },
        "id": "3gk3awN_jKgw",
        "outputId": "0b62e3d4-1928-4089-b4c5-b07c1df2824c"
      },
      "execution_count": 661,
      "outputs": [
        {
          "output_type": "stream",
          "name": "stdout",
          "text": [
            "Unique values in Victim_Sex Column of Train data = ['M' 'X' 'F' nan 'H']\n",
            "Unique values in Victim_Sex Column of Test data = ['F' 'M' nan 'X' 'H']\n"
          ]
        }
      ]
    },
    {
      "cell_type": "markdown",
      "source": [
        "- The unique values present in the \"Victim_Sex\" column in both train and test data are same."
      ],
      "metadata": {
        "id": "iPmzVZILjKgx"
      }
    },
    {
      "cell_type": "code",
      "source": [
        "print(f\"Unique values in Status Column of Train data = {train.Status.unique()}\")\n",
        "print(f\"Unique values in Status Column of Test data = {test.Status.unique()}\")"
      ],
      "metadata": {
        "execution": {
          "iopub.status.busy": "2024-08-09T19:24:36.608752Z",
          "iopub.execute_input": "2024-08-09T19:24:36.609752Z",
          "iopub.status.idle": "2024-08-09T19:24:36.61713Z",
          "shell.execute_reply.started": "2024-08-09T19:24:36.609713Z",
          "shell.execute_reply": "2024-08-09T19:24:36.615805Z"
        },
        "trusted": true,
        "colab": {
          "base_uri": "https://localhost:8080/"
        },
        "id": "DwPMzNvdjKgx",
        "outputId": "675e5c17-c533-48dc-cf45-10f971f14b45"
      },
      "execution_count": 662,
      "outputs": [
        {
          "output_type": "stream",
          "name": "stdout",
          "text": [
            "Unique values in Status Column of Train data = ['IC' 'AO' 'AA' 'JA' 'JO']\n",
            "Unique values in Status Column of Test data = ['IC' 'AO' 'AA' 'JO' 'JA']\n"
          ]
        }
      ]
    },
    {
      "cell_type": "markdown",
      "source": [
        "- The unique values present in the \"Status\" column in both train and test data are same."
      ],
      "metadata": {
        "id": "H_ePi9AkjKgy"
      }
    },
    {
      "cell_type": "code",
      "source": [
        "print(f\"Unique values in Victim_Descent Column of Train data = {train.Victim_Descent.unique()}\")\n",
        "print(f\"Unique values in Victim_Descent Column of Test data = {test.Victim_Descent.unique()}\")"
      ],
      "metadata": {
        "execution": {
          "iopub.status.busy": "2024-08-09T19:24:40.690491Z",
          "iopub.execute_input": "2024-08-09T19:24:40.691688Z",
          "iopub.status.idle": "2024-08-09T19:24:40.698734Z",
          "shell.execute_reply.started": "2024-08-09T19:24:40.691604Z",
          "shell.execute_reply": "2024-08-09T19:24:40.697591Z"
        },
        "trusted": true,
        "colab": {
          "base_uri": "https://localhost:8080/"
        },
        "id": "XN1mWznJjKgy",
        "outputId": "dac56bdb-0db7-438b-98d0-8811e7c5092d"
      },
      "execution_count": 663,
      "outputs": [
        {
          "output_type": "stream",
          "name": "stdout",
          "text": [
            "Unique values in Victim_Descent Column of Train data = ['W' 'H' 'B' 'X' nan 'O' 'A' 'K' 'C' 'F' 'I' 'J' 'Z' 'V' 'P' 'D' 'U' 'G']\n",
            "Unique values in Victim_Descent Column of Test data = ['H' 'B' nan 'W' 'Z' 'K' 'X' 'O' 'A' 'J' 'I' 'C' 'F' 'V' 'G' 'P' 'S']\n"
          ]
        }
      ]
    },
    {
      "cell_type": "markdown",
      "source": [
        "- There are some unique values in \"Victim_Descent\" Column of train data which are not present in the unique values in \"Victim_Descent\" Column of test data.\n",
        "- And similarly some unique values of \"Victim_Descent\" column of test data are not present in the unique values in \"Victim_Descent\" of train data."
      ],
      "metadata": {
        "id": "_rd-W5jSjKgz"
      }
    },
    {
      "cell_type": "code",
      "source": [
        "print(f\"Unique values in Crime_Category Column of Train data = {train.Crime_Category.unique()}\")"
      ],
      "metadata": {
        "execution": {
          "iopub.status.busy": "2024-08-09T19:24:45.319457Z",
          "iopub.execute_input": "2024-08-09T19:24:45.319895Z",
          "iopub.status.idle": "2024-08-09T19:24:45.327828Z",
          "shell.execute_reply.started": "2024-08-09T19:24:45.319842Z",
          "shell.execute_reply": "2024-08-09T19:24:45.32656Z"
        },
        "trusted": true,
        "colab": {
          "base_uri": "https://localhost:8080/"
        },
        "id": "qGrYEDNEjKgz",
        "outputId": "a2801a79-a2ef-4ec5-9d40-7abc5d223d27"
      },
      "execution_count": 664,
      "outputs": [
        {
          "output_type": "stream",
          "name": "stdout",
          "text": [
            "Unique values in Crime_Category Column of Train data = ['Property Crimes' 'Violent Crimes' 'Other Crimes'\n",
            " 'Crimes against Public Order' 'Fraud and White-Collar Crimes'\n",
            " 'Crimes against Persons']\n"
          ]
        }
      ]
    },
    {
      "cell_type": "markdown",
      "source": [
        "## 3.9 - Checking the data types of features in train and test data"
      ],
      "metadata": {
        "id": "8a6sI_FPjKg0"
      }
    },
    {
      "cell_type": "code",
      "source": [
        "train.dtypes"
      ],
      "metadata": {
        "execution": {
          "iopub.status.busy": "2024-08-09T19:24:48.002023Z",
          "iopub.execute_input": "2024-08-09T19:24:48.002434Z",
          "iopub.status.idle": "2024-08-09T19:24:48.011607Z",
          "shell.execute_reply.started": "2024-08-09T19:24:48.002402Z",
          "shell.execute_reply": "2024-08-09T19:24:48.010384Z"
        },
        "trusted": true,
        "colab": {
          "base_uri": "https://localhost:8080/",
          "height": 774
        },
        "id": "M0AGkFa1jKg0",
        "outputId": "3dfa019a-c486-4bda-c677-a7a737a850b5"
      },
      "execution_count": 665,
      "outputs": [
        {
          "output_type": "execute_result",
          "data": {
            "text/plain": [
              "Location                  object\n",
              "Cross_Street              object\n",
              "Latitude                 float64\n",
              "Longitude                float64\n",
              "Date_Reported             object\n",
              "Date_Occurred             object\n",
              "Time_Occurred            float64\n",
              "Area_ID                  float64\n",
              "Area_Name                 object\n",
              "Reporting_District_no    float64\n",
              "Part 1-2                 float64\n",
              "Modus_Operandi            object\n",
              "Victim_Age               float64\n",
              "Victim_Sex                object\n",
              "Victim_Descent            object\n",
              "Premise_Code             float64\n",
              "Premise_Description       object\n",
              "Weapon_Used_Code         float64\n",
              "Weapon_Description        object\n",
              "Status                    object\n",
              "Status_Description        object\n",
              "Crime_Category            object\n",
              "dtype: object"
            ],
            "text/html": [
              "<div>\n",
              "<style scoped>\n",
              "    .dataframe tbody tr th:only-of-type {\n",
              "        vertical-align: middle;\n",
              "    }\n",
              "\n",
              "    .dataframe tbody tr th {\n",
              "        vertical-align: top;\n",
              "    }\n",
              "\n",
              "    .dataframe thead th {\n",
              "        text-align: right;\n",
              "    }\n",
              "</style>\n",
              "<table border=\"1\" class=\"dataframe\">\n",
              "  <thead>\n",
              "    <tr style=\"text-align: right;\">\n",
              "      <th></th>\n",
              "      <th>0</th>\n",
              "    </tr>\n",
              "  </thead>\n",
              "  <tbody>\n",
              "    <tr>\n",
              "      <th>Location</th>\n",
              "      <td>object</td>\n",
              "    </tr>\n",
              "    <tr>\n",
              "      <th>Cross_Street</th>\n",
              "      <td>object</td>\n",
              "    </tr>\n",
              "    <tr>\n",
              "      <th>Latitude</th>\n",
              "      <td>float64</td>\n",
              "    </tr>\n",
              "    <tr>\n",
              "      <th>Longitude</th>\n",
              "      <td>float64</td>\n",
              "    </tr>\n",
              "    <tr>\n",
              "      <th>Date_Reported</th>\n",
              "      <td>object</td>\n",
              "    </tr>\n",
              "    <tr>\n",
              "      <th>Date_Occurred</th>\n",
              "      <td>object</td>\n",
              "    </tr>\n",
              "    <tr>\n",
              "      <th>Time_Occurred</th>\n",
              "      <td>float64</td>\n",
              "    </tr>\n",
              "    <tr>\n",
              "      <th>Area_ID</th>\n",
              "      <td>float64</td>\n",
              "    </tr>\n",
              "    <tr>\n",
              "      <th>Area_Name</th>\n",
              "      <td>object</td>\n",
              "    </tr>\n",
              "    <tr>\n",
              "      <th>Reporting_District_no</th>\n",
              "      <td>float64</td>\n",
              "    </tr>\n",
              "    <tr>\n",
              "      <th>Part 1-2</th>\n",
              "      <td>float64</td>\n",
              "    </tr>\n",
              "    <tr>\n",
              "      <th>Modus_Operandi</th>\n",
              "      <td>object</td>\n",
              "    </tr>\n",
              "    <tr>\n",
              "      <th>Victim_Age</th>\n",
              "      <td>float64</td>\n",
              "    </tr>\n",
              "    <tr>\n",
              "      <th>Victim_Sex</th>\n",
              "      <td>object</td>\n",
              "    </tr>\n",
              "    <tr>\n",
              "      <th>Victim_Descent</th>\n",
              "      <td>object</td>\n",
              "    </tr>\n",
              "    <tr>\n",
              "      <th>Premise_Code</th>\n",
              "      <td>float64</td>\n",
              "    </tr>\n",
              "    <tr>\n",
              "      <th>Premise_Description</th>\n",
              "      <td>object</td>\n",
              "    </tr>\n",
              "    <tr>\n",
              "      <th>Weapon_Used_Code</th>\n",
              "      <td>float64</td>\n",
              "    </tr>\n",
              "    <tr>\n",
              "      <th>Weapon_Description</th>\n",
              "      <td>object</td>\n",
              "    </tr>\n",
              "    <tr>\n",
              "      <th>Status</th>\n",
              "      <td>object</td>\n",
              "    </tr>\n",
              "    <tr>\n",
              "      <th>Status_Description</th>\n",
              "      <td>object</td>\n",
              "    </tr>\n",
              "    <tr>\n",
              "      <th>Crime_Category</th>\n",
              "      <td>object</td>\n",
              "    </tr>\n",
              "  </tbody>\n",
              "</table>\n",
              "</div><br><label><b>dtype:</b> object</label>"
            ]
          },
          "metadata": {},
          "execution_count": 665
        }
      ]
    },
    {
      "cell_type": "code",
      "source": [
        "test.dtypes"
      ],
      "metadata": {
        "execution": {
          "iopub.status.busy": "2024-08-09T19:24:50.416001Z",
          "iopub.execute_input": "2024-08-09T19:24:50.416401Z",
          "iopub.status.idle": "2024-08-09T19:24:50.425172Z",
          "shell.execute_reply.started": "2024-08-09T19:24:50.41637Z",
          "shell.execute_reply": "2024-08-09T19:24:50.423949Z"
        },
        "trusted": true,
        "colab": {
          "base_uri": "https://localhost:8080/",
          "height": 743
        },
        "id": "n0lvdiaEjKg1",
        "outputId": "02953e8d-be5d-4e06-e5d9-5a3556bffbce"
      },
      "execution_count": 666,
      "outputs": [
        {
          "output_type": "execute_result",
          "data": {
            "text/plain": [
              "Location                  object\n",
              "Cross_Street              object\n",
              "Latitude                 float64\n",
              "Longitude                float64\n",
              "Date_Reported             object\n",
              "Date_Occurred             object\n",
              "Time_Occurred            float64\n",
              "Area_ID                  float64\n",
              "Area_Name                 object\n",
              "Reporting_District_no    float64\n",
              "Part 1-2                 float64\n",
              "Modus_Operandi            object\n",
              "Victim_Age               float64\n",
              "Victim_Sex                object\n",
              "Victim_Descent            object\n",
              "Premise_Code             float64\n",
              "Premise_Description       object\n",
              "Weapon_Used_Code         float64\n",
              "Weapon_Description        object\n",
              "Status                    object\n",
              "Status_Description        object\n",
              "dtype: object"
            ],
            "text/html": [
              "<div>\n",
              "<style scoped>\n",
              "    .dataframe tbody tr th:only-of-type {\n",
              "        vertical-align: middle;\n",
              "    }\n",
              "\n",
              "    .dataframe tbody tr th {\n",
              "        vertical-align: top;\n",
              "    }\n",
              "\n",
              "    .dataframe thead th {\n",
              "        text-align: right;\n",
              "    }\n",
              "</style>\n",
              "<table border=\"1\" class=\"dataframe\">\n",
              "  <thead>\n",
              "    <tr style=\"text-align: right;\">\n",
              "      <th></th>\n",
              "      <th>0</th>\n",
              "    </tr>\n",
              "  </thead>\n",
              "  <tbody>\n",
              "    <tr>\n",
              "      <th>Location</th>\n",
              "      <td>object</td>\n",
              "    </tr>\n",
              "    <tr>\n",
              "      <th>Cross_Street</th>\n",
              "      <td>object</td>\n",
              "    </tr>\n",
              "    <tr>\n",
              "      <th>Latitude</th>\n",
              "      <td>float64</td>\n",
              "    </tr>\n",
              "    <tr>\n",
              "      <th>Longitude</th>\n",
              "      <td>float64</td>\n",
              "    </tr>\n",
              "    <tr>\n",
              "      <th>Date_Reported</th>\n",
              "      <td>object</td>\n",
              "    </tr>\n",
              "    <tr>\n",
              "      <th>Date_Occurred</th>\n",
              "      <td>object</td>\n",
              "    </tr>\n",
              "    <tr>\n",
              "      <th>Time_Occurred</th>\n",
              "      <td>float64</td>\n",
              "    </tr>\n",
              "    <tr>\n",
              "      <th>Area_ID</th>\n",
              "      <td>float64</td>\n",
              "    </tr>\n",
              "    <tr>\n",
              "      <th>Area_Name</th>\n",
              "      <td>object</td>\n",
              "    </tr>\n",
              "    <tr>\n",
              "      <th>Reporting_District_no</th>\n",
              "      <td>float64</td>\n",
              "    </tr>\n",
              "    <tr>\n",
              "      <th>Part 1-2</th>\n",
              "      <td>float64</td>\n",
              "    </tr>\n",
              "    <tr>\n",
              "      <th>Modus_Operandi</th>\n",
              "      <td>object</td>\n",
              "    </tr>\n",
              "    <tr>\n",
              "      <th>Victim_Age</th>\n",
              "      <td>float64</td>\n",
              "    </tr>\n",
              "    <tr>\n",
              "      <th>Victim_Sex</th>\n",
              "      <td>object</td>\n",
              "    </tr>\n",
              "    <tr>\n",
              "      <th>Victim_Descent</th>\n",
              "      <td>object</td>\n",
              "    </tr>\n",
              "    <tr>\n",
              "      <th>Premise_Code</th>\n",
              "      <td>float64</td>\n",
              "    </tr>\n",
              "    <tr>\n",
              "      <th>Premise_Description</th>\n",
              "      <td>object</td>\n",
              "    </tr>\n",
              "    <tr>\n",
              "      <th>Weapon_Used_Code</th>\n",
              "      <td>float64</td>\n",
              "    </tr>\n",
              "    <tr>\n",
              "      <th>Weapon_Description</th>\n",
              "      <td>object</td>\n",
              "    </tr>\n",
              "    <tr>\n",
              "      <th>Status</th>\n",
              "      <td>object</td>\n",
              "    </tr>\n",
              "    <tr>\n",
              "      <th>Status_Description</th>\n",
              "      <td>object</td>\n",
              "    </tr>\n",
              "  </tbody>\n",
              "</table>\n",
              "</div><br><label><b>dtype:</b> object</label>"
            ]
          },
          "metadata": {},
          "execution_count": 666
        }
      ]
    },
    {
      "cell_type": "markdown",
      "source": [
        "- There are majorly two types of data present in the train and test data which are as follows :\n",
        "  - Object\n",
        "  - Float\n",
        "- The columns with object type will be either dropped or converted into int or float types.\n",
        "- The columns with float type will be scaled."
      ],
      "metadata": {
        "id": "6zBdxDmujKg2"
      }
    },
    {
      "cell_type": "markdown",
      "source": [
        "# 4. Handling Missing Data"
      ],
      "metadata": {
        "id": "ZDIO0ZFQjKg2"
      }
    },
    {
      "cell_type": "markdown",
      "source": [
        "- Checking the null values present in train and test data."
      ],
      "metadata": {
        "id": "kDmku8pwjKg3"
      }
    },
    {
      "cell_type": "code",
      "source": [
        "train.isna().sum()"
      ],
      "metadata": {
        "execution": {
          "iopub.status.busy": "2024-08-09T19:24:58.242751Z",
          "iopub.execute_input": "2024-08-09T19:24:58.243164Z",
          "iopub.status.idle": "2024-08-09T19:24:58.264931Z",
          "shell.execute_reply.started": "2024-08-09T19:24:58.243132Z",
          "shell.execute_reply": "2024-08-09T19:24:58.26381Z"
        },
        "trusted": true,
        "colab": {
          "base_uri": "https://localhost:8080/",
          "height": 774
        },
        "id": "gVAf4kDcjKg3",
        "outputId": "2d3b104e-2ba5-426c-a7a5-8737f4a58aa9"
      },
      "execution_count": 667,
      "outputs": [
        {
          "output_type": "execute_result",
          "data": {
            "text/plain": [
              "Location                     0\n",
              "Cross_Street             16552\n",
              "Latitude                     0\n",
              "Longitude                    0\n",
              "Date_Reported                0\n",
              "Date_Occurred                0\n",
              "Time_Occurred                0\n",
              "Area_ID                      0\n",
              "Area_Name                    0\n",
              "Reporting_District_no        0\n",
              "Part 1-2                     0\n",
              "Modus_Operandi            2741\n",
              "Victim_Age                   0\n",
              "Victim_Sex                2624\n",
              "Victim_Descent            2624\n",
              "Premise_Code                 0\n",
              "Premise_Description          5\n",
              "Weapon_Used_Code         12665\n",
              "Weapon_Description       12665\n",
              "Status                       0\n",
              "Status_Description           0\n",
              "Crime_Category               0\n",
              "dtype: int64"
            ],
            "text/html": [
              "<div>\n",
              "<style scoped>\n",
              "    .dataframe tbody tr th:only-of-type {\n",
              "        vertical-align: middle;\n",
              "    }\n",
              "\n",
              "    .dataframe tbody tr th {\n",
              "        vertical-align: top;\n",
              "    }\n",
              "\n",
              "    .dataframe thead th {\n",
              "        text-align: right;\n",
              "    }\n",
              "</style>\n",
              "<table border=\"1\" class=\"dataframe\">\n",
              "  <thead>\n",
              "    <tr style=\"text-align: right;\">\n",
              "      <th></th>\n",
              "      <th>0</th>\n",
              "    </tr>\n",
              "  </thead>\n",
              "  <tbody>\n",
              "    <tr>\n",
              "      <th>Location</th>\n",
              "      <td>0</td>\n",
              "    </tr>\n",
              "    <tr>\n",
              "      <th>Cross_Street</th>\n",
              "      <td>16552</td>\n",
              "    </tr>\n",
              "    <tr>\n",
              "      <th>Latitude</th>\n",
              "      <td>0</td>\n",
              "    </tr>\n",
              "    <tr>\n",
              "      <th>Longitude</th>\n",
              "      <td>0</td>\n",
              "    </tr>\n",
              "    <tr>\n",
              "      <th>Date_Reported</th>\n",
              "      <td>0</td>\n",
              "    </tr>\n",
              "    <tr>\n",
              "      <th>Date_Occurred</th>\n",
              "      <td>0</td>\n",
              "    </tr>\n",
              "    <tr>\n",
              "      <th>Time_Occurred</th>\n",
              "      <td>0</td>\n",
              "    </tr>\n",
              "    <tr>\n",
              "      <th>Area_ID</th>\n",
              "      <td>0</td>\n",
              "    </tr>\n",
              "    <tr>\n",
              "      <th>Area_Name</th>\n",
              "      <td>0</td>\n",
              "    </tr>\n",
              "    <tr>\n",
              "      <th>Reporting_District_no</th>\n",
              "      <td>0</td>\n",
              "    </tr>\n",
              "    <tr>\n",
              "      <th>Part 1-2</th>\n",
              "      <td>0</td>\n",
              "    </tr>\n",
              "    <tr>\n",
              "      <th>Modus_Operandi</th>\n",
              "      <td>2741</td>\n",
              "    </tr>\n",
              "    <tr>\n",
              "      <th>Victim_Age</th>\n",
              "      <td>0</td>\n",
              "    </tr>\n",
              "    <tr>\n",
              "      <th>Victim_Sex</th>\n",
              "      <td>2624</td>\n",
              "    </tr>\n",
              "    <tr>\n",
              "      <th>Victim_Descent</th>\n",
              "      <td>2624</td>\n",
              "    </tr>\n",
              "    <tr>\n",
              "      <th>Premise_Code</th>\n",
              "      <td>0</td>\n",
              "    </tr>\n",
              "    <tr>\n",
              "      <th>Premise_Description</th>\n",
              "      <td>5</td>\n",
              "    </tr>\n",
              "    <tr>\n",
              "      <th>Weapon_Used_Code</th>\n",
              "      <td>12665</td>\n",
              "    </tr>\n",
              "    <tr>\n",
              "      <th>Weapon_Description</th>\n",
              "      <td>12665</td>\n",
              "    </tr>\n",
              "    <tr>\n",
              "      <th>Status</th>\n",
              "      <td>0</td>\n",
              "    </tr>\n",
              "    <tr>\n",
              "      <th>Status_Description</th>\n",
              "      <td>0</td>\n",
              "    </tr>\n",
              "    <tr>\n",
              "      <th>Crime_Category</th>\n",
              "      <td>0</td>\n",
              "    </tr>\n",
              "  </tbody>\n",
              "</table>\n",
              "</div><br><label><b>dtype:</b> int64</label>"
            ]
          },
          "metadata": {},
          "execution_count": 667
        }
      ]
    },
    {
      "cell_type": "code",
      "source": [
        "test.isna().sum()"
      ],
      "metadata": {
        "execution": {
          "iopub.status.busy": "2024-08-09T19:25:00.93543Z",
          "iopub.execute_input": "2024-08-09T19:25:00.93581Z",
          "iopub.status.idle": "2024-08-09T19:25:00.948015Z",
          "shell.execute_reply.started": "2024-08-09T19:25:00.935781Z",
          "shell.execute_reply": "2024-08-09T19:25:00.9468Z"
        },
        "trusted": true,
        "colab": {
          "base_uri": "https://localhost:8080/",
          "height": 743
        },
        "id": "rxubNvZ3jKg3",
        "outputId": "a64c5b1c-8d4d-4d80-a99c-4b78d85a7e65"
      },
      "execution_count": 668,
      "outputs": [
        {
          "output_type": "execute_result",
          "data": {
            "text/plain": [
              "Location                    0\n",
              "Cross_Street             4190\n",
              "Latitude                    0\n",
              "Longitude                   0\n",
              "Date_Reported               0\n",
              "Date_Occurred               0\n",
              "Time_Occurred               0\n",
              "Area_ID                     0\n",
              "Area_Name                   0\n",
              "Reporting_District_no       0\n",
              "Part 1-2                    0\n",
              "Modus_Operandi            684\n",
              "Victim_Age                  0\n",
              "Victim_Sex                643\n",
              "Victim_Descent            643\n",
              "Premise_Code                0\n",
              "Premise_Description         1\n",
              "Weapon_Used_Code         3153\n",
              "Weapon_Description       3153\n",
              "Status                      0\n",
              "Status_Description          0\n",
              "dtype: int64"
            ],
            "text/html": [
              "<div>\n",
              "<style scoped>\n",
              "    .dataframe tbody tr th:only-of-type {\n",
              "        vertical-align: middle;\n",
              "    }\n",
              "\n",
              "    .dataframe tbody tr th {\n",
              "        vertical-align: top;\n",
              "    }\n",
              "\n",
              "    .dataframe thead th {\n",
              "        text-align: right;\n",
              "    }\n",
              "</style>\n",
              "<table border=\"1\" class=\"dataframe\">\n",
              "  <thead>\n",
              "    <tr style=\"text-align: right;\">\n",
              "      <th></th>\n",
              "      <th>0</th>\n",
              "    </tr>\n",
              "  </thead>\n",
              "  <tbody>\n",
              "    <tr>\n",
              "      <th>Location</th>\n",
              "      <td>0</td>\n",
              "    </tr>\n",
              "    <tr>\n",
              "      <th>Cross_Street</th>\n",
              "      <td>4190</td>\n",
              "    </tr>\n",
              "    <tr>\n",
              "      <th>Latitude</th>\n",
              "      <td>0</td>\n",
              "    </tr>\n",
              "    <tr>\n",
              "      <th>Longitude</th>\n",
              "      <td>0</td>\n",
              "    </tr>\n",
              "    <tr>\n",
              "      <th>Date_Reported</th>\n",
              "      <td>0</td>\n",
              "    </tr>\n",
              "    <tr>\n",
              "      <th>Date_Occurred</th>\n",
              "      <td>0</td>\n",
              "    </tr>\n",
              "    <tr>\n",
              "      <th>Time_Occurred</th>\n",
              "      <td>0</td>\n",
              "    </tr>\n",
              "    <tr>\n",
              "      <th>Area_ID</th>\n",
              "      <td>0</td>\n",
              "    </tr>\n",
              "    <tr>\n",
              "      <th>Area_Name</th>\n",
              "      <td>0</td>\n",
              "    </tr>\n",
              "    <tr>\n",
              "      <th>Reporting_District_no</th>\n",
              "      <td>0</td>\n",
              "    </tr>\n",
              "    <tr>\n",
              "      <th>Part 1-2</th>\n",
              "      <td>0</td>\n",
              "    </tr>\n",
              "    <tr>\n",
              "      <th>Modus_Operandi</th>\n",
              "      <td>684</td>\n",
              "    </tr>\n",
              "    <tr>\n",
              "      <th>Victim_Age</th>\n",
              "      <td>0</td>\n",
              "    </tr>\n",
              "    <tr>\n",
              "      <th>Victim_Sex</th>\n",
              "      <td>643</td>\n",
              "    </tr>\n",
              "    <tr>\n",
              "      <th>Victim_Descent</th>\n",
              "      <td>643</td>\n",
              "    </tr>\n",
              "    <tr>\n",
              "      <th>Premise_Code</th>\n",
              "      <td>0</td>\n",
              "    </tr>\n",
              "    <tr>\n",
              "      <th>Premise_Description</th>\n",
              "      <td>1</td>\n",
              "    </tr>\n",
              "    <tr>\n",
              "      <th>Weapon_Used_Code</th>\n",
              "      <td>3153</td>\n",
              "    </tr>\n",
              "    <tr>\n",
              "      <th>Weapon_Description</th>\n",
              "      <td>3153</td>\n",
              "    </tr>\n",
              "    <tr>\n",
              "      <th>Status</th>\n",
              "      <td>0</td>\n",
              "    </tr>\n",
              "    <tr>\n",
              "      <th>Status_Description</th>\n",
              "      <td>0</td>\n",
              "    </tr>\n",
              "  </tbody>\n",
              "</table>\n",
              "</div><br><label><b>dtype:</b> int64</label>"
            ]
          },
          "metadata": {},
          "execution_count": 668
        }
      ]
    },
    {
      "cell_type": "markdown",
      "source": [
        "- Filling the null values with zeros in train and test data."
      ],
      "metadata": {
        "id": "W2Iq5H8YjKg4"
      }
    },
    {
      "cell_type": "code",
      "source": [
        "# Filling Null Values in Train Data\n",
        "train = train.replace({None: np.nan, \"\": np.nan})\n",
        "train = train.fillna(value=0)\n",
        "\n",
        "# Filling Null Values in Test Data\n",
        "test = test.replace({None: np.nan, \"\": np.nan})\n",
        "test = test.fillna(value=0)"
      ],
      "metadata": {
        "execution": {
          "iopub.status.busy": "2024-08-09T19:25:04.417992Z",
          "iopub.execute_input": "2024-08-09T19:25:04.419071Z",
          "iopub.status.idle": "2024-08-09T19:25:04.496733Z",
          "shell.execute_reply.started": "2024-08-09T19:25:04.419031Z",
          "shell.execute_reply": "2024-08-09T19:25:04.49578Z"
        },
        "trusted": true,
        "id": "u-7AwWfrjKg4"
      },
      "execution_count": 669,
      "outputs": []
    },
    {
      "cell_type": "markdown",
      "source": [
        "# 5. Pre-Processing"
      ],
      "metadata": {
        "id": "_8fjTpiFjKg5"
      }
    },
    {
      "cell_type": "markdown",
      "source": [
        "- After Filling the null values with zeros the null values in Victim_Sex column and Victim_Descent Column got replaced by 0 which is int type and the rest of the columns are of str type so while one hot encoding it will throw an error so I'll replace the 0's with a string \"Unknown\" for both the train set and test set.\n"
      ],
      "metadata": {
        "id": "W3Hnjq-0jKg5"
      }
    },
    {
      "cell_type": "code",
      "source": [
        "# Converting for Train set\n",
        "train['Victim_Sex'] = train['Victim_Sex'].apply(lambda x: \"Unknown\" if x==0 else x)\n",
        "train['Victim_Descent'] = train['Victim_Descent'].apply(lambda x: \"Unknown\" if x==0 else x)\n",
        "\n",
        "# Converting for Test set\n",
        "test['Victim_Sex'] = test['Victim_Sex'].apply(lambda x: \"Unknown\" if x==0 else x)\n",
        "test['Victim_Descent'] = test['Victim_Descent'].apply(lambda x: \"Unknown\" if x==0 else x)"
      ],
      "metadata": {
        "execution": {
          "iopub.status.busy": "2024-08-09T19:25:08.124948Z",
          "iopub.execute_input": "2024-08-09T19:25:08.12562Z",
          "iopub.status.idle": "2024-08-09T19:25:08.145201Z",
          "shell.execute_reply.started": "2024-08-09T19:25:08.125589Z",
          "shell.execute_reply": "2024-08-09T19:25:08.144083Z"
        },
        "trusted": true,
        "id": "peJCzsKkjKg5"
      },
      "execution_count": 670,
      "outputs": []
    },
    {
      "cell_type": "code",
      "source": [
        "print(train.shape)\n",
        "print(test.shape)"
      ],
      "metadata": {
        "colab": {
          "base_uri": "https://localhost:8080/"
        },
        "id": "JGV1xe0ilkGy",
        "outputId": "d023f55f-3b4f-4000-e65b-0bb66487acd7"
      },
      "execution_count": 1852,
      "outputs": [
        {
          "output_type": "stream",
          "name": "stdout",
          "text": [
            "(20000, 22)\n",
            "(5000, 21)\n"
          ]
        }
      ]
    },
    {
      "cell_type": "markdown",
      "source": [
        "## 5.1 - Dropping Columns"
      ],
      "metadata": {
        "id": "mp-grb7bjKg5"
      }
    },
    {
      "cell_type": "markdown",
      "source": [
        "- Dropping Some Categorical Columns Which Seemed Unnecessary."
      ],
      "metadata": {
        "id": "94z5vDgujKg6"
      }
    },
    {
      "cell_type": "code",
      "source": [
        "# Dropping Columns from Train Data\n",
        "train.drop(columns=['Location', 'Area_Name', 'Premise_Description', 'Weapon_Description', 'Status_Description'], axis=1, inplace=True)\n",
        "\n",
        "# Dropping Columns from Test Data\n",
        "test.drop(columns=['Location', 'Area_Name', 'Premise_Description', 'Weapon_Description', 'Status_Description'], axis=1, inplace=True)"
      ],
      "metadata": {
        "execution": {
          "iopub.status.busy": "2024-08-09T19:25:11.78994Z",
          "iopub.execute_input": "2024-08-09T19:25:11.790841Z",
          "iopub.status.idle": "2024-08-09T19:25:11.802276Z",
          "shell.execute_reply.started": "2024-08-09T19:25:11.790806Z",
          "shell.execute_reply": "2024-08-09T19:25:11.801109Z"
        },
        "trusted": true,
        "id": "QcQxeMHSjKg6"
      },
      "execution_count": 671,
      "outputs": []
    },
    {
      "cell_type": "markdown",
      "source": [
        "## 5.2 - Converting Date Columns and Time Columns"
      ],
      "metadata": {
        "id": "MCsNpfCOjKg7"
      }
    },
    {
      "cell_type": "markdown",
      "source": [
        "- Converting the columns \"Date_Reported\" and \"Date_Occurred\" into proper datetime format so that we can do some operations on it.\n",
        "- Creating a new column named \"Report_Delay\" which will have the time difference in days between the crime occurred and crime reported it can help us classify how severe the crime was depending upon how much delay there was in reporting the crime."
      ],
      "metadata": {
        "id": "9GwlyEckjKg8"
      }
    },
    {
      "cell_type": "code",
      "source": [
        "# Function for converting the Date Columns into proper date time format\n",
        "def convert_date(x):\n",
        "  x['Date_Reported'] = pd.to_datetime(x['Date_Reported'])\n",
        "  x['Date_Occurred'] = pd.to_datetime(x['Date_Occurred'])\n",
        "  return x\n",
        "\n",
        "# Function for creating new column using date_reported and date_occurred columns\n",
        "def create_report_delay(x):\n",
        "  x['Report_delay'] = (x['Date_Reported'] - x['Date_Occurred']).dt.days\n",
        "  return x\n",
        "\n",
        "# Defining a pipeline to transform the dataset using the functions defined above\n",
        "pipeline = Pipeline([\n",
        "    ('convert_date', FunctionTransformer(convert_date, validate=False)),\n",
        "    ('create_report_delay', FunctionTransformer(create_report_delay, validate=False))\n",
        "])\n",
        "\n",
        "# Transforming the train data\n",
        "train = pipeline.fit_transform(train)\n",
        "\n",
        "# Transforming the test data\n",
        "test = pipeline.fit_transform(test)"
      ],
      "metadata": {
        "execution": {
          "iopub.status.busy": "2024-08-09T19:25:16.769922Z",
          "iopub.execute_input": "2024-08-09T19:25:16.770729Z",
          "iopub.status.idle": "2024-08-09T19:25:17.024366Z",
          "shell.execute_reply.started": "2024-08-09T19:25:16.770694Z",
          "shell.execute_reply": "2024-08-09T19:25:17.023358Z"
        },
        "trusted": true,
        "colab": {
          "base_uri": "https://localhost:8080/"
        },
        "id": "MxzaiTndjKg9",
        "outputId": "ffd74365-809b-475f-ba80-bda6ffbf3194"
      },
      "execution_count": 672,
      "outputs": [
        {
          "output_type": "stream",
          "name": "stderr",
          "text": [
            "<ipython-input-672-2a2356f5f685>:3: UserWarning: Could not infer format, so each element will be parsed individually, falling back to `dateutil`. To ensure parsing is consistent and as-expected, please specify a format.\n",
            "  x['Date_Reported'] = pd.to_datetime(x['Date_Reported'])\n",
            "<ipython-input-672-2a2356f5f685>:4: UserWarning: Could not infer format, so each element will be parsed individually, falling back to `dateutil`. To ensure parsing is consistent and as-expected, please specify a format.\n",
            "  x['Date_Occurred'] = pd.to_datetime(x['Date_Occurred'])\n",
            "<ipython-input-672-2a2356f5f685>:3: UserWarning: Could not infer format, so each element will be parsed individually, falling back to `dateutil`. To ensure parsing is consistent and as-expected, please specify a format.\n",
            "  x['Date_Reported'] = pd.to_datetime(x['Date_Reported'])\n",
            "<ipython-input-672-2a2356f5f685>:4: UserWarning: Could not infer format, so each element will be parsed individually, falling back to `dateutil`. To ensure parsing is consistent and as-expected, please specify a format.\n",
            "  x['Date_Occurred'] = pd.to_datetime(x['Date_Occurred'])\n"
          ]
        }
      ]
    },
    {
      "cell_type": "markdown",
      "source": [
        "- Splitting The \"Date_Reported\" and \"Date_Occurred\" Columns into Day, Month, Year, WeekDay, DayOftheYear"
      ],
      "metadata": {
        "id": "pi2fWcEqjKg-"
      }
    },
    {
      "cell_type": "code",
      "source": [
        "# Splitting The Day_Occurred Column into sub columns in train data.\n",
        "train['Day_Occurred'] = train['Date_Occurred'].dt.day\n",
        "train['Month_Occurred'] = train['Date_Occurred'].dt.month\n",
        "train['Year_Occurred'] = train['Date_Occurred'].dt.year\n",
        "train['DOY_Occurred'] = train['Date_Occurred'].dt.day_of_year\n",
        "train['Week_Occurred'] = train['Date_Occurred'].dt.weekday\n",
        "\n",
        "# Splitting the Day_Reported Column into Sub Columns in train data.\n",
        "train['Day_Reported'] = train['Date_Reported'].dt.day\n",
        "train['Month_Reported'] = train['Date_Reported'].dt.month\n",
        "train['Year_Reported'] = train['Date_Reported'].dt.year\n",
        "train['DOY_Reported'] = train['Date_Reported'].dt.day_of_year\n",
        "train['Week_Reported'] = train['Date_Reported'].dt.weekday\n",
        "\n",
        "# Splitting The Day_Occurred Column into sub columns in test data.\n",
        "test['Day_Occurred'] = test['Date_Occurred'].dt.day\n",
        "test['Month_Occurred'] = test['Date_Occurred'].dt.month\n",
        "test['Year_Occurred'] = test['Date_Occurred'].dt.year\n",
        "test['DOY_Occurred'] = test['Date_Occurred'].dt.day_of_year\n",
        "test['Week_Occurred'] = test['Date_Occurred'].dt.weekday\n",
        "\n",
        "# Splitting the Day_Reported Column into Sub Columns in test data.\n",
        "test['Day_Reported'] = test['Date_Reported'].dt.day\n",
        "test['Month_Reported'] = test['Date_Reported'].dt.month\n",
        "test['Year_Reported'] = test['Date_Reported'].dt.year\n",
        "test['DOY_Reported'] = test['Date_Reported'].dt.day_of_year\n",
        "test['Week_Reported'] = test['Date_Reported'].dt.weekday"
      ],
      "metadata": {
        "execution": {
          "iopub.status.busy": "2024-08-09T19:25:22.19495Z",
          "iopub.execute_input": "2024-08-09T19:25:22.195818Z",
          "iopub.status.idle": "2024-08-09T19:25:22.2325Z",
          "shell.execute_reply.started": "2024-08-09T19:25:22.195782Z",
          "shell.execute_reply": "2024-08-09T19:25:22.231317Z"
        },
        "trusted": true,
        "id": "eSSq4YWvjKg-"
      },
      "execution_count": 673,
      "outputs": []
    },
    {
      "cell_type": "markdown",
      "source": [
        "- Dropping the original Date Columns from train and test as we have now splitted them into sub columns."
      ],
      "metadata": {
        "id": "Jt4NZjxwjKg_"
      }
    },
    {
      "cell_type": "code",
      "source": [
        "# Dropping the Date_Reported and Date_Occurred Columns from Train data\n",
        "train.drop(columns=['Date_Reported','Date_Occurred'],inplace=True)\n",
        "\n",
        "# Dropping the Date_Reported and Date_Occurred Columns from Test data\n",
        "test.drop(columns=['Date_Reported','Date_Occurred'],inplace=True)"
      ],
      "metadata": {
        "execution": {
          "iopub.status.busy": "2024-08-09T19:25:27.609539Z",
          "iopub.execute_input": "2024-08-09T19:25:27.610467Z",
          "iopub.status.idle": "2024-08-09T19:25:27.626111Z",
          "shell.execute_reply.started": "2024-08-09T19:25:27.610417Z",
          "shell.execute_reply": "2024-08-09T19:25:27.624826Z"
        },
        "trusted": true,
        "id": "qncuNALbjKg_"
      },
      "execution_count": 674,
      "outputs": []
    },
    {
      "cell_type": "markdown",
      "source": [
        "- Defining functions for splitting the Time column into hour and minute"
      ],
      "metadata": {
        "id": "hVqDqtFxjKhA"
      }
    },
    {
      "cell_type": "code",
      "source": [
        "# Function for extracting the hours from the military time of Time_Occurred Column\n",
        "def hour(time):\n",
        "  time_str = f\"{time:04d}\"\n",
        "  hours = time_str[:2]\n",
        "  return hours\n",
        "\n",
        "# Function for extracting the minutes from the military time of Time_Occurred Column\n",
        "def minute(time):\n",
        "  time_str = f\"{time:04d}\"\n",
        "  minute = time_str[2:]\n",
        "  return minute"
      ],
      "metadata": {
        "execution": {
          "iopub.status.busy": "2024-08-09T19:25:30.794239Z",
          "iopub.execute_input": "2024-08-09T19:25:30.794655Z",
          "iopub.status.idle": "2024-08-09T19:25:30.801206Z",
          "shell.execute_reply.started": "2024-08-09T19:25:30.794625Z",
          "shell.execute_reply": "2024-08-09T19:25:30.7998Z"
        },
        "trusted": true,
        "id": "ftWgzJqVjKhB"
      },
      "execution_count": 675,
      "outputs": []
    },
    {
      "cell_type": "markdown",
      "source": [
        "- Splitting the Time_Occurred Column into sub columns"
      ],
      "metadata": {
        "id": "Ahb5ada6jKhC"
      }
    },
    {
      "cell_type": "code",
      "source": [
        "# Converting the time_occurred column in train data into int type so that we can apply the fuction\n",
        "train['Time_Occurred'] = train['Time_Occurred'].astype(int)\n",
        "\n",
        "# Splitting the Time column into hour and minute using the function in train data\n",
        "train['Hour_Occurred'] = train['Time_Occurred'].apply(hour)\n",
        "train['Minute_Occurred'] = train['Time_Occurred'].apply(minute)\n",
        "\n",
        "# Converting the splitted sub columns in train data back to int type because after applying the fucntion they got converted into str type\n",
        "train['Hour_Occurred'] = train['Hour_Occurred'].astype(int)\n",
        "train['Minute_Occurred'] = train['Minute_Occurred'].astype(int)\n",
        "\n",
        "\n",
        "# Converting the time_occurred column in test data into int type so that we can apply the fuction\n",
        "test['Time_Occurred'] = test['Time_Occurred'].astype(int)\n",
        "\n",
        "# Splitting the Time column into hour and minute using the function in test data\n",
        "test['Hour_Occurred'] = test['Time_Occurred'].apply(hour)\n",
        "test['Minute_Occurred'] = test['Time_Occurred'].apply(minute)\n",
        "\n",
        "# Converting the splitted sub columns in test data back to int type because after applying the fucntion they got converted into str type\n",
        "test['Hour_Occurred'] = test['Hour_Occurred'].astype(int)\n",
        "test['Minute_Occurred'] = test['Minute_Occurred'].astype(int)"
      ],
      "metadata": {
        "execution": {
          "iopub.status.busy": "2024-08-09T19:25:34.249362Z",
          "iopub.execute_input": "2024-08-09T19:25:34.249749Z",
          "iopub.status.idle": "2024-08-09T19:25:34.303552Z",
          "shell.execute_reply.started": "2024-08-09T19:25:34.249719Z",
          "shell.execute_reply": "2024-08-09T19:25:34.302233Z"
        },
        "trusted": true,
        "id": "RdRAnEU5jKhC"
      },
      "execution_count": 676,
      "outputs": []
    },
    {
      "cell_type": "markdown",
      "source": [
        "- Dropping the Time Columns from train and test as we have splitted them into sub columns."
      ],
      "metadata": {
        "id": "net8IgxpjKhE"
      }
    },
    {
      "cell_type": "code",
      "source": [
        "# Dropping the Time_Occurred Column from train data\n",
        "train.drop(columns=['Time_Occurred'],inplace=True)\n",
        "\n",
        "# Dropping the Time_Occurred Column from test data\n",
        "test.drop(columns=['Time_Occurred'],inplace=True)"
      ],
      "metadata": {
        "execution": {
          "iopub.status.busy": "2024-08-09T19:25:37.178057Z",
          "iopub.execute_input": "2024-08-09T19:25:37.178435Z",
          "iopub.status.idle": "2024-08-09T19:25:37.191458Z",
          "shell.execute_reply.started": "2024-08-09T19:25:37.178409Z",
          "shell.execute_reply": "2024-08-09T19:25:37.190145Z"
        },
        "trusted": true,
        "id": "JoUsHsy7jKhF"
      },
      "execution_count": 677,
      "outputs": []
    },
    {
      "cell_type": "code",
      "source": [
        "print(train.shape)\n",
        "print(test.shape)"
      ],
      "metadata": {
        "colab": {
          "base_uri": "https://localhost:8080/"
        },
        "id": "lq9NsWI0lxie",
        "outputId": "885f04fc-f62a-42aa-80a2-77ba9c4cf62f"
      },
      "execution_count": 678,
      "outputs": [
        {
          "output_type": "stream",
          "name": "stdout",
          "text": [
            "(20000, 27)\n",
            "(5000, 26)\n"
          ]
        }
      ]
    },
    {
      "cell_type": "markdown",
      "source": [
        "## 5.3 - Handling the outliers"
      ],
      "metadata": {
        "id": "-m4SXibTjKhG"
      }
    },
    {
      "cell_type": "markdown",
      "source": [
        "- Victim_Age Column had some values which were less than zero therefore converting them to 0."
      ],
      "metadata": {
        "id": "VzmIXASFjKhG"
      }
    },
    {
      "cell_type": "code",
      "source": [
        "# Doing Conversion in train data\n",
        "train['Victim_Age'] = train['Victim_Age'].apply(lambda x: 0 if x < 0 else x)\n",
        "\n",
        "# Doing Conversion in test data\n",
        "test['Victim_Age'] = test['Victim_Age'].apply(lambda x: 0 if x < 0 else x)"
      ],
      "metadata": {
        "execution": {
          "iopub.status.busy": "2024-08-09T19:25:44.581998Z",
          "iopub.execute_input": "2024-08-09T19:25:44.583026Z",
          "iopub.status.idle": "2024-08-09T19:25:44.598378Z",
          "shell.execute_reply.started": "2024-08-09T19:25:44.582989Z",
          "shell.execute_reply": "2024-08-09T19:25:44.597169Z"
        },
        "trusted": true,
        "id": "DKvCV2TOjKhK"
      },
      "execution_count": 679,
      "outputs": []
    },
    {
      "cell_type": "markdown",
      "source": [
        "- There were so many missing values in the column Cross_Street, initially I dropped this column as well but keeping this column resulted in slightly better accuracy so keeping this column by coverting this column into boolean, If there is value for cross street then it will have 1 otherwise 0."
      ],
      "metadata": {
        "id": "SvhJq81djKhL"
      }
    },
    {
      "cell_type": "code",
      "source": [
        "# Doing the conversion in train data\n",
        "train['Cross_Street'] = train['Cross_Street'].apply(lambda x: 1 if x != 0 else x)\n",
        "train['Cross_Street'] = train['Cross_Street'].astype(int)\n",
        "\n",
        "# Doing the conversion in train data\n",
        "test['Cross_Street'] = test['Cross_Street'].apply(lambda x: 1 if x != 0 else x)\n",
        "test['Cross_Street'] = test['Cross_Street'].astype(int)"
      ],
      "metadata": {
        "execution": {
          "iopub.status.busy": "2024-08-09T19:25:48.443452Z",
          "iopub.execute_input": "2024-08-09T19:25:48.443835Z",
          "iopub.status.idle": "2024-08-09T19:25:48.463074Z",
          "shell.execute_reply.started": "2024-08-09T19:25:48.443805Z",
          "shell.execute_reply": "2024-08-09T19:25:48.461809Z"
        },
        "trusted": true,
        "id": "_ReF9cuBjKhM"
      },
      "execution_count": 680,
      "outputs": []
    },
    {
      "cell_type": "code",
      "source": [
        "print(train.shape)\n",
        "print(test.shape)"
      ],
      "metadata": {
        "colab": {
          "base_uri": "https://localhost:8080/"
        },
        "id": "0tQPEOM4nviC",
        "outputId": "5591057e-58d2-4144-d717-bcaf99893db8"
      },
      "execution_count": 681,
      "outputs": [
        {
          "output_type": "stream",
          "name": "stdout",
          "text": [
            "(20000, 27)\n",
            "(5000, 26)\n"
          ]
        }
      ]
    },
    {
      "cell_type": "markdown",
      "source": [
        "## 5.4 - Scaling and encoding"
      ],
      "metadata": {
        "id": "UP3cu0YxjKhb"
      }
    },
    {
      "cell_type": "markdown",
      "source": [
        "- Common Code of column transformer that will be used for transforming train and test set."
      ],
      "metadata": {
        "id": "kjUQRDTajKhc"
      }
    },
    {
      "cell_type": "code",
      "source": [
        "# Creating a list of numerical columns to be passed in the column transformer\n",
        "num_cols = ['Cross_Street', 'Latitude', 'Longitude', 'Area_ID', 'Reporting_District_no','Victim_Age', 'Premise_Code',\n",
        "            'Weapon_Used_Code','Report_delay','Day_Occurred','Month_Occurred', 'Year_Occurred',\n",
        "            'DOY_Occurred', 'Week_Occurred','Day_Reported', 'Month_Reported', 'Year_Reported',\n",
        "            'DOY_Reported','Week_Reported', 'Hour_Occurred', 'Minute_Occurred']\n",
        "\n",
        "# Creating a list of categorical columns to be passed in the column transformer\n",
        "cat_cols = ['Part 1-2', 'Victim_Sex', 'Victim_Descent', 'Status']\n",
        "\n",
        "# Defining a Column Transformer to scale the numerical columns in the dataset and Encode the categorical columns in the dataset\n",
        "col_trans = ColumnTransformer([\n",
        "    ('scalar', MinMaxScaler(), num_cols),\n",
        "    ('ohe', OneHotEncoder(), cat_cols)\n",
        "])"
      ],
      "metadata": {
        "execution": {
          "iopub.status.busy": "2024-08-09T19:26:54.7619Z",
          "iopub.execute_input": "2024-08-09T19:26:54.76231Z",
          "iopub.status.idle": "2024-08-09T19:26:54.76904Z",
          "shell.execute_reply.started": "2024-08-09T19:26:54.76228Z",
          "shell.execute_reply": "2024-08-09T19:26:54.767855Z"
        },
        "trusted": true,
        "id": "aCcnWDGFjKhd"
      },
      "execution_count": 682,
      "outputs": []
    },
    {
      "cell_type": "markdown",
      "source": [
        "- Transforming Train set"
      ],
      "metadata": {
        "id": "WA0-FOWFjKhd"
      }
    },
    {
      "cell_type": "code",
      "source": [
        "# Trnasforming the train data and storing it into another variable\n",
        "train_transformed = col_trans.fit_transform(train)\n",
        "col_names_train = col_trans.get_feature_names_out()\n",
        "\n",
        "# A small for loop to clean the column names as column transformer adds some unwanted prefix in column names\n",
        "ccn_train = []\n",
        "for col_name in col_names_train:\n",
        "  if \"__\" in col_name:\n",
        "    cn = col_name.split(\"__\")[1]\n",
        "    ccn_train.append(cn)\n",
        "  else:\n",
        "    ccn_train.append(col_name)\n",
        "\n",
        "# converting the transformed columns into dataframe so that it can be concatinated with the main train data\n",
        "train_transformed = pd.DataFrame(train_transformed, columns=ccn_train)\n",
        "\n",
        "# concatinating the train data and transformed data\n",
        "train = pd.concat([train.drop(columns=num_cols+cat_cols), train_transformed], axis=1)"
      ],
      "metadata": {
        "execution": {
          "iopub.status.busy": "2024-08-09T19:26:59.055326Z",
          "iopub.execute_input": "2024-08-09T19:26:59.055722Z",
          "iopub.status.idle": "2024-08-09T19:26:59.118889Z",
          "shell.execute_reply.started": "2024-08-09T19:26:59.055692Z",
          "shell.execute_reply": "2024-08-09T19:26:59.117894Z"
        },
        "trusted": true,
        "id": "65SkqA0tjKhe"
      },
      "execution_count": 683,
      "outputs": []
    },
    {
      "cell_type": "markdown",
      "source": [
        "- Transforming Test Set"
      ],
      "metadata": {
        "id": "nUsIOovjjKhe"
      }
    },
    {
      "cell_type": "code",
      "source": [
        "# Trnasforming the test data and storing it into another variable\n",
        "test_transformed = col_trans.fit_transform(test)\n",
        "col_names_test = col_trans.get_feature_names_out()\n",
        "\n",
        "# A small for loop to clean the column names as column transformer adds some unwanted prefix in column names\n",
        "ccn_test = []\n",
        "for col_name in col_names_test:\n",
        "  if \"__\" in col_name:\n",
        "    cn = col_name.split(\"__\")[1]\n",
        "    ccn_test.append(cn)\n",
        "  else:\n",
        "    ccn_test.append(col_name)\n",
        "\n",
        "# converting the transformed columns into dataframe so that it can be concatinated with the main test data\n",
        "test_transformed = pd.DataFrame(test_transformed, columns=ccn_test)\n",
        "\n",
        "# concatinating the test data and transformed data\n",
        "test = pd.concat([test.drop(columns=num_cols+cat_cols), test_transformed], axis=1)"
      ],
      "metadata": {
        "execution": {
          "iopub.status.busy": "2024-08-09T19:27:04.954681Z",
          "iopub.execute_input": "2024-08-09T19:27:04.955483Z",
          "iopub.status.idle": "2024-08-09T19:27:04.984448Z",
          "shell.execute_reply.started": "2024-08-09T19:27:04.95545Z",
          "shell.execute_reply": "2024-08-09T19:27:04.983524Z"
        },
        "trusted": true,
        "id": "1bwArRlRjKhf"
      },
      "execution_count": 684,
      "outputs": []
    },
    {
      "cell_type": "markdown",
      "source": [
        "# 6. Feature Engineering"
      ],
      "metadata": {
        "id": "q1fgEa8PjKhf"
      }
    },
    {
      "cell_type": "markdown",
      "source": [
        "- Handling the Modus_Operandi Column by applying Multilabel Binarizer."
      ],
      "metadata": {
        "id": "dOFcfs_cjKhg"
      }
    },
    {
      "cell_type": "code",
      "source": [
        "# Handling on train data\n",
        "# Converting the column into string as some values were int type\n",
        "train['Modus_Operandi'] = train['Modus_Operandi'].astype(str)\n",
        "# Splitting the string by space to convert it into a list so that Multilabel Binarizer can be applied\n",
        "train['Modus_Operandi'] = train['Modus_Operandi'].apply(lambda x: x.split())\n",
        "\n",
        "\n",
        "# Handling on Test Data\n",
        "# Converting the column into string as some values were int type\n",
        "test['Modus_Operandi'] = test['Modus_Operandi'].astype(str)\n",
        "# Splitting the string by space to convert it into a list so that Multilabel Binarizer can be applied\n",
        "test['Modus_Operandi'] = test['Modus_Operandi'].apply(lambda x: x.split())"
      ],
      "metadata": {
        "execution": {
          "iopub.status.busy": "2024-08-09T19:27:12.719575Z",
          "iopub.execute_input": "2024-08-09T19:27:12.720094Z",
          "iopub.status.idle": "2024-08-09T19:27:12.759892Z",
          "shell.execute_reply.started": "2024-08-09T19:27:12.720053Z",
          "shell.execute_reply": "2024-08-09T19:27:12.75861Z"
        },
        "trusted": true,
        "id": "E9nbTRcrjKhg"
      },
      "execution_count": 685,
      "outputs": []
    },
    {
      "cell_type": "markdown",
      "source": [
        "- Applying MultiLabelBinarizer on the Column"
      ],
      "metadata": {
        "id": "EiLr7kLNjKhg"
      }
    },
    {
      "cell_type": "code",
      "source": [
        "mlb = MultiLabelBinarizer()\n",
        "\n",
        "# Applying on Train data\n",
        "modus_encoded = mlb.fit_transform(train['Modus_Operandi'])\n",
        "modus_encoded_train = pd.DataFrame(modus_encoded, columns=mlb.classes_)\n",
        "# Setting their index same because wihtout setting it same there were index mismatch while concatinating\n",
        "modus_encoded_train.index = train.index\n",
        "train = pd.concat([train, modus_encoded_train], axis=1)\n",
        "\n",
        "# Applying on Test data\n",
        "me = mlb.fit_transform(test['Modus_Operandi'])\n",
        "modus_encoded_test = pd.DataFrame(me, columns=mlb.classes_)\n",
        "# Setting their index same because wihtout setting it same there were index mismatch while concatinating\n",
        "modus_encoded_test.index = test.index\n",
        "test = pd.concat([test, modus_encoded_test], axis=1)"
      ],
      "metadata": {
        "execution": {
          "iopub.status.busy": "2024-08-09T19:27:17.72495Z",
          "iopub.execute_input": "2024-08-09T19:27:17.725335Z",
          "iopub.status.idle": "2024-08-09T19:27:18.057587Z",
          "shell.execute_reply.started": "2024-08-09T19:27:17.725307Z",
          "shell.execute_reply": "2024-08-09T19:27:18.056525Z"
        },
        "trusted": true,
        "id": "fM0lx1DfjKhi"
      },
      "execution_count": 686,
      "outputs": []
    },
    {
      "cell_type": "markdown",
      "source": [
        "- Dropping the Modus_Operandi Column as we have now successfully applied MultiLabelBinarizer on it."
      ],
      "metadata": {
        "id": "azOPzEbgjKhk"
      }
    },
    {
      "cell_type": "code",
      "source": [
        "# Dropping from Train data\n",
        "train.drop(columns=['Modus_Operandi'],inplace=True)\n",
        "\n",
        "# Dropping from Test data\n",
        "test.drop(columns=['Modus_Operandi'],inplace=True)"
      ],
      "metadata": {
        "execution": {
          "iopub.status.busy": "2024-08-09T19:27:24.292778Z",
          "iopub.execute_input": "2024-08-09T19:27:24.293947Z",
          "iopub.status.idle": "2024-08-09T19:27:24.382616Z",
          "shell.execute_reply.started": "2024-08-09T19:27:24.293903Z",
          "shell.execute_reply": "2024-08-09T19:27:24.381436Z"
        },
        "trusted": true,
        "id": "ZV08OEm_jKhm"
      },
      "execution_count": 687,
      "outputs": []
    },
    {
      "cell_type": "markdown",
      "source": [
        "- There might be some columns missing in train data which are present in test data and similarly there might be some columns missing in test data which are present in train data.\n",
        "- Running a small for loop and initializing the values as 0 for the missing columns in train and test."
      ],
      "metadata": {
        "id": "1x3FOz7ojKho"
      }
    },
    {
      "cell_type": "code",
      "source": [
        "# Creating a set of missing columns in test which are present in train\n",
        "missing_cols_in_test = set(train.columns) - set(test.columns)\n",
        "\n",
        "# Creating a set of missing columns in train which are present in test\n",
        "missing_cols_in_train = set(test.columns) - set(train.columns)\n",
        "\n",
        "# Running a loop for creating the missing columns in test and initialising the value to 0.\n",
        "for col in missing_cols_in_test:\n",
        "    test[col] = 0\n",
        "\n",
        "# Running a loop for creating the missing columns in train and initialising the value to 0.\n",
        "for col in missing_cols_in_train:\n",
        "  train[col] = 0"
      ],
      "metadata": {
        "execution": {
          "iopub.status.busy": "2024-08-09T19:27:31.06482Z",
          "iopub.execute_input": "2024-08-09T19:27:31.065628Z",
          "iopub.status.idle": "2024-08-09T19:27:31.14193Z",
          "shell.execute_reply.started": "2024-08-09T19:27:31.065593Z",
          "shell.execute_reply": "2024-08-09T19:27:31.140591Z"
        },
        "trusted": true,
        "colab": {
          "base_uri": "https://localhost:8080/"
        },
        "id": "FWHL2Gc9jKho",
        "outputId": "0f931ad3-dffb-4dd4-fda5-fa4433d2448c"
      },
      "execution_count": 688,
      "outputs": [
        {
          "output_type": "stream",
          "name": "stderr",
          "text": [
            "<ipython-input-688-c316d2b8f1d3>:9: PerformanceWarning: DataFrame is highly fragmented.  This is usually the result of calling `frame.insert` many times, which has poor performance.  Consider joining all columns at once using pd.concat(axis=1) instead. To get a de-fragmented frame, use `newframe = frame.copy()`\n",
            "  test[col] = 0\n",
            "<ipython-input-688-c316d2b8f1d3>:9: PerformanceWarning: DataFrame is highly fragmented.  This is usually the result of calling `frame.insert` many times, which has poor performance.  Consider joining all columns at once using pd.concat(axis=1) instead. To get a de-fragmented frame, use `newframe = frame.copy()`\n",
            "  test[col] = 0\n",
            "<ipython-input-688-c316d2b8f1d3>:9: PerformanceWarning: DataFrame is highly fragmented.  This is usually the result of calling `frame.insert` many times, which has poor performance.  Consider joining all columns at once using pd.concat(axis=1) instead. To get a de-fragmented frame, use `newframe = frame.copy()`\n",
            "  test[col] = 0\n",
            "<ipython-input-688-c316d2b8f1d3>:9: PerformanceWarning: DataFrame is highly fragmented.  This is usually the result of calling `frame.insert` many times, which has poor performance.  Consider joining all columns at once using pd.concat(axis=1) instead. To get a de-fragmented frame, use `newframe = frame.copy()`\n",
            "  test[col] = 0\n",
            "<ipython-input-688-c316d2b8f1d3>:9: PerformanceWarning: DataFrame is highly fragmented.  This is usually the result of calling `frame.insert` many times, which has poor performance.  Consider joining all columns at once using pd.concat(axis=1) instead. To get a de-fragmented frame, use `newframe = frame.copy()`\n",
            "  test[col] = 0\n",
            "<ipython-input-688-c316d2b8f1d3>:9: PerformanceWarning: DataFrame is highly fragmented.  This is usually the result of calling `frame.insert` many times, which has poor performance.  Consider joining all columns at once using pd.concat(axis=1) instead. To get a de-fragmented frame, use `newframe = frame.copy()`\n",
            "  test[col] = 0\n",
            "<ipython-input-688-c316d2b8f1d3>:9: PerformanceWarning: DataFrame is highly fragmented.  This is usually the result of calling `frame.insert` many times, which has poor performance.  Consider joining all columns at once using pd.concat(axis=1) instead. To get a de-fragmented frame, use `newframe = frame.copy()`\n",
            "  test[col] = 0\n",
            "<ipython-input-688-c316d2b8f1d3>:9: PerformanceWarning: DataFrame is highly fragmented.  This is usually the result of calling `frame.insert` many times, which has poor performance.  Consider joining all columns at once using pd.concat(axis=1) instead. To get a de-fragmented frame, use `newframe = frame.copy()`\n",
            "  test[col] = 0\n",
            "<ipython-input-688-c316d2b8f1d3>:9: PerformanceWarning: DataFrame is highly fragmented.  This is usually the result of calling `frame.insert` many times, which has poor performance.  Consider joining all columns at once using pd.concat(axis=1) instead. To get a de-fragmented frame, use `newframe = frame.copy()`\n",
            "  test[col] = 0\n",
            "<ipython-input-688-c316d2b8f1d3>:9: PerformanceWarning: DataFrame is highly fragmented.  This is usually the result of calling `frame.insert` many times, which has poor performance.  Consider joining all columns at once using pd.concat(axis=1) instead. To get a de-fragmented frame, use `newframe = frame.copy()`\n",
            "  test[col] = 0\n",
            "<ipython-input-688-c316d2b8f1d3>:9: PerformanceWarning: DataFrame is highly fragmented.  This is usually the result of calling `frame.insert` many times, which has poor performance.  Consider joining all columns at once using pd.concat(axis=1) instead. To get a de-fragmented frame, use `newframe = frame.copy()`\n",
            "  test[col] = 0\n",
            "<ipython-input-688-c316d2b8f1d3>:9: PerformanceWarning: DataFrame is highly fragmented.  This is usually the result of calling `frame.insert` many times, which has poor performance.  Consider joining all columns at once using pd.concat(axis=1) instead. To get a de-fragmented frame, use `newframe = frame.copy()`\n",
            "  test[col] = 0\n",
            "<ipython-input-688-c316d2b8f1d3>:9: PerformanceWarning: DataFrame is highly fragmented.  This is usually the result of calling `frame.insert` many times, which has poor performance.  Consider joining all columns at once using pd.concat(axis=1) instead. To get a de-fragmented frame, use `newframe = frame.copy()`\n",
            "  test[col] = 0\n",
            "<ipython-input-688-c316d2b8f1d3>:9: PerformanceWarning: DataFrame is highly fragmented.  This is usually the result of calling `frame.insert` many times, which has poor performance.  Consider joining all columns at once using pd.concat(axis=1) instead. To get a de-fragmented frame, use `newframe = frame.copy()`\n",
            "  test[col] = 0\n",
            "<ipython-input-688-c316d2b8f1d3>:9: PerformanceWarning: DataFrame is highly fragmented.  This is usually the result of calling `frame.insert` many times, which has poor performance.  Consider joining all columns at once using pd.concat(axis=1) instead. To get a de-fragmented frame, use `newframe = frame.copy()`\n",
            "  test[col] = 0\n",
            "<ipython-input-688-c316d2b8f1d3>:9: PerformanceWarning: DataFrame is highly fragmented.  This is usually the result of calling `frame.insert` many times, which has poor performance.  Consider joining all columns at once using pd.concat(axis=1) instead. To get a de-fragmented frame, use `newframe = frame.copy()`\n",
            "  test[col] = 0\n",
            "<ipython-input-688-c316d2b8f1d3>:9: PerformanceWarning: DataFrame is highly fragmented.  This is usually the result of calling `frame.insert` many times, which has poor performance.  Consider joining all columns at once using pd.concat(axis=1) instead. To get a de-fragmented frame, use `newframe = frame.copy()`\n",
            "  test[col] = 0\n",
            "<ipython-input-688-c316d2b8f1d3>:9: PerformanceWarning: DataFrame is highly fragmented.  This is usually the result of calling `frame.insert` many times, which has poor performance.  Consider joining all columns at once using pd.concat(axis=1) instead. To get a de-fragmented frame, use `newframe = frame.copy()`\n",
            "  test[col] = 0\n",
            "<ipython-input-688-c316d2b8f1d3>:9: PerformanceWarning: DataFrame is highly fragmented.  This is usually the result of calling `frame.insert` many times, which has poor performance.  Consider joining all columns at once using pd.concat(axis=1) instead. To get a de-fragmented frame, use `newframe = frame.copy()`\n",
            "  test[col] = 0\n",
            "<ipython-input-688-c316d2b8f1d3>:9: PerformanceWarning: DataFrame is highly fragmented.  This is usually the result of calling `frame.insert` many times, which has poor performance.  Consider joining all columns at once using pd.concat(axis=1) instead. To get a de-fragmented frame, use `newframe = frame.copy()`\n",
            "  test[col] = 0\n",
            "<ipython-input-688-c316d2b8f1d3>:9: PerformanceWarning: DataFrame is highly fragmented.  This is usually the result of calling `frame.insert` many times, which has poor performance.  Consider joining all columns at once using pd.concat(axis=1) instead. To get a de-fragmented frame, use `newframe = frame.copy()`\n",
            "  test[col] = 0\n",
            "<ipython-input-688-c316d2b8f1d3>:9: PerformanceWarning: DataFrame is highly fragmented.  This is usually the result of calling `frame.insert` many times, which has poor performance.  Consider joining all columns at once using pd.concat(axis=1) instead. To get a de-fragmented frame, use `newframe = frame.copy()`\n",
            "  test[col] = 0\n",
            "<ipython-input-688-c316d2b8f1d3>:9: PerformanceWarning: DataFrame is highly fragmented.  This is usually the result of calling `frame.insert` many times, which has poor performance.  Consider joining all columns at once using pd.concat(axis=1) instead. To get a de-fragmented frame, use `newframe = frame.copy()`\n",
            "  test[col] = 0\n",
            "<ipython-input-688-c316d2b8f1d3>:9: PerformanceWarning: DataFrame is highly fragmented.  This is usually the result of calling `frame.insert` many times, which has poor performance.  Consider joining all columns at once using pd.concat(axis=1) instead. To get a de-fragmented frame, use `newframe = frame.copy()`\n",
            "  test[col] = 0\n",
            "<ipython-input-688-c316d2b8f1d3>:9: PerformanceWarning: DataFrame is highly fragmented.  This is usually the result of calling `frame.insert` many times, which has poor performance.  Consider joining all columns at once using pd.concat(axis=1) instead. To get a de-fragmented frame, use `newframe = frame.copy()`\n",
            "  test[col] = 0\n",
            "<ipython-input-688-c316d2b8f1d3>:9: PerformanceWarning: DataFrame is highly fragmented.  This is usually the result of calling `frame.insert` many times, which has poor performance.  Consider joining all columns at once using pd.concat(axis=1) instead. To get a de-fragmented frame, use `newframe = frame.copy()`\n",
            "  test[col] = 0\n",
            "<ipython-input-688-c316d2b8f1d3>:9: PerformanceWarning: DataFrame is highly fragmented.  This is usually the result of calling `frame.insert` many times, which has poor performance.  Consider joining all columns at once using pd.concat(axis=1) instead. To get a de-fragmented frame, use `newframe = frame.copy()`\n",
            "  test[col] = 0\n",
            "<ipython-input-688-c316d2b8f1d3>:9: PerformanceWarning: DataFrame is highly fragmented.  This is usually the result of calling `frame.insert` many times, which has poor performance.  Consider joining all columns at once using pd.concat(axis=1) instead. To get a de-fragmented frame, use `newframe = frame.copy()`\n",
            "  test[col] = 0\n",
            "<ipython-input-688-c316d2b8f1d3>:9: PerformanceWarning: DataFrame is highly fragmented.  This is usually the result of calling `frame.insert` many times, which has poor performance.  Consider joining all columns at once using pd.concat(axis=1) instead. To get a de-fragmented frame, use `newframe = frame.copy()`\n",
            "  test[col] = 0\n",
            "<ipython-input-688-c316d2b8f1d3>:9: PerformanceWarning: DataFrame is highly fragmented.  This is usually the result of calling `frame.insert` many times, which has poor performance.  Consider joining all columns at once using pd.concat(axis=1) instead. To get a de-fragmented frame, use `newframe = frame.copy()`\n",
            "  test[col] = 0\n",
            "<ipython-input-688-c316d2b8f1d3>:9: PerformanceWarning: DataFrame is highly fragmented.  This is usually the result of calling `frame.insert` many times, which has poor performance.  Consider joining all columns at once using pd.concat(axis=1) instead. To get a de-fragmented frame, use `newframe = frame.copy()`\n",
            "  test[col] = 0\n",
            "<ipython-input-688-c316d2b8f1d3>:9: PerformanceWarning: DataFrame is highly fragmented.  This is usually the result of calling `frame.insert` many times, which has poor performance.  Consider joining all columns at once using pd.concat(axis=1) instead. To get a de-fragmented frame, use `newframe = frame.copy()`\n",
            "  test[col] = 0\n",
            "<ipython-input-688-c316d2b8f1d3>:9: PerformanceWarning: DataFrame is highly fragmented.  This is usually the result of calling `frame.insert` many times, which has poor performance.  Consider joining all columns at once using pd.concat(axis=1) instead. To get a de-fragmented frame, use `newframe = frame.copy()`\n",
            "  test[col] = 0\n",
            "<ipython-input-688-c316d2b8f1d3>:9: PerformanceWarning: DataFrame is highly fragmented.  This is usually the result of calling `frame.insert` many times, which has poor performance.  Consider joining all columns at once using pd.concat(axis=1) instead. To get a de-fragmented frame, use `newframe = frame.copy()`\n",
            "  test[col] = 0\n",
            "<ipython-input-688-c316d2b8f1d3>:9: PerformanceWarning: DataFrame is highly fragmented.  This is usually the result of calling `frame.insert` many times, which has poor performance.  Consider joining all columns at once using pd.concat(axis=1) instead. To get a de-fragmented frame, use `newframe = frame.copy()`\n",
            "  test[col] = 0\n",
            "<ipython-input-688-c316d2b8f1d3>:9: PerformanceWarning: DataFrame is highly fragmented.  This is usually the result of calling `frame.insert` many times, which has poor performance.  Consider joining all columns at once using pd.concat(axis=1) instead. To get a de-fragmented frame, use `newframe = frame.copy()`\n",
            "  test[col] = 0\n"
          ]
        }
      ]
    },
    {
      "cell_type": "markdown",
      "source": [
        "- Setting the column order same for both train and test."
      ],
      "metadata": {
        "id": "VTSkWSVKjKhp"
      }
    },
    {
      "cell_type": "code",
      "source": [
        "# Storing the column order of train in a variable\n",
        "col_order = train.columns\n",
        "\n",
        "# creating a new variable in which and setting it to test wihich is having the column order of train data.\n",
        "f_test = test[col_order]"
      ],
      "metadata": {
        "execution": {
          "iopub.status.busy": "2024-08-09T19:30:03.647351Z",
          "iopub.execute_input": "2024-08-09T19:30:03.648125Z",
          "iopub.status.idle": "2024-08-09T19:30:03.668993Z",
          "shell.execute_reply.started": "2024-08-09T19:30:03.648089Z",
          "shell.execute_reply": "2024-08-09T19:30:03.667809Z"
        },
        "trusted": true,
        "id": "NSoRWpTjjKhq"
      },
      "execution_count": 689,
      "outputs": []
    },
    {
      "cell_type": "markdown",
      "source": [
        "- Dropping the Crime_Category column from test becasue it was a missing column in test data and it also got created when we ran the for loop."
      ],
      "metadata": {
        "id": "iu8geaPCjKhr"
      }
    },
    {
      "cell_type": "code",
      "source": [
        "f_test.drop(columns=['Crime_Category'],inplace=True)"
      ],
      "metadata": {
        "execution": {
          "iopub.status.busy": "2024-08-09T19:30:07.47231Z",
          "iopub.execute_input": "2024-08-09T19:30:07.472699Z",
          "iopub.status.idle": "2024-08-09T19:30:07.494238Z",
          "shell.execute_reply.started": "2024-08-09T19:30:07.472668Z",
          "shell.execute_reply": "2024-08-09T19:30:07.49285Z"
        },
        "trusted": true,
        "colab": {
          "base_uri": "https://localhost:8080/"
        },
        "id": "B6qzaE4BjKhs",
        "outputId": "06c473de-3bf5-45c7-fbc3-04faa4c194cd"
      },
      "execution_count": 690,
      "outputs": [
        {
          "output_type": "stream",
          "name": "stderr",
          "text": [
            "<ipython-input-690-ff812ae6752a>:1: SettingWithCopyWarning: \n",
            "A value is trying to be set on a copy of a slice from a DataFrame\n",
            "\n",
            "See the caveats in the documentation: https://pandas.pydata.org/pandas-docs/stable/user_guide/indexing.html#returning-a-view-versus-a-copy\n",
            "  f_test.drop(columns=['Crime_Category'],inplace=True)\n"
          ]
        }
      ]
    },
    {
      "cell_type": "code",
      "source": [
        "print(f\"Train Data Shape : {train.shape}\")\n",
        "print(f\"Test Data Shape : {f_test.shape}\")"
      ],
      "metadata": {
        "execution": {
          "iopub.status.busy": "2024-08-09T19:27:45.635653Z",
          "iopub.execute_input": "2024-08-09T19:27:45.636085Z",
          "iopub.status.idle": "2024-08-09T19:27:45.642058Z",
          "shell.execute_reply.started": "2024-08-09T19:27:45.636051Z",
          "shell.execute_reply": "2024-08-09T19:27:45.640731Z"
        },
        "trusted": true,
        "colab": {
          "base_uri": "https://localhost:8080/"
        },
        "id": "4sTOdSKmjKht",
        "outputId": "7f525be9-43b6-4c62-cfa8-8d276488b69b"
      },
      "execution_count": 691,
      "outputs": [
        {
          "output_type": "stream",
          "name": "stdout",
          "text": [
            "Train Data Shape : (20000, 553)\n",
            "Test Data Shape : (5000, 552)\n"
          ]
        }
      ]
    },
    {
      "cell_type": "markdown",
      "source": [
        "# 7. Model Building"
      ],
      "metadata": {
        "id": "5g7GR88FjKht"
      }
    },
    {
      "cell_type": "markdown",
      "source": [
        "- Splitting the train data into x and y.\n",
        "- X will have all the features except the target feature.\n",
        "- Y will have only the target feature."
      ],
      "metadata": {
        "id": "EjB2fXy_jKhv"
      }
    },
    {
      "cell_type": "code",
      "source": [
        "x = train.drop(columns=['Crime_Category'])\n",
        "y = train['Crime_Category']"
      ],
      "metadata": {
        "execution": {
          "iopub.status.busy": "2024-08-09T19:27:49.980671Z",
          "iopub.execute_input": "2024-08-09T19:27:49.981638Z",
          "iopub.status.idle": "2024-08-09T19:27:50.02625Z",
          "shell.execute_reply.started": "2024-08-09T19:27:49.981601Z",
          "shell.execute_reply": "2024-08-09T19:27:50.025137Z"
        },
        "trusted": true,
        "id": "kO357R-HjKhv"
      },
      "execution_count": 692,
      "outputs": []
    },
    {
      "cell_type": "markdown",
      "source": [
        "- Splitting the training data further into x_train, x_test and y_train, y_test so that we can check the acuracy of the model being trained."
      ],
      "metadata": {
        "id": "Prd0eJP4jKhw"
      }
    },
    {
      "cell_type": "code",
      "source": [
        "x_train, x_test, y_train, y_test = train_test_split(x,y,test_size=0.2,random_state=0)"
      ],
      "metadata": {
        "execution": {
          "iopub.status.busy": "2024-08-09T19:27:52.89927Z",
          "iopub.execute_input": "2024-08-09T19:27:52.899786Z",
          "iopub.status.idle": "2024-08-09T19:27:53.004504Z",
          "shell.execute_reply.started": "2024-08-09T19:27:52.899743Z",
          "shell.execute_reply": "2024-08-09T19:27:53.003362Z"
        },
        "trusted": true,
        "id": "JCPBh50YjKhx"
      },
      "execution_count": 693,
      "outputs": []
    },
    {
      "cell_type": "markdown",
      "source": [
        "## 7.1 - Ridge Classifier"
      ],
      "metadata": {
        "id": "tYuXysTdjKhy"
      }
    },
    {
      "cell_type": "code",
      "source": [
        "rc = RidgeClassifier(random_state=0)\n",
        "rc.fit(x_train,y_train)\n",
        "y_pred_rc = rc.predict(x_test)\n",
        "accuracy_rc = accuracy_score(y_test, y_pred_rc)\n",
        "print(accuracy_rc)\n",
        "\n",
        "# Score = 0.921"
      ],
      "metadata": {
        "execution": {
          "iopub.status.busy": "2024-08-09T19:29:23.679196Z",
          "iopub.execute_input": "2024-08-09T19:29:23.680087Z",
          "iopub.status.idle": "2024-08-09T19:29:24.46971Z",
          "shell.execute_reply.started": "2024-08-09T19:29:23.680048Z",
          "shell.execute_reply": "2024-08-09T19:29:24.468135Z"
        },
        "trusted": true,
        "colab": {
          "base_uri": "https://localhost:8080/"
        },
        "id": "I-LcT58GjKhz",
        "outputId": "d900d876-d087-46bd-de7d-16451ea045a6"
      },
      "execution_count": 694,
      "outputs": [
        {
          "output_type": "stream",
          "name": "stdout",
          "text": [
            "0.921\n"
          ]
        }
      ]
    },
    {
      "cell_type": "code",
      "source": [
        "# report = classification_report(y_test, y_pred_rc)\n",
        "# print(report)"
      ],
      "metadata": {
        "id": "xDVZb19KjKhz"
      },
      "execution_count": 695,
      "outputs": []
    },
    {
      "cell_type": "markdown",
      "source": [
        "- Classification Report\n",
        "\n",
        "```\n",
        "                               precision    recall  f1-score   support\n",
        "\n",
        "       Crimes against Persons       0.69      0.44      0.54        41\n",
        "  Crimes against Public Order       0.79      0.73      0.76       344\n",
        "Fraud and White-Collar Crimes       0.92      0.86      0.89       274\n",
        "                 Other Crimes       0.00      0.00      0.00        38\n",
        "              Property Crimes       0.96      0.97      0.97      2386\n",
        "               Violent Crimes       0.88      0.93      0.91       917\n",
        "\n",
        "                     accuracy                           0.92      4000\n",
        "                    macro avg       0.71      0.66      0.68      4000\n",
        "                 weighted avg       0.91      0.92      0.92      4000\n",
        "```"
      ],
      "metadata": {
        "id": "36XXd3zqjKh1"
      }
    },
    {
      "cell_type": "markdown",
      "source": [
        "### 7.1.1 - Ridge Classifier With PCA"
      ],
      "metadata": {
        "id": "ct6fFywLjKh3"
      }
    },
    {
      "cell_type": "code",
      "source": [
        "# ridge_pipe = Pipeline([\n",
        "#                         ('pca', PCA(n_components=0.99)),\n",
        "#                         ('rc', rc)\n",
        "# ])\n",
        "\n",
        "# ridge_pipe.fit(x_train,y_train)\n",
        "# y_pred_ridge_pipe = ridge_pipe.predict(x_test)\n",
        "# acc_ridge_pipe = accuracy_score(y_test, y_pred_ridge_pipe)\n",
        "# print(acc_ridge_pipe)\n",
        "\n",
        "# Score = 0.92"
      ],
      "metadata": {
        "id": "M-J5r-Q-jKh4"
      },
      "execution_count": 696,
      "outputs": []
    },
    {
      "cell_type": "markdown",
      "source": [
        "### 7.1.2 - Ridge Classifier with Hyper Parameter Tuning"
      ],
      "metadata": {
        "id": "yyFLpmHYjKh6"
      }
    },
    {
      "cell_type": "code",
      "source": [
        "# pg_ridge = {\n",
        "#     'rc__alpha': [0.1, 1],\n",
        "#     'rc__max_iter': [1000, 2000],\n",
        "#     'rc__tol': [1e-5, 1e-4, 1e-3],\n",
        "#     'rc__solver': ['lsqr','saga', 'sparse_cg']\n",
        "# }\n",
        "\n",
        "# random_cv = RandomizedSearchCV(estimator=ridge_pipe, param_distributions=pg_ridge, n_iter=20, cv=3, n_jobs=-1, verbose=2)\n",
        "# random_cv.fit(x_train, y_train)\n",
        "# print(f\"train score = {random_cv.best_score_}\")\n",
        "# y_pred_ridge_rcv = random_cv.best_estimator_.predict(x_test)\n",
        "# acc_ridge_rcv = accuracy_score(y_test, y_pred_ridge_rcv)\n",
        "# print(f\"test score = {acc_ridge_rcv}\")\n",
        "\n",
        "# Score = 0.92"
      ],
      "metadata": {
        "id": "wT3qw951jKh7"
      },
      "execution_count": 697,
      "outputs": []
    },
    {
      "cell_type": "markdown",
      "source": [
        "\n",
        "- Ridge Classifier Gave best Result with default values of it's parameters.\n",
        "\n",
        "```\n",
        "Score With Default Values | Score With PCA | Score With Hyper Parameter Tuning\n",
        "0.921                     | 0.920          | 0.920\n",
        "```"
      ],
      "metadata": {
        "id": "YNPlB3ncjKh8"
      }
    },
    {
      "cell_type": "markdown",
      "source": [
        "## 7.2 - LogisticRegression"
      ],
      "metadata": {
        "id": "e8qZV0uEjKh9"
      }
    },
    {
      "cell_type": "code",
      "source": [
        "# lr = LogisticRegression(random_state=0)\n",
        "# lr.fit(x_train,y_train)\n",
        "# y_pred_lr = lr.predict(x_test)\n",
        "# accuracy_lr = accuracy_score(y_test, y_pred_lr)\n",
        "# print(accuracy_lr)\n",
        "\n",
        "# Score = 0.945"
      ],
      "metadata": {
        "id": "XdnWyjD7jKh-"
      },
      "execution_count": 698,
      "outputs": []
    },
    {
      "cell_type": "code",
      "source": [
        "# report = classification_report(y_test, y_pred_lr)\n",
        "# print(report)"
      ],
      "metadata": {
        "id": "7o9wIGDyjKh-"
      },
      "execution_count": 699,
      "outputs": []
    },
    {
      "cell_type": "markdown",
      "source": [
        "- Classification Report\n",
        "\n",
        "```\n",
        "                               precision    recall  f1-score   support\n",
        "\n",
        "         Crimes against Persons       0.65      0.49      0.56        41\n",
        "    Crimes against Public Order       0.82      0.82      0.82       344\n",
        "  Fraud and White-Collar Crimes       0.92      0.95      0.94       274\n",
        "                   Other Crimes       0.45      0.13      0.20        38\n",
        "                Property Crimes       0.98      0.98      0.98      2386\n",
        "                 Violent Crimes       0.92      0.94      0.93       917\n",
        "\n",
        "                       accuracy                           0.94      4000\n",
        "                      macro avg       0.79      0.72      0.74      4000\n",
        "                   weighted avg       0.94      0.94      0.94      4000\n",
        "```\n"
      ],
      "metadata": {
        "id": "azPApCs_jKh_"
      }
    },
    {
      "cell_type": "markdown",
      "source": [
        "### 7.2.1 - Logistic Regression with PCA"
      ],
      "metadata": {
        "id": "viVlmFw3jKiA"
      }
    },
    {
      "cell_type": "code",
      "source": [
        "# logReg_pipe = Pipeline([\n",
        "#           ('pca', PCA(n_components=0.99)),\n",
        "#           ('lr', lr)\n",
        "# ])\n",
        "\n",
        "# logReg_pipe.fit(x_train, y_train)\n",
        "# y_pred_logReg = logReg_pipe.predict(x_test)\n",
        "# acc_lrpipe = accuracy_score(y_test, y_pred_logReg)\n",
        "# print(acc_lrpipe)\n",
        "\n",
        "# Score = 0.94475"
      ],
      "metadata": {
        "id": "7TxD7vg7jKiA"
      },
      "execution_count": 700,
      "outputs": []
    },
    {
      "cell_type": "markdown",
      "source": [
        "### 7.2.2 - Logistic Regression with Hyper Parameter Tuning"
      ],
      "metadata": {
        "id": "azmvSZkcjKiB"
      }
    },
    {
      "cell_type": "code",
      "source": [
        "# pg_logReg = {\n",
        "#     'lr__C' : [0.001, 1000],\n",
        "#     'lr__penalty' : ['l1', 'l2'],\n",
        "#     'lr__solver' : ['lbfgs', 'newton-cg', 'liblinear'],\n",
        "#     'lr__max_iter' : [100,200],\n",
        "#     'lr__class_weight' : [None, 'balanced']\n",
        "# }\n",
        "\n",
        "# random_cv = RandomizedSearchCV(estimator=logReg_pipe, param_distributions=pg_logReg, n_iter=20, cv=3, n_jobs=-1, verbose=2)\n",
        "# random_cv.fit(x_train, y_train)\n",
        "# y_pred_logReg_rcv = random_cv.best_estimator_.predict(x_test)\n",
        "# acc_logReg_rcv = accuracy_score(y_test, y_pred_logReg_rcv)\n",
        "# print(f\"test score = {acc_logReg_rcv}\")\n",
        "\n",
        "# Score = 0.9435"
      ],
      "metadata": {
        "id": "zQNXlRQ2jKiC"
      },
      "execution_count": 701,
      "outputs": []
    },
    {
      "cell_type": "markdown",
      "source": [
        "- Logistic Regression gave best result with default values of it's parameters\n",
        "\n",
        "```\n",
        "Score With Default Values | Score With PCA | Score With Hyper Parameter Tuning\n",
        "0.945                     | 0.94475        | 0.9435\n",
        "```"
      ],
      "metadata": {
        "id": "a6Afhc2vjKiC"
      }
    },
    {
      "cell_type": "markdown",
      "source": [
        "## 7.3 - GradientBoostingClassifier"
      ],
      "metadata": {
        "id": "Zuvjg9GPjKiD"
      }
    },
    {
      "cell_type": "code",
      "source": [
        "# gb = GradientBoostingClassifier(random_state=0)\n",
        "# gb.fit(x_train, y_train)\n",
        "# y_pred_gb = gb.predict(x_test)\n",
        "# accuracy_gb = accuracy_score(y_test, y_pred_gb)\n",
        "# print(accuracy_gb)\n",
        "\n",
        "# Score = 0.95275"
      ],
      "metadata": {
        "id": "FoSUrOHMjKiE"
      },
      "execution_count": 702,
      "outputs": []
    },
    {
      "cell_type": "code",
      "source": [
        "# report = classification_report(y_test, y_pred_gb)\n",
        "# print(report)"
      ],
      "metadata": {
        "id": "4TjfbrpYjKiE"
      },
      "execution_count": 703,
      "outputs": []
    },
    {
      "cell_type": "markdown",
      "source": [
        "- Classification Report\n",
        "\n",
        "```\n",
        "                               precision    recall  f1-score   support\n",
        "\n",
        "       Crimes against Persons       0.62      0.59      0.60        41\n",
        "  Crimes against Public Order       0.82      0.85      0.83       344\n",
        "Fraud and White-Collar Crimes       0.96      0.93      0.94       274\n",
        "                 Other Crimes       0.45      0.24      0.31        38\n",
        "              Property Crimes       0.99      0.99      0.99      2386\n",
        "               Violent Crimes       0.93      0.96      0.94       917\n",
        "\n",
        "                     accuracy                           0.95      4000\n",
        "                    macro avg       0.79      0.76      0.77      4000\n",
        "                 weighted avg       0.95      0.95      0.95      4000\n",
        "\n",
        "```"
      ],
      "metadata": {
        "id": "_OgBadogjKiF"
      }
    },
    {
      "cell_type": "markdown",
      "source": [
        "### 7.3.1 - Gradient Boosting Classifier with PCA"
      ],
      "metadata": {
        "id": "x_0NZR1JjKiH"
      }
    },
    {
      "cell_type": "code",
      "source": [
        "# gb_pipe = Pipeline([\n",
        "#         ('pca', PCA(n_components=0.99)),\n",
        "#         ('gb',gb)\n",
        "# ])\n",
        "\n",
        "# gb_pipe.fit(x_train, y_train)\n",
        "# y_pred_gb_pipe = gb_pipe.predict(x_test)\n",
        "# acc_gb_pipe = accuracy_score(y_test, y_pred_gb_pipe)\n",
        "# print(f\"test score = {acc_gb_pipe}\")\n",
        "\n",
        "# Score = 0.9345"
      ],
      "metadata": {
        "id": "dWzAZ1kIjKiI"
      },
      "execution_count": 704,
      "outputs": []
    },
    {
      "cell_type": "markdown",
      "source": [
        "### 7.3.2 - Gradient Boosting Classifier with Hyper Parameter Tuning"
      ],
      "metadata": {
        "id": "EPV-RVcijKiJ"
      }
    },
    {
      "cell_type": "code",
      "source": [
        "# pg_gb = {\n",
        "#     'n_estimators': [100, 500],\n",
        "#     'learning_rate': [0.01, 0.1],\n",
        "#     'max_depth': [3, 7],\n",
        "#     'min_samples_split': [2, 10],\n",
        "#     'subsample': [0.8, 1.0]\n",
        "# }\n",
        "\n",
        "# random_cv = RandomizedSearchCV(estimator=gb, param_distributions=pg_gb, n_iter=5, cv=3, n_jobs=-1, verbose=2)\n",
        "# random_cv.fit(x_train, y_train)\n",
        "# y_pred_gb_rcv = random_cv.best_estimator_.predict(x_test)\n",
        "# acc_gb_rcv = accuracy_score(y_test, y_pred_gb_rcv)\n",
        "# print(f\"test score = {acc_gb_rcv}\")\n",
        "\n",
        "# Score = 0.944"
      ],
      "metadata": {
        "id": "bR9QgKE6jKiK"
      },
      "execution_count": 705,
      "outputs": []
    },
    {
      "cell_type": "markdown",
      "source": [
        "- Gradient Boosting Classifier gave best result with default values of it's parameters\n",
        "\n",
        "```\n",
        "Score With Default Values | Score With PCA | Score With Hyper Parameter Tuning\n",
        "0.95275                   | 0.9345         | 0.944\n",
        "```"
      ],
      "metadata": {
        "id": "AP9anjAIjKiL"
      }
    },
    {
      "cell_type": "markdown",
      "source": [
        "## 7.4 - RandomForestClassifier\n"
      ],
      "metadata": {
        "id": "Tp73k91gjKiM"
      }
    },
    {
      "cell_type": "code",
      "source": [
        "# rf = RandomForestClassifier(random_state=0)\n",
        "# rf.fit(x_train, y_train)\n",
        "# y_pred_rf = rf.predict(x_test)\n",
        "# accuracy_rf = accuracy_score(y_test, y_pred_rf)\n",
        "# print(accuracy_rf)\n",
        "\n",
        "# Score = 0.94975"
      ],
      "metadata": {
        "id": "zAANibhAjKiM"
      },
      "execution_count": 706,
      "outputs": []
    },
    {
      "cell_type": "code",
      "source": [
        "# report = classification_report(y_test, y_pred_rf)\n",
        "# print(report)"
      ],
      "metadata": {
        "id": "j6w4jTMQjKiN"
      },
      "execution_count": 707,
      "outputs": []
    },
    {
      "cell_type": "markdown",
      "source": [
        "- Classification Report\n",
        "\n",
        "```\n",
        "                               precision    recall  f1-score   support\n",
        "\n",
        "       Crimes against Persons       0.88      0.37      0.52        41\n",
        "  Crimes against Public Order       0.86      0.78      0.82       344\n",
        "Fraud and White-Collar Crimes       0.92      0.96      0.94       274\n",
        "                 Other Crimes       0.33      0.03      0.05        38\n",
        "              Property Crimes       0.99      0.99      0.99      2386\n",
        "               Violent Crimes       0.90      0.97      0.94       917\n",
        "\n",
        "                     accuracy                           0.95      4000\n",
        "                    macro avg       0.81      0.68      0.71      4000\n",
        "                 weighted avg       0.94      0.95      0.94      4000\n",
        "\n",
        "```"
      ],
      "metadata": {
        "id": "Hjmc1HYHjKiO"
      }
    },
    {
      "cell_type": "markdown",
      "source": [
        "### 7.4.1 - Random Forest Classifier with PCA"
      ],
      "metadata": {
        "id": "pO9FDufnjKiP"
      }
    },
    {
      "cell_type": "code",
      "source": [
        "# rf_pipe = Pipeline([\n",
        "#     ('pca', PCA(n_components=0.99)),\n",
        "#     ('rf', rf)\n",
        "# ])\n",
        "\n",
        "# rf_pipe.fit(x_train, y_train)\n",
        "# y_pred_rf_pipe = rf_pipe.predict(x_test)\n",
        "# acc_rf_pipe = accuracy_score(y_test, y_pred_rf_pipe)\n",
        "# print(acc_rf_pipe)\n",
        "\n",
        "# Score = 0.92125"
      ],
      "metadata": {
        "id": "wb_baFa8jKiQ"
      },
      "execution_count": 708,
      "outputs": []
    },
    {
      "cell_type": "markdown",
      "source": [
        "### 7.4.2 - Random Forest Classifier with Hyper Parameter Tuning"
      ],
      "metadata": {
        "id": "EDA_8E69jKiR"
      }
    },
    {
      "cell_type": "code",
      "source": [
        "# pg_rf = {\n",
        "#     'n_estimators': [100, 500],\n",
        "#     'max_depth': [10, None],\n",
        "#     'min_samples_split': [2, 10],\n",
        "#     'min_samples_leaf': [1, 5],\n",
        "#     'max_features': ['sqrt', 'log2']\n",
        "# }\n",
        "\n",
        "# random_cv = RandomizedSearchCV(estimator=rf, param_distributions=pg_rf, n_iter=10, cv=5, verbose=2, random_state=0, n_jobs=-1)\n",
        "# random_cv.fit(x_train, y_train)\n",
        "# y_pred_rf_rcv = random_cv.best_estimator_.predict(x_test)\n",
        "# acc_rf_rcv = accuracy_score(y_test, y_pred_rf_rcv)\n",
        "# print(acc_rf_rcv)\n",
        "\n",
        "# Score = 0.94975"
      ],
      "metadata": {
        "id": "rTbY9qFkjKiS"
      },
      "execution_count": 709,
      "outputs": []
    },
    {
      "cell_type": "markdown",
      "source": [
        "- Random Forest Classifier gave same results with default values of it's parameters and after Hyper Parameter Tuning Both.\n",
        "\n",
        "```\n",
        "Score With Default Values | Score With PCA | Score With Hyper Parameter Tuning\n",
        "0.94975                   | 0.92125        | 0.94975\n",
        "```"
      ],
      "metadata": {
        "id": "p_Y59k5pjKiT"
      }
    },
    {
      "cell_type": "markdown",
      "source": [
        "## 7.5 - DecisionTreeClassifier"
      ],
      "metadata": {
        "id": "XJcNOvX3jKik"
      }
    },
    {
      "cell_type": "code",
      "source": [
        "# dtc = DecisionTreeClassifier(random_state=42)\n",
        "# dtc.fit(x_train, y_train)\n",
        "# y_pred_dtc = dtc.predict(x_test)\n",
        "# accuracy_dtc = accuracy_score(y_test, y_pred_dtc)\n",
        "# print(accuracy_dtc)\n",
        "\n",
        "# Score = 0.936"
      ],
      "metadata": {
        "id": "Uok5a3YijKim"
      },
      "execution_count": 710,
      "outputs": []
    },
    {
      "cell_type": "code",
      "source": [
        "# report = classification_report(y_test, y_pred_dtc)\n",
        "# print(report)"
      ],
      "metadata": {
        "id": "oG3yqkaUjKio"
      },
      "execution_count": 711,
      "outputs": []
    },
    {
      "cell_type": "markdown",
      "source": [
        "- Classification Report\n",
        "\n",
        "```\n",
        "                               precision    recall  f1-score   support\n",
        "\n",
        "       Crimes against Persons       0.56      0.61      0.58        41\n",
        "  Crimes against Public Order       0.80      0.79      0.79       344\n",
        "Fraud and White-Collar Crimes       0.91      0.89      0.90       274\n",
        "                 Other Crimes       0.31      0.37      0.34        38\n",
        "              Property Crimes       0.98      0.98      0.98      2386\n",
        "               Violent Crimes       0.92      0.92      0.92       917\n",
        "\n",
        "                     accuracy                           0.94      4000\n",
        "                    macro avg       0.75      0.76      0.75      4000\n",
        "                 weighted avg       0.94      0.94      0.94      4000\n",
        "\n",
        "```"
      ],
      "metadata": {
        "id": "ApTdrCXdjKiq"
      }
    },
    {
      "cell_type": "markdown",
      "source": [
        "### 7.5.1 - Decision Tree Classifier with PCA"
      ],
      "metadata": {
        "id": "mgW26hYCjKir"
      }
    },
    {
      "cell_type": "code",
      "source": [
        "# dtc_pipe = Pipeline([\n",
        "#     ('pca', PCA(n_components=0.99)),\n",
        "#     ('dtc', dtc)\n",
        "# ])\n",
        "\n",
        "# dtc_pipe.fit(x_train, y_train)\n",
        "# y_pred_dtc_pipe = dtc_pipe.predict(x_test)\n",
        "# acc_dtc_pipe = accuracy_score(y_test, y_pred_dtc_pipe)\n",
        "# print(acc_dtc_pipe)\n",
        "\n",
        "# Score = 0.87225"
      ],
      "metadata": {
        "id": "BZzuHq1djKir"
      },
      "execution_count": 712,
      "outputs": []
    },
    {
      "cell_type": "markdown",
      "source": [
        "### 7.5.2 - Decision Tree Classifier with Hyper Parameter Tuning"
      ],
      "metadata": {
        "id": "bOWfCWbijKis"
      }
    },
    {
      "cell_type": "code",
      "source": [
        "# pg_dtc = {\n",
        "#     'max_depth': [10, 20, 50],\n",
        "#     'min_samples_split': [2, 10, 20],\n",
        "#     'min_samples_leaf': [1, 5, 10],\n",
        "#     'max_features': ['sqrt', 'log2'],\n",
        "#     'criterion': ['gini', 'entropy', 'log_loss']\n",
        "# }\n",
        "\n",
        "# random_cv = RandomizedSearchCV(estimator=dtc, param_distributions=pg_dtc, n_jobs=-1, cv=5, n_iter=20, random_state=0, verbose=2)\n",
        "# random_cv.fit(x_train,y_train)\n",
        "# y_pred_dtc_rcv = random_cv.best_estimator_.predict(x_test)\n",
        "# acc_dtc_rcv = accuracy_score(y_test, y_pred_dtc_rcv)\n",
        "# print(acc_dtc_rcv)\n",
        "\n",
        "# Score = 0.89075"
      ],
      "metadata": {
        "id": "ESU9zjWJjKit"
      },
      "execution_count": 713,
      "outputs": []
    },
    {
      "cell_type": "markdown",
      "source": [
        "- Decision Tree Classifier gave best results with default values of it's parameters.\n",
        "\n",
        "```\n",
        "Score With Default Values | Score With PCA | Score With Hyper Parameter Tuning\n",
        "0.936                     | 0.87225        | 0.89075\n",
        "```"
      ],
      "metadata": {
        "id": "pVvn_5uojKiv"
      }
    },
    {
      "cell_type": "markdown",
      "source": [
        "## 7.6 - SGDClassifier"
      ],
      "metadata": {
        "id": "tipVt3x6jKiw"
      }
    },
    {
      "cell_type": "code",
      "source": [
        "# sgd = SGDClassifier(random_state=0)\n",
        "# sgd.fit(x_train, y_train)\n",
        "# y_pred_sgd = sgd.predict(x_test)\n",
        "# asgd = accuracy_score(y_test, y_pred_sgd)\n",
        "# print(asgd)\n",
        "\n",
        "# Score = 0.945"
      ],
      "metadata": {
        "id": "rrPXwW7ojKix"
      },
      "execution_count": 714,
      "outputs": []
    },
    {
      "cell_type": "code",
      "source": [
        "# report = classification_report(y_test, y_pred_sgd)\n",
        "# print(report)"
      ],
      "metadata": {
        "id": "fbgGHFcyjKiy"
      },
      "execution_count": 715,
      "outputs": []
    },
    {
      "cell_type": "markdown",
      "source": [
        "- Classification Report\n",
        "\n",
        "```\n",
        "                               precision    recall  f1-score   support\n",
        "\n",
        "       Crimes against Persons       0.73      0.46      0.57        41\n",
        "  Crimes against Public Order       0.81      0.83      0.82       344\n",
        "Fraud and White-Collar Crimes       0.95      0.94      0.94       274\n",
        "                 Other Crimes       0.40      0.05      0.09        38\n",
        "              Property Crimes       0.98      0.98      0.98      2386\n",
        "               Violent Crimes       0.91      0.95      0.93       917\n",
        "\n",
        "                     accuracy                           0.94      4000\n",
        "                    macro avg       0.80      0.70      0.72      4000\n",
        "                 weighted avg       0.94      0.94      0.94      4000\n",
        "\n",
        "```"
      ],
      "metadata": {
        "id": "oy8T6Uq2jKiz"
      }
    },
    {
      "cell_type": "markdown",
      "source": [
        "### 7.6.1 - SGD Classifier with PCA"
      ],
      "metadata": {
        "id": "c14eAus2jKi1"
      }
    },
    {
      "cell_type": "code",
      "source": [
        "# sgd_pipe = Pipeline([\n",
        "#     ('pca',PCA(n_components=0.99)),\n",
        "#     ('sgd',sgd)\n",
        "# ])\n",
        "\n",
        "# sgd_pipe.fit(x_train, y_train)\n",
        "# y_pred_sgd_pipe = sgd_pipe.predict(x_test)\n",
        "# acc_sgd_pipe = accuracy_score(y_test, y_pred_sgd_pipe)\n",
        "# print(acc_sgd_pipe)\n",
        "\n",
        "# Score = 0.94325"
      ],
      "metadata": {
        "id": "Rlvm9s9UjKi2"
      },
      "execution_count": 716,
      "outputs": []
    },
    {
      "cell_type": "markdown",
      "source": [
        "### 7.6.2 - SGD Classifier with Hyper Parameter Tuning"
      ],
      "metadata": {
        "id": "tJkDkPQrjKi3"
      }
    },
    {
      "cell_type": "code",
      "source": [
        "# pg_sgd = {\n",
        "#     'learning_rate': ['constant', 'optimal', 'invscaling', 'adaptive'],\n",
        "#     'eta0': [0.01, 0.1, 0.5],\n",
        "#     'alpha': [0.0001, 0.01],\n",
        "#     'max_iter': [1000, 5000],\n",
        "#     'penalty': ['l2', 'l1']\n",
        "# }\n",
        "\n",
        "# random_cv = RandomizedSearchCV(estimator=sgd, param_distributions=pg_sgd, cv=5, n_iter=10, verbose=2, random_state=0, scoring='accuracy')\n",
        "# random_cv.fit(x_train,y_train)\n",
        "# y_pred_sgd_rcv = random_cv.best_estimator_.predict(x_test)\n",
        "# acc_sgd_rcv = accuracy_score(y_test, y_pred_sgd_rcv)\n",
        "# print(acc_sgd_rcv)\n",
        "\n",
        "# Score = 0.94025"
      ],
      "metadata": {
        "id": "Z2B7WIWkjKi4"
      },
      "execution_count": 717,
      "outputs": []
    },
    {
      "cell_type": "markdown",
      "source": [
        "- SGD Classifier gave best results with default values of it's parameters.\n",
        "\n",
        "```\n",
        "Score With Default Values | Score With PCA | Score With Hyper Parameter Tuning\n",
        "0.945                     | 0.94325        | 0.94025\n",
        "```"
      ],
      "metadata": {
        "id": "RVcekZxijKi5"
      }
    },
    {
      "cell_type": "markdown",
      "source": [
        "## 7.7 - BaggingClassifier"
      ],
      "metadata": {
        "id": "EMqIFH0XjKi6"
      }
    },
    {
      "cell_type": "code",
      "source": [
        "# bc = BaggingClassifier(random_state=0)\n",
        "# bc.fit(x_train, y_train)\n",
        "# yp_bc = bc.predict(x_test)\n",
        "# a_bc = accuracy_score(y_test, yp_bc)\n",
        "# print(a_bc)\n",
        "\n",
        "# Score = 0.95125"
      ],
      "metadata": {
        "id": "9y3qtQbrjKi6"
      },
      "execution_count": 718,
      "outputs": []
    },
    {
      "cell_type": "code",
      "source": [
        "# report = classification_report(y_test, yp_bc)\n",
        "# print(report)"
      ],
      "metadata": {
        "id": "nRaFtvp-jKi6"
      },
      "execution_count": 719,
      "outputs": []
    },
    {
      "cell_type": "markdown",
      "source": [
        "- Classification Report\n",
        "\n",
        "```\n",
        "                               precision    recall  f1-score   support\n",
        "\n",
        "       Crimes against Persons       0.57      0.59      0.58        41\n",
        "  Crimes against Public Order       0.80      0.89      0.84       344\n",
        "Fraud and White-Collar Crimes       0.94      0.92      0.93       274\n",
        "                 Other Crimes       0.53      0.21      0.30        38\n",
        "              Property Crimes       0.99      0.99      0.99      2386\n",
        "               Violent Crimes       0.94      0.94      0.94       917\n",
        "\n",
        "                     accuracy                           0.95      4000\n",
        "                    macro avg       0.79      0.76      0.76      4000\n",
        "                 weighted avg       0.95      0.95      0.95      4000\n",
        "\n",
        "```"
      ],
      "metadata": {
        "id": "6Z-1NdoijKi6"
      }
    },
    {
      "cell_type": "markdown",
      "source": [
        "### 7.7.1 - Bagging Classifier with PCA"
      ],
      "metadata": {
        "id": "Yw_H7a25jKi6"
      }
    },
    {
      "cell_type": "code",
      "source": [
        "# bc_pipe = Pipeline([\n",
        "#     ('pca',PCA(n_components=0.99)),\n",
        "#     ('bc',bc)\n",
        "# ])\n",
        "\n",
        "# bc_pipe.fit(x_train, y_train)\n",
        "# y_pred_bc_pipe = bc_pipe.predict(x_test)\n",
        "# acc_bc_pipe = accuracy_score(y_test, y_pred_bc_pipe)\n",
        "# print(acc_bc_pipe)\n",
        "\n",
        "# Score = 0.91475"
      ],
      "metadata": {
        "id": "uYl5hcqJjKi7"
      },
      "execution_count": 720,
      "outputs": []
    },
    {
      "cell_type": "markdown",
      "source": [
        "### 7.7.2 - Bagging Classifier with Hyper Parameter Tuning"
      ],
      "metadata": {
        "id": "B8JznU06jKi7"
      }
    },
    {
      "cell_type": "code",
      "source": [
        "# pg_bc = {\n",
        "#     'n_estimators': [50, 100, 200],\n",
        "#     'max_samples': [0.5, 0.8, 1.0],\n",
        "#     'max_features': [0.5, 0.8, 1.0],\n",
        "#     'bootstrap': [True, False],\n",
        "#     'bootstrap_features': [True, False],\n",
        "#     'oob_score': [True, False]\n",
        "# }\n",
        "\n",
        "# random_cv = RandomizedSearchCV(estimator=bc, param_distributions=pg_bc, cv=5, n_iter=10, verbose=3, random_state=0, n_jobs=-1, scoring='accuracy')\n",
        "# random_cv.fit(x_train,y_train)\n",
        "# y_pred_bc_rcv = random_cv.best_estimator_.predict(x_test)\n",
        "# acc_bc_rcv = accuracy_score(y_test, y_pred_bc_rcv)\n",
        "\n",
        "# Score = 0.95425"
      ],
      "metadata": {
        "id": "4PUuuGMkjKi7"
      },
      "execution_count": 721,
      "outputs": []
    },
    {
      "cell_type": "markdown",
      "source": [
        "- Bagging Classifier gave best results with it's parameters tuned.\n",
        "\n",
        "```\n",
        "Score With Default Values | Score With PCA | Score With Hyper Parameter Tuning\n",
        "0.95125                   | 0.91475        | 0.95425\n",
        "```"
      ],
      "metadata": {
        "id": "MQKX3PJgjKi8"
      }
    },
    {
      "cell_type": "markdown",
      "source": [
        "## 7.8 - ExtraTreesClassifier"
      ],
      "metadata": {
        "id": "DKafL50UjKi8"
      }
    },
    {
      "cell_type": "code",
      "source": [
        "# etc = ExtraTreesClassifier(random_state=0)\n",
        "# etc.fit(x_train, y_train)\n",
        "# ypetc = etc.predict(x_test)\n",
        "# aetc = accuracy_score(y_test, ypetc)\n",
        "# print(aetc)\n",
        "\n",
        "# Score = 0.95275"
      ],
      "metadata": {
        "id": "GdIe2NfYjKi8"
      },
      "execution_count": 722,
      "outputs": []
    },
    {
      "cell_type": "code",
      "source": [
        "# report = classification_report(y_test, ypetc)\n",
        "# print(report)"
      ],
      "metadata": {
        "id": "YJNhhov0jKi8"
      },
      "execution_count": 723,
      "outputs": []
    },
    {
      "cell_type": "markdown",
      "source": [
        "- Classification Report\n",
        "\n",
        "```\n",
        "                               precision    recall  f1-score   support\n",
        "\n",
        "       Crimes against Persons       0.82      0.34      0.48        41\n",
        "  Crimes against Public Order       0.82      0.82      0.82       344\n",
        "Fraud and White-Collar Crimes       0.94      0.93      0.94       274\n",
        "                 Other Crimes       0.83      0.13      0.23        38\n",
        "              Property Crimes       0.99      0.99      0.99      2386\n",
        "               Violent Crimes       0.90      0.97      0.94       917\n",
        "\n",
        "                     accuracy                           0.95      4000\n",
        "                    macro avg       0.89      0.70      0.73      4000\n",
        "                 weighted avg       0.95      0.95      0.95      4000\n",
        "\n",
        "```"
      ],
      "metadata": {
        "id": "iirGDo2IjKi8"
      }
    },
    {
      "cell_type": "markdown",
      "source": [
        "### 7.8.1 - Extra Tree Classifier with PCA"
      ],
      "metadata": {
        "id": "qf2JmnSHjKi9"
      }
    },
    {
      "cell_type": "code",
      "source": [
        "# etc_pipe = Pipeline([\n",
        "#     ('pca',PCA(n_components=0.99)),\n",
        "#     ('etc',etc)\n",
        "# ])\n",
        "\n",
        "# etc_pipe.fit(x_train, y_train)\n",
        "# y_pred_etc_pipe = etc_pipe.predict(x_test)\n",
        "# acc_etc_pipe = accuracy_score(y_test, y_pred_etc_pipe)\n",
        "# print(acc_etc_pipe)\n",
        "\n",
        "# Score = 0.9275"
      ],
      "metadata": {
        "id": "Y7303SkwjKi9"
      },
      "execution_count": 724,
      "outputs": []
    },
    {
      "cell_type": "markdown",
      "source": [
        "### 7.8.2 - Extra Tree Classifier with Hyper Parameter Tuning"
      ],
      "metadata": {
        "id": "oJRF4tIkjKi9"
      }
    },
    {
      "cell_type": "code",
      "source": [
        "# pg_etc = {\n",
        "#     'n_estimators': [50, 200, 500],\n",
        "#     'max_depth': [None, 10, 50],\n",
        "#     'min_samples_split': [2, 10, 20],\n",
        "#     'min_samples_leaf': [1, 5, 10],\n",
        "#     'max_features': ['sqrt', 0.5, None]\n",
        "# }\n",
        "# random_cv = RandomizedSearchCV(estimator=etc, param_distributions=pg_etc, cv=3, n_iter=10, verbose=2, n_jobs=-1, random_state=0, scoring='accuracy')\n",
        "# random_cv.fit(x_train, y_train)\n",
        "# y_pred_etc_rcv = random_cv.best_estimator_.predict(x_test)\n",
        "# acc_etc_rcv = accuracy_score(y_test, y_pred_etc_rcv)\n",
        "# print(acc_etc_rcv)\n",
        "\n",
        "# Score = 0.95275"
      ],
      "metadata": {
        "id": "fjPirepTjKi9"
      },
      "execution_count": 725,
      "outputs": []
    },
    {
      "cell_type": "markdown",
      "source": [
        "- Extra Tree Classifier gave same results with it's parameters values as default and with its hyper parameters tuned.\n",
        "\n",
        "```\n",
        "Score With Default Values | Score With PCA | Score With Hyper Parameter Tuning\n",
        "0.95275                   | 0.9275         | 0.95275\n",
        "```"
      ],
      "metadata": {
        "id": "qI9gygsvjKi-"
      }
    },
    {
      "cell_type": "markdown",
      "source": [
        "## 7.9 - XGBClassifier"
      ],
      "metadata": {
        "id": "UVYRt5VljKi-"
      }
    },
    {
      "cell_type": "code",
      "source": [
        "# label_encoder = LabelEncoder()\n",
        "# ye_train = pd.Series(label_encoder.fit_transform(y_train))\n",
        "# ye_test = pd.Series(label_encoder.fit_transform(y_test))\n",
        "\n",
        "# xgbc = xgb.XGBClassifier(random_state=0)\n",
        "# xgbc.fit(x_train, ye_train)\n",
        "# yp_xgbc = xgbc.predict(x_test)\n",
        "# acc = accuracy_score(ye_test, yp_xgbc)\n",
        "# print(acc)\n",
        "\n",
        "# Score = 0.95675"
      ],
      "metadata": {
        "id": "n3Tht7d8jKi_"
      },
      "execution_count": 726,
      "outputs": []
    },
    {
      "cell_type": "code",
      "source": [
        "# for i in range(len(label_encoder.classes_)):\n",
        "#   print(f\"{i} = {label_encoder.classes_[i]}\")"
      ],
      "metadata": {
        "id": "SmjgCROWjKi_"
      },
      "execution_count": 727,
      "outputs": []
    },
    {
      "cell_type": "code",
      "source": [
        "# report = classification_report(ye_test, yp_xgbc)\n",
        "# print(report)"
      ],
      "metadata": {
        "id": "Wi8KH8cfjKi_"
      },
      "execution_count": 728,
      "outputs": []
    },
    {
      "cell_type": "markdown",
      "source": [
        "- Classification Report\n",
        "\n",
        "```\n",
        "                                   precision    recall  f1-score   support\n",
        "\n",
        "           Crimes against Persons       0.68      0.61      0.64        41\n",
        "      Crimes against Public Order       0.84      0.88      0.86       344\n",
        "    Fraus and White-Collar Crimes       0.95      0.96      0.95       274\n",
        "                     Other Crimes       0.54      0.18      0.27        38\n",
        "                  Property Crimes       0.99      0.99      0.99      2386\n",
        "                   Violent Crimes       0.93      0.96      0.94       917\n",
        "\n",
        "                         accuracy                           0.96      4000\n",
        "                        macro avg       0.82      0.76      0.78      4000\n",
        "                     weighted avg       0.95      0.96      0.95      4000\n",
        "\n",
        "```"
      ],
      "metadata": {
        "id": "A3zHYpwejKjA"
      }
    },
    {
      "cell_type": "markdown",
      "source": [
        "### 7.9.1 - XGBoost Classifier with PCA"
      ],
      "metadata": {
        "id": "SjbGbm6GjKjA"
      }
    },
    {
      "cell_type": "code",
      "source": [
        "# xgb_pipe = Pipeline([\n",
        "#     ('pca',PCA(n_components=0.99)),\n",
        "#     ('xgb',xgbc)\n",
        "\n",
        "# ])\n",
        "\n",
        "# xgb_pipe.fit(x_train, ye_train)\n",
        "# y_pred_xgb_pipe = xgb_pipe.predict(x_test)\n",
        "# acc_xgb_pipe = accuracy_score(ye_test, y_pred_xgb_pipe)\n",
        "# print(acc_xgb_pipe)\n",
        "\n",
        "#Score = 0.9495"
      ],
      "metadata": {
        "id": "QA8LlLbYjKjA"
      },
      "execution_count": 729,
      "outputs": []
    },
    {
      "cell_type": "markdown",
      "source": [
        "### 7.9.2 - XGBoost Classifier with Hyper Parameter Tuning"
      ],
      "metadata": {
        "id": "pL12xuQqjKjB"
      }
    },
    {
      "cell_type": "code",
      "source": [
        "# pg_xgb = {\n",
        "#     'n_estimators': [100, 200, 500],\n",
        "#     'learning_rate': [0.01, 0.1, 0.3],\n",
        "#     'max_depth': [3, 6, 10],\n",
        "#     'subsample': [0.7, 0.8, 0.9],\n",
        "#     'colsample_bytree': [0.7, 0.8, 0.9],\n",
        "#     'gamma': [0, 0.1, 1]\n",
        "# }\n",
        "\n",
        "# random_cv = RandomizedSearchCV(estimator=xgbc, param_distributions=pg_xgb, cv=3, n_iter=5, verbose=2, n_jobs=-1, scoring='accuracy', random_state=0)\n",
        "# random_cv.fit(x_train, ye_train)\n",
        "# y_pred_xgb_rcv = random_cv.best_estimator_.predict(x_test)\n",
        "# acc_xgb_rcv = accuracy_score(ye_test, y_pred_xgb_rcv)\n",
        "# print(acc_xgb_rcv)\n",
        "\n",
        "# Score = 0.9565"
      ],
      "metadata": {
        "id": "ZrY15SXSjKjB"
      },
      "execution_count": 730,
      "outputs": []
    },
    {
      "cell_type": "markdown",
      "source": [
        "- XGBoost Classifier gave best result with it's parameters values as default.\n",
        "\n",
        "```\n",
        "Score With Default Values | Score With PCA | Score With Hyper Parameter Tuning\n",
        "0.95675                   | 0.9495         | 0.9565\n",
        "```"
      ],
      "metadata": {
        "id": "3LuV8xlOjKjC"
      }
    },
    {
      "cell_type": "markdown",
      "source": [
        "## 7.10 - LightGBMClassifier"
      ],
      "metadata": {
        "id": "rZJ6rf8hjKjC"
      }
    },
    {
      "cell_type": "code",
      "source": [
        "# lgbc = lgb.LGBMClassifier(random_state=42)\n",
        "# lgbc.fit(x_train, y_train)\n",
        "# yp_lgbc = lgbc.predict(x_test)\n",
        "# acc_lgbc = accuracy_score(y_test, yp_lgbc)\n",
        "# print(acc_lgbc)\n",
        "\n",
        "# Score = 0.95775"
      ],
      "metadata": {
        "id": "s2T8GBKTjKjC"
      },
      "execution_count": 731,
      "outputs": []
    },
    {
      "cell_type": "code",
      "source": [
        "# report = classification_report(y_test, yp_lgbc)\n",
        "# print(report)"
      ],
      "metadata": {
        "id": "DxFuE08ijKjC"
      },
      "execution_count": 732,
      "outputs": []
    },
    {
      "cell_type": "markdown",
      "source": [
        "- Classification Report\n",
        "\n",
        "```\n",
        "                               precision    recall  f1-score   support\n",
        "\n",
        "       Crimes against Persons       0.63      0.66      0.64        41\n",
        "  Crimes against Public Order       0.84      0.89      0.87       344\n",
        "Fraud and White-Collar Crimes       0.96      0.96      0.96       274\n",
        "                 Other Crimes       0.50      0.16      0.24        38\n",
        "              Property Crimes       0.99      0.99      0.99      2386\n",
        "               Violent Crimes       0.94      0.95      0.94       917\n",
        "\n",
        "                     accuracy                           0.96      4000\n",
        "                    macro avg       0.81      0.77      0.77      4000\n",
        "                 weighted avg       0.96      0.96      0.96      4000\n",
        "\n",
        "```"
      ],
      "metadata": {
        "id": "jvtwbp-ejKjD"
      }
    },
    {
      "cell_type": "markdown",
      "source": [
        "### 7.10.1 - LightGBM Classifier with PCA"
      ],
      "metadata": {
        "id": "GtLh3-atjKjD"
      }
    },
    {
      "cell_type": "code",
      "source": [
        "# lgbm_pipe = Pipeline([\n",
        "#     ('pca',PCA(n_components=0.99)),\n",
        "#     ('lgb',lgbc)\n",
        "# ])\n",
        "\n",
        "# lgbm_pipe.fit(x_train, y_train)\n",
        "# y_pred_lgbm_pipe = lgbm_pipe.predict(x_test)\n",
        "# acc_lgbm_pipe = accuracy_score(y_test, y_pred_lgbm_pipe)\n",
        "# print(acc_lgbm_pipe)\n",
        "\n",
        "# Score = 0.9505"
      ],
      "metadata": {
        "id": "HmKQEWNxjKjD"
      },
      "execution_count": 733,
      "outputs": []
    },
    {
      "cell_type": "markdown",
      "source": [
        "### 7.10.2 - LightGBM Classifier with Hyper Parameter Tuning"
      ],
      "metadata": {
        "id": "gxaB5yGijKjD"
      }
    },
    {
      "cell_type": "code",
      "source": [
        "# pg_lgbm = {\n",
        "#     'num_leaves': [31, 63, 127],\n",
        "#     'learning_rate': [0.01, 0.05, 0.1],\n",
        "#     'n_estimators': [100, 500, 1000],\n",
        "#     'max_depth': [-1, 10, 20],\n",
        "#     'min_child_samples': [20, 50, 100],\n",
        "#     'subsample': [0.7, 0.8, 1.0]\n",
        "# }\n",
        "\n",
        "# random_cv = RandomizedSearchCV(estimator=lgbc, param_distributions=pg_lgbm, cv=5, n_iter=10, n_jobs=-1, verbose=2, random_state=0, scoring='accuracy')\n",
        "# random_cv.fit(x_train, y_train)\n",
        "# y_pred_lgbm_rcv = random_cv.best_estimator_.predict(x_test)\n",
        "# acc_lgbm_rcv = accuracy_score(y_test, y_pred_lgbm_rcv)\n",
        "# print(acc_lgbm_rcv)\n",
        "\n",
        "# Score = 0.956"
      ],
      "metadata": {
        "id": "K5MQK0sJjKjE"
      },
      "execution_count": 734,
      "outputs": []
    },
    {
      "cell_type": "markdown",
      "source": [
        "- LightGBM Classifier gave best result with it's parameters values as default.\n",
        "\n",
        "```\n",
        "Score With Default Values | Score With PCA | Score With Hyper Parameter Tuning\n",
        "0.95775                   | 0.9505         | 0.956\n",
        "```"
      ],
      "metadata": {
        "id": "ZB1ioc8GjKjE"
      }
    },
    {
      "cell_type": "markdown",
      "source": [
        "- Testing top scoring models on test.csv file."
      ],
      "metadata": {
        "id": "RAgXlDQzjKjE"
      }
    },
    {
      "cell_type": "markdown",
      "source": [
        "## 8.1 - Trying Bagging Classifier on test.csv"
      ],
      "metadata": {
        "id": "FlXZvtaOjKjF"
      }
    },
    {
      "cell_type": "code",
      "source": [
        "# bc_whole_train = BaggingClassifier(base_estimator=DecisionTreeClassifier(), random_state=0)\n",
        "# bc_whole_train.fit(x, y)\n",
        "# y_pred = bc_whole_train.predict(f_test)\n",
        "\n",
        "# Score = 0.93760"
      ],
      "metadata": {
        "execution": {
          "iopub.status.busy": "2024-08-09T19:30:47.636426Z",
          "iopub.execute_input": "2024-08-09T19:30:47.636846Z",
          "iopub.status.idle": "2024-08-09T19:30:52.33594Z",
          "shell.execute_reply.started": "2024-08-09T19:30:47.636818Z",
          "shell.execute_reply": "2024-08-09T19:30:52.334571Z"
        },
        "trusted": true,
        "id": "BIcMBSaUjKjF"
      },
      "execution_count": 735,
      "outputs": []
    },
    {
      "cell_type": "markdown",
      "source": [
        "## 8.2 - Trying LightGBM Classifier on test.csv"
      ],
      "metadata": {
        "id": "rfp5yXz0jKjF"
      }
    },
    {
      "cell_type": "code",
      "source": [
        "# lgbc_whole_train = lgb.LGBMClassifier(random_state=0)\n",
        "# lgbc_whole_train.fit(x, y)\n",
        "# y_pred = lgbc_whole_train.predict(f_test)\n",
        "\n",
        "# Score = 0.95600"
      ],
      "metadata": {
        "id": "hJLZx3vhjKjF"
      },
      "execution_count": 736,
      "outputs": []
    },
    {
      "cell_type": "markdown",
      "source": [
        "## 8.3 - Trying Extra Trees Classifier on test.csv"
      ],
      "metadata": {
        "id": "CobaE3SijKjG"
      }
    },
    {
      "cell_type": "code",
      "source": [
        "# etc_whole_train = ExtraTreesClassifier(random_state=0)\n",
        "# etc_whole_train.fit(x, y)\n",
        "# y_pred = etc_whole_train.predict(f_test)\n",
        "\n",
        "# Score = 0.95080"
      ],
      "metadata": {
        "id": "pv-4no0fjKjG"
      },
      "execution_count": 737,
      "outputs": []
    },
    {
      "cell_type": "markdown",
      "source": [
        "## 8.4 - Trying XGBoost Classifier on test.csv"
      ],
      "metadata": {
        "id": "sINZgPt9jKjG"
      }
    },
    {
      "cell_type": "code",
      "source": [
        "label_encoder_target = LabelEncoder()\n",
        "y_enc = pd.Series(label_encoder_target.fit_transform(y))\n",
        "\n",
        "xgbc_whole_train = xgb.XGBClassifier(random_state=0)\n",
        "xgbc_whole_train.fit(x, y_enc)\n",
        "y_pred_enc = xgbc_whole_train.predict(f_test)\n",
        "\n",
        "y_pred = pd.Series(label_encoder_target.inverse_transform(y_pred_enc))"
      ],
      "metadata": {
        "id": "GcdeMaX6jKjG"
      },
      "execution_count": 640,
      "outputs": []
    }
  ]
}